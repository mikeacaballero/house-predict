{
 "cells": [
  {
   "cell_type": "markdown",
   "metadata": {},
   "source": [
    "# Setup "
   ]
  },
  {
   "cell_type": "code",
   "execution_count": 1,
   "metadata": {},
   "outputs": [
    {
     "data": {
      "text/html": [
       "<div>\n",
       "<style scoped>\n",
       "    .dataframe tbody tr th:only-of-type {\n",
       "        vertical-align: middle;\n",
       "    }\n",
       "\n",
       "    .dataframe tbody tr th {\n",
       "        vertical-align: top;\n",
       "    }\n",
       "\n",
       "    .dataframe thead th {\n",
       "        text-align: right;\n",
       "    }\n",
       "</style>\n",
       "<table border=\"1\" class=\"dataframe\">\n",
       "  <thead>\n",
       "    <tr style=\"text-align: right;\">\n",
       "      <th></th>\n",
       "      <th>LotFrontage</th>\n",
       "      <th>LotArea</th>\n",
       "      <th>YearBuilt</th>\n",
       "      <th>GrLivArea</th>\n",
       "      <th>YrSold</th>\n",
       "      <th>SalePrice</th>\n",
       "      <th>MSZoning_RL</th>\n",
       "      <th>MSZoning_RMH</th>\n",
       "      <th>Alley_NoAccess</th>\n",
       "      <th>LotShape_Regular</th>\n",
       "      <th>...</th>\n",
       "      <th>OpenPorchSF_OpenPorch_Yes</th>\n",
       "      <th>Fence_no_fence</th>\n",
       "      <th>MoSold_peak_months</th>\n",
       "      <th>SaleType_non_deed</th>\n",
       "      <th>SaleCondition_not_normal</th>\n",
       "      <th>IsVinyl_yes</th>\n",
       "      <th>FullBaths_&lt;=1FullBath</th>\n",
       "      <th>FullBaths_&gt;=3FullBaths</th>\n",
       "      <th>HalfBaths_&gt;=1HalfBaths</th>\n",
       "      <th>Enclosed_combined_EnclosedPorch_Yes</th>\n",
       "    </tr>\n",
       "    <tr>\n",
       "      <th>random_id</th>\n",
       "      <th></th>\n",
       "      <th></th>\n",
       "      <th></th>\n",
       "      <th></th>\n",
       "      <th></th>\n",
       "      <th></th>\n",
       "      <th></th>\n",
       "      <th></th>\n",
       "      <th></th>\n",
       "      <th></th>\n",
       "      <th></th>\n",
       "      <th></th>\n",
       "      <th></th>\n",
       "      <th></th>\n",
       "      <th></th>\n",
       "      <th></th>\n",
       "      <th></th>\n",
       "      <th></th>\n",
       "      <th></th>\n",
       "      <th></th>\n",
       "      <th></th>\n",
       "    </tr>\n",
       "  </thead>\n",
       "  <tbody>\n",
       "    <tr>\n",
       "      <th>1</th>\n",
       "      <td>87.0</td>\n",
       "      <td>9246</td>\n",
       "      <td>37</td>\n",
       "      <td>1656</td>\n",
       "      <td>2008</td>\n",
       "      <td>11.813030</td>\n",
       "      <td>1</td>\n",
       "      <td>0</td>\n",
       "      <td>1</td>\n",
       "      <td>0</td>\n",
       "      <td>...</td>\n",
       "      <td>1</td>\n",
       "      <td>1</td>\n",
       "      <td>0</td>\n",
       "      <td>0</td>\n",
       "      <td>0</td>\n",
       "      <td>0</td>\n",
       "      <td>0</td>\n",
       "      <td>0</td>\n",
       "      <td>0</td>\n",
       "      <td>0</td>\n",
       "    </tr>\n",
       "    <tr>\n",
       "      <th>2</th>\n",
       "      <td>60.0</td>\n",
       "      <td>7200</td>\n",
       "      <td>60</td>\n",
       "      <td>1904</td>\n",
       "      <td>2009</td>\n",
       "      <td>11.835009</td>\n",
       "      <td>1</td>\n",
       "      <td>0</td>\n",
       "      <td>1</td>\n",
       "      <td>1</td>\n",
       "      <td>...</td>\n",
       "      <td>0</td>\n",
       "      <td>0</td>\n",
       "      <td>1</td>\n",
       "      <td>0</td>\n",
       "      <td>0</td>\n",
       "      <td>1</td>\n",
       "      <td>0</td>\n",
       "      <td>0</td>\n",
       "      <td>1</td>\n",
       "      <td>1</td>\n",
       "    </tr>\n",
       "  </tbody>\n",
       "</table>\n",
       "<p>2 rows × 70 columns</p>\n",
       "</div>"
      ],
      "text/plain": [
       "           LotFrontage  LotArea  YearBuilt  GrLivArea  YrSold  SalePrice  \\\n",
       "random_id                                                                  \n",
       "1                 87.0     9246         37       1656    2008  11.813030   \n",
       "2                 60.0     7200         60       1904    2009  11.835009   \n",
       "\n",
       "           MSZoning_RL  MSZoning_RMH  Alley_NoAccess  LotShape_Regular  \\\n",
       "random_id                                                                \n",
       "1                    1             0               1                 0   \n",
       "2                    1             0               1                 1   \n",
       "\n",
       "                          ...                   OpenPorchSF_OpenPorch_Yes  \\\n",
       "random_id                 ...                                               \n",
       "1                         ...                                           1   \n",
       "2                         ...                                           0   \n",
       "\n",
       "           Fence_no_fence  MoSold_peak_months  SaleType_non_deed  \\\n",
       "random_id                                                          \n",
       "1                       1                   0                  0   \n",
       "2                       0                   1                  0   \n",
       "\n",
       "           SaleCondition_not_normal  IsVinyl_yes  FullBaths_<=1FullBath  \\\n",
       "random_id                                                                 \n",
       "1                                 0            0                      0   \n",
       "2                                 0            1                      0   \n",
       "\n",
       "           FullBaths_>=3FullBaths  HalfBaths_>=1HalfBaths  \\\n",
       "random_id                                                   \n",
       "1                               0                       0   \n",
       "2                               0                       1   \n",
       "\n",
       "           Enclosed_combined_EnclosedPorch_Yes  \n",
       "random_id                                       \n",
       "1                                            0  \n",
       "2                                            1  \n",
       "\n",
       "[2 rows x 70 columns]"
      ]
     },
     "execution_count": 1,
     "metadata": {},
     "output_type": "execute_result"
    }
   ],
   "source": [
    "# setup random indicies\n",
    "import numpy as np\n",
    "\n",
    "np.random.seed(9)\n",
    "\n",
    "house_ids = range(1,1461)\n",
    "random_id = np.random.choice(house_ids, 1460, replace = False)\n",
    "\n",
    "\n",
    "# load df\n",
    "import pandas as pd\n",
    "df = pd.read_csv(\"../data/train_model.csv\")\n",
    "\n",
    "# randomized index\n",
    "df.drop(columns = ['Unnamed: 0', 'Id'], inplace = True)\n",
    "df['random_id'] = random_id\n",
    "df.set_index('random_id', inplace = True)\n",
    "df.sort_index(inplace=True)\n",
    "df.head(5)\n",
    "\n",
    "# remove outliers\n",
    "df.drop([907, 465], inplace=True)\n",
    "\n",
    "# log transform SalePrice\n",
    "df['SalePrice'] = np.log(df.SalePrice)\n",
    "\n",
    "df.head(2)"
   ]
  },
  {
   "cell_type": "code",
   "execution_count": 2,
   "metadata": {},
   "outputs": [
    {
     "data": {
      "text/html": [
       "<div>\n",
       "<style scoped>\n",
       "    .dataframe tbody tr th:only-of-type {\n",
       "        vertical-align: middle;\n",
       "    }\n",
       "\n",
       "    .dataframe tbody tr th {\n",
       "        vertical-align: top;\n",
       "    }\n",
       "\n",
       "    .dataframe thead th {\n",
       "        text-align: right;\n",
       "    }\n",
       "</style>\n",
       "<table border=\"1\" class=\"dataframe\">\n",
       "  <thead>\n",
       "    <tr style=\"text-align: right;\">\n",
       "      <th></th>\n",
       "      <th>LotFrontage</th>\n",
       "      <th>LotArea</th>\n",
       "      <th>YearBuilt</th>\n",
       "      <th>GrLivArea</th>\n",
       "      <th>YrSold</th>\n",
       "      <th>MSZoning_RL</th>\n",
       "      <th>MSZoning_RMH</th>\n",
       "      <th>Alley_NoAccess</th>\n",
       "      <th>LotShape_Regular</th>\n",
       "      <th>LandContour_Unflat</th>\n",
       "      <th>...</th>\n",
       "      <th>OpenPorchSF_OpenPorch_Yes</th>\n",
       "      <th>Fence_no_fence</th>\n",
       "      <th>MoSold_peak_months</th>\n",
       "      <th>SaleType_non_deed</th>\n",
       "      <th>SaleCondition_not_normal</th>\n",
       "      <th>IsVinyl_yes</th>\n",
       "      <th>FullBaths_&lt;=1FullBath</th>\n",
       "      <th>FullBaths_&gt;=3FullBaths</th>\n",
       "      <th>HalfBaths_&gt;=1HalfBaths</th>\n",
       "      <th>Enclosed_combined_EnclosedPorch_Yes</th>\n",
       "    </tr>\n",
       "  </thead>\n",
       "  <tbody>\n",
       "    <tr>\n",
       "      <th>0</th>\n",
       "      <td>80.0</td>\n",
       "      <td>11622</td>\n",
       "      <td>49</td>\n",
       "      <td>896</td>\n",
       "      <td>2010</td>\n",
       "      <td>0</td>\n",
       "      <td>1</td>\n",
       "      <td>1</td>\n",
       "      <td>1</td>\n",
       "      <td>0</td>\n",
       "      <td>...</td>\n",
       "      <td>0</td>\n",
       "      <td>0</td>\n",
       "      <td>1</td>\n",
       "      <td>0</td>\n",
       "      <td>0</td>\n",
       "      <td>1</td>\n",
       "      <td>1</td>\n",
       "      <td>0</td>\n",
       "      <td>0</td>\n",
       "      <td>1</td>\n",
       "    </tr>\n",
       "    <tr>\n",
       "      <th>1</th>\n",
       "      <td>81.0</td>\n",
       "      <td>14267</td>\n",
       "      <td>52</td>\n",
       "      <td>1329</td>\n",
       "      <td>2010</td>\n",
       "      <td>1</td>\n",
       "      <td>0</td>\n",
       "      <td>1</td>\n",
       "      <td>0</td>\n",
       "      <td>0</td>\n",
       "      <td>...</td>\n",
       "      <td>1</td>\n",
       "      <td>1</td>\n",
       "      <td>1</td>\n",
       "      <td>0</td>\n",
       "      <td>0</td>\n",
       "      <td>0</td>\n",
       "      <td>1</td>\n",
       "      <td>0</td>\n",
       "      <td>1</td>\n",
       "      <td>0</td>\n",
       "    </tr>\n",
       "  </tbody>\n",
       "</table>\n",
       "<p>2 rows × 69 columns</p>\n",
       "</div>"
      ],
      "text/plain": [
       "   LotFrontage  LotArea  YearBuilt  GrLivArea  YrSold  MSZoning_RL  \\\n",
       "0         80.0    11622         49        896    2010            0   \n",
       "1         81.0    14267         52       1329    2010            1   \n",
       "\n",
       "   MSZoning_RMH  Alley_NoAccess  LotShape_Regular  LandContour_Unflat  \\\n",
       "0             1               1                 1                   0   \n",
       "1             0               1                 0                   0   \n",
       "\n",
       "                  ...                   OpenPorchSF_OpenPorch_Yes  \\\n",
       "0                 ...                                           0   \n",
       "1                 ...                                           1   \n",
       "\n",
       "   Fence_no_fence  MoSold_peak_months  SaleType_non_deed  \\\n",
       "0               0                   1                  0   \n",
       "1               1                   1                  0   \n",
       "\n",
       "   SaleCondition_not_normal  IsVinyl_yes  FullBaths_<=1FullBath  \\\n",
       "0                         0            1                      1   \n",
       "1                         0            0                      1   \n",
       "\n",
       "   FullBaths_>=3FullBaths  HalfBaths_>=1HalfBaths  \\\n",
       "0                       0                       0   \n",
       "1                       0                       1   \n",
       "\n",
       "   Enclosed_combined_EnclosedPorch_Yes  \n",
       "0                                    1  \n",
       "1                                    0  \n",
       "\n",
       "[2 rows x 69 columns]"
      ]
     },
     "execution_count": 2,
     "metadata": {},
     "output_type": "execute_result"
    }
   ],
   "source": [
    "#Import and prep test data\n",
    "df_test_X = pd.read_csv(\"../data/test_model.csv\")\n",
    "df_test = df_test_X.copy()\n",
    "df_test_ids = df_test.Id\n",
    "df_test.drop(columns = ['Unnamed: 0', 'Id'], inplace = True)\n",
    "df_test.head(2)"
   ]
  },
  {
   "cell_type": "markdown",
   "metadata": {},
   "source": [
    "# Model 1: Saturated/Full\n",
    "This model generates a coefficient for all features. We anticipate this to be an ovefit model but is a starting point to evaluate the efficacy of our feature engineering efforts."
   ]
  },
  {
   "cell_type": "code",
   "execution_count": 3,
   "metadata": {},
   "outputs": [],
   "source": [
    "from sklearn import linear_model\n",
    "ols = linear_model.LinearRegression()\n",
    "\n",
    "# Fit model using full training set\n",
    "X_train = df.drop(['SalePrice'], axis = 1)\n",
    "y_train = df.SalePrice"
   ]
  },
  {
   "cell_type": "markdown",
   "metadata": {},
   "source": [
    "### Predicting SalePrice in test df using Saturated Linear Model"
   ]
  },
  {
   "cell_type": "code",
   "execution_count": 4,
   "metadata": {},
   "outputs": [
    {
     "name": "stdout",
     "output_type": "stream",
     "text": [
      "Model_1 printed!\n"
     ]
    }
   ],
   "source": [
    "#fit and predict\n",
    "ols.fit(X_train, y_train)\n",
    "predict1 = np.exp(ols.predict(df_test)).round()\n",
    "\n",
    "#ship for scoring\n",
    "model_1_submission = pd.DataFrame({'Id' : df_test_ids,\n",
    "                                   'SalePrice' : predict1})\n",
    "model_1_submission\n",
    "model_1_submission.to_csv(\"../predictions/model_1_submission.csv\", index = False)\n",
    "print(\"Model_1 printed!\")"
   ]
  },
  {
   "cell_type": "markdown",
   "metadata": {},
   "source": [
    "### Kaggle result\n",
    "RMSE: 0.13825  \n",
    "Rank: 2081"
   ]
  },
  {
   "cell_type": "markdown",
   "metadata": {},
   "source": [
    "# Model 2: Agressive Univariate (KBest, f_regressor) Feature Selection\n",
    "First attempt at stepwise feature selection. There appeared to be 2 inflection points in the KBest iterative feature figure. Model 2 (agressively) seeks a parsimonious model by selecting for 28 features in these first 2 regions."
   ]
  },
  {
   "cell_type": "code",
   "execution_count": 5,
   "metadata": {},
   "outputs": [],
   "source": [
    "import sklearn.feature_selection as fs\n",
    "\n",
    "#setup stepwise selection using KBest, f_regression\n",
    "k28_features = fs.SelectKBest(fs.f_regression, k=28)\n",
    "k28_features.fit(X_train, y_train)\n",
    "\n",
    "#grab column indicies for best 28\n",
    "idxs = k28_features.get_support(indices=True).tolist()\n",
    "idxs = [0] + idxs # don't forget constant"
   ]
  },
  {
   "cell_type": "markdown",
   "metadata": {},
   "source": [
    "### Predicting SalePrice in test df using Univarate Feature Selection"
   ]
  },
  {
   "cell_type": "code",
   "execution_count": 6,
   "metadata": {},
   "outputs": [
    {
     "data": {
      "text/html": [
       "<div>\n",
       "<style scoped>\n",
       "    .dataframe tbody tr th:only-of-type {\n",
       "        vertical-align: middle;\n",
       "    }\n",
       "\n",
       "    .dataframe tbody tr th {\n",
       "        vertical-align: top;\n",
       "    }\n",
       "\n",
       "    .dataframe thead th {\n",
       "        text-align: right;\n",
       "    }\n",
       "</style>\n",
       "<table border=\"1\" class=\"dataframe\">\n",
       "  <thead>\n",
       "    <tr style=\"text-align: right;\">\n",
       "      <th></th>\n",
       "      <th>LotFrontage</th>\n",
       "      <th>LotFrontage</th>\n",
       "      <th>YearBuilt</th>\n",
       "      <th>GrLivArea</th>\n",
       "      <th>MSZoning_RMH</th>\n",
       "      <th>Neighborhood_NAmes</th>\n",
       "      <th>OverallQual_HighQ</th>\n",
       "      <th>OverallQual_LowQ</th>\n",
       "      <th>MasVnrType_no_masvnr</th>\n",
       "      <th>ExterQual_low</th>\n",
       "      <th>...</th>\n",
       "      <th>FireplaceQu_OthFireplace</th>\n",
       "      <th>GarageType_Detached</th>\n",
       "      <th>GarageFinish_GarageUnf</th>\n",
       "      <th>GarageCars_1.0</th>\n",
       "      <th>GarageCars_AtLeast3</th>\n",
       "      <th>GarageQual_GarageQual_not_good</th>\n",
       "      <th>GarageCond_GarageCond_not_good</th>\n",
       "      <th>OpenPorchSF_OpenPorch_Yes</th>\n",
       "      <th>FullBaths_&lt;=1FullBath</th>\n",
       "      <th>FullBaths_&gt;=3FullBaths</th>\n",
       "    </tr>\n",
       "  </thead>\n",
       "  <tbody>\n",
       "    <tr>\n",
       "      <th>0</th>\n",
       "      <td>80.0</td>\n",
       "      <td>80.0</td>\n",
       "      <td>49</td>\n",
       "      <td>896</td>\n",
       "      <td>1</td>\n",
       "      <td>0</td>\n",
       "      <td>0</td>\n",
       "      <td>0</td>\n",
       "      <td>1</td>\n",
       "      <td>1</td>\n",
       "      <td>...</td>\n",
       "      <td>1</td>\n",
       "      <td>0</td>\n",
       "      <td>1</td>\n",
       "      <td>1</td>\n",
       "      <td>0</td>\n",
       "      <td>0</td>\n",
       "      <td>0</td>\n",
       "      <td>0</td>\n",
       "      <td>1</td>\n",
       "      <td>0</td>\n",
       "    </tr>\n",
       "    <tr>\n",
       "      <th>1</th>\n",
       "      <td>81.0</td>\n",
       "      <td>81.0</td>\n",
       "      <td>52</td>\n",
       "      <td>1329</td>\n",
       "      <td>0</td>\n",
       "      <td>0</td>\n",
       "      <td>0</td>\n",
       "      <td>0</td>\n",
       "      <td>0</td>\n",
       "      <td>1</td>\n",
       "      <td>...</td>\n",
       "      <td>1</td>\n",
       "      <td>0</td>\n",
       "      <td>1</td>\n",
       "      <td>1</td>\n",
       "      <td>0</td>\n",
       "      <td>0</td>\n",
       "      <td>0</td>\n",
       "      <td>1</td>\n",
       "      <td>1</td>\n",
       "      <td>0</td>\n",
       "    </tr>\n",
       "    <tr>\n",
       "      <th>2</th>\n",
       "      <td>74.0</td>\n",
       "      <td>74.0</td>\n",
       "      <td>13</td>\n",
       "      <td>1629</td>\n",
       "      <td>0</td>\n",
       "      <td>1</td>\n",
       "      <td>0</td>\n",
       "      <td>0</td>\n",
       "      <td>1</td>\n",
       "      <td>1</td>\n",
       "      <td>...</td>\n",
       "      <td>1</td>\n",
       "      <td>0</td>\n",
       "      <td>0</td>\n",
       "      <td>0</td>\n",
       "      <td>0</td>\n",
       "      <td>0</td>\n",
       "      <td>0</td>\n",
       "      <td>1</td>\n",
       "      <td>0</td>\n",
       "      <td>0</td>\n",
       "    </tr>\n",
       "    <tr>\n",
       "      <th>3</th>\n",
       "      <td>78.0</td>\n",
       "      <td>78.0</td>\n",
       "      <td>12</td>\n",
       "      <td>1604</td>\n",
       "      <td>0</td>\n",
       "      <td>1</td>\n",
       "      <td>0</td>\n",
       "      <td>0</td>\n",
       "      <td>0</td>\n",
       "      <td>1</td>\n",
       "      <td>...</td>\n",
       "      <td>0</td>\n",
       "      <td>0</td>\n",
       "      <td>0</td>\n",
       "      <td>0</td>\n",
       "      <td>0</td>\n",
       "      <td>0</td>\n",
       "      <td>0</td>\n",
       "      <td>1</td>\n",
       "      <td>0</td>\n",
       "      <td>0</td>\n",
       "    </tr>\n",
       "    <tr>\n",
       "      <th>4</th>\n",
       "      <td>43.0</td>\n",
       "      <td>43.0</td>\n",
       "      <td>18</td>\n",
       "      <td>1280</td>\n",
       "      <td>0</td>\n",
       "      <td>1</td>\n",
       "      <td>1</td>\n",
       "      <td>0</td>\n",
       "      <td>1</td>\n",
       "      <td>0</td>\n",
       "      <td>...</td>\n",
       "      <td>1</td>\n",
       "      <td>0</td>\n",
       "      <td>0</td>\n",
       "      <td>0</td>\n",
       "      <td>0</td>\n",
       "      <td>0</td>\n",
       "      <td>0</td>\n",
       "      <td>1</td>\n",
       "      <td>0</td>\n",
       "      <td>0</td>\n",
       "    </tr>\n",
       "  </tbody>\n",
       "</table>\n",
       "<p>5 rows × 29 columns</p>\n",
       "</div>"
      ],
      "text/plain": [
       "   LotFrontage  LotFrontage  YearBuilt  GrLivArea  MSZoning_RMH  \\\n",
       "0         80.0         80.0         49        896             1   \n",
       "1         81.0         81.0         52       1329             0   \n",
       "2         74.0         74.0         13       1629             0   \n",
       "3         78.0         78.0         12       1604             0   \n",
       "4         43.0         43.0         18       1280             0   \n",
       "\n",
       "   Neighborhood_NAmes  OverallQual_HighQ  OverallQual_LowQ  \\\n",
       "0                   0                  0                 0   \n",
       "1                   0                  0                 0   \n",
       "2                   1                  0                 0   \n",
       "3                   1                  0                 0   \n",
       "4                   1                  1                 0   \n",
       "\n",
       "   MasVnrType_no_masvnr  ExterQual_low           ...            \\\n",
       "0                     1              1           ...             \n",
       "1                     0              1           ...             \n",
       "2                     1              1           ...             \n",
       "3                     0              1           ...             \n",
       "4                     1              0           ...             \n",
       "\n",
       "   FireplaceQu_OthFireplace  GarageType_Detached  GarageFinish_GarageUnf  \\\n",
       "0                         1                    0                       1   \n",
       "1                         1                    0                       1   \n",
       "2                         1                    0                       0   \n",
       "3                         0                    0                       0   \n",
       "4                         1                    0                       0   \n",
       "\n",
       "   GarageCars_1.0  GarageCars_AtLeast3  GarageQual_GarageQual_not_good  \\\n",
       "0               1                    0                               0   \n",
       "1               1                    0                               0   \n",
       "2               0                    0                               0   \n",
       "3               0                    0                               0   \n",
       "4               0                    0                               0   \n",
       "\n",
       "   GarageCond_GarageCond_not_good  OpenPorchSF_OpenPorch_Yes  \\\n",
       "0                               0                          0   \n",
       "1                               0                          1   \n",
       "2                               0                          1   \n",
       "3                               0                          1   \n",
       "4                               0                          1   \n",
       "\n",
       "   FullBaths_<=1FullBath  FullBaths_>=3FullBaths  \n",
       "0                      1                       0  \n",
       "1                      1                       0  \n",
       "2                      0                       0  \n",
       "3                      0                       0  \n",
       "4                      0                       0  \n",
       "\n",
       "[5 rows x 29 columns]"
      ]
     },
     "execution_count": 6,
     "metadata": {},
     "output_type": "execute_result"
    }
   ],
   "source": [
    "df_test.iloc[:,idxs].head(5)"
   ]
  },
  {
   "cell_type": "code",
   "execution_count": 7,
   "metadata": {},
   "outputs": [
    {
     "name": "stdout",
     "output_type": "stream",
     "text": [
      "Model_2 printed!\n"
     ]
    }
   ],
   "source": [
    "#fit and predict\n",
    "ols.fit(X_train.iloc[:,idxs], y_train)\n",
    "\n",
    "predict2 = np.exp(ols.predict(df_test.iloc[:,idxs])).round()\n",
    "\n",
    "model_2_submission = pd.DataFrame({'Id' : df_test_ids,\n",
    "                                  'SalePrice' : predict2})\n",
    "\n",
    "#ship for scoring\n",
    "model_2_submission.to_csv(\"../predictions/model_2_submission.csv\", index = False)\n",
    "print(\"Model_2 printed!\")"
   ]
  },
  {
   "cell_type": "markdown",
   "metadata": {},
   "source": [
    "### Kaggle result\n",
    "RMSE: 0.17350  \n",
    "Rank: n/a, did not improve score"
   ]
  },
  {
   "cell_type": "markdown",
   "metadata": {},
   "source": [
    "# Model 3: LM with Lasso Regularization\n",
    "Based on the univariate model, lasso regularization will drop some number of features that reduces prediction bias.  \n",
    "Model 2 indicated that 28 features was not a good stopping point (based on Kaggle result with holdout RMSE).  \n",
    "How many features will remain after Lasso Regularization?"
   ]
  },
  {
   "cell_type": "code",
   "execution_count": 8,
   "metadata": {},
   "outputs": [
    {
     "data": {
      "text/plain": [
       "Lasso(alpha=0.0011497569953977356, copy_X=True, fit_intercept=True,\n",
       "   max_iter=1000, normalize=False, positive=False, precompute=False,\n",
       "   random_state=9, selection='cyclic', tol=0.0001, warm_start=False)"
      ]
     },
     "execution_count": 8,
     "metadata": {},
     "output_type": "execute_result"
    }
   ],
   "source": [
    "lasso = linear_model.Lasso(random_state=9,alpha=0.0011497569953977356)\n",
    "lasso.fit(X_train, y_train)"
   ]
  },
  {
   "cell_type": "markdown",
   "metadata": {},
   "source": [
    "### Predicting SalePrice in test df using Lasso Regularization"
   ]
  },
  {
   "cell_type": "code",
   "execution_count": 9,
   "metadata": {},
   "outputs": [
    {
     "name": "stdout",
     "output_type": "stream",
     "text": [
      "Model_3 printed!\n"
     ]
    }
   ],
   "source": [
    "predict3 = np.exp(lasso.predict(df_test)).round()\n",
    "model_3_submission = pd.DataFrame({'Id': df_test_ids,\"SalePrice\": predict3})\n",
    "model_3_submission.to_csv(\"../predictions/model_3_submission.csv\", index = False)\n",
    "print(\"Model_3 printed!\")"
   ]
  },
  {
   "cell_type": "markdown",
   "metadata": {},
   "source": [
    "### Kaggle result\n",
    "RMSE:  \n",
    "Rank:  "
   ]
  },
  {
   "cell_type": "markdown",
   "metadata": {},
   "source": [
    "# Model 4: LM with Ridge Regularization\n",
    "Interestingly, lasso regularizaiton did not drop many features.  \n",
    "This suggests that many, now few features significantly contribute to the model.  \n",
    "Therefore, let's repeat the LM regularization process with L2."
   ]
  },
  {
   "cell_type": "code",
   "execution_count": 10,
   "metadata": {},
   "outputs": [
    {
     "data": {
      "text/plain": [
       "Lasso(alpha=59.94842503189412, copy_X=True, fit_intercept=True, max_iter=1000,\n",
       "   normalize=False, positive=False, precompute=False, random_state=9,\n",
       "   selection='cyclic', tol=0.0001, warm_start=False)"
      ]
     },
     "execution_count": 10,
     "metadata": {},
     "output_type": "execute_result"
    }
   ],
   "source": [
    "ridge = linear_model.Lasso(random_state=9,alpha=59.94842503189412)\n",
    "ridge.fit(X_train, y_train)"
   ]
  },
  {
   "cell_type": "code",
   "execution_count": 11,
   "metadata": {},
   "outputs": [],
   "source": [
    "predict4 = np.exp(lasso.predict(df_test)).round()\n",
    "model_4_submission = pd.DataFrame({'Id': df_test_ids,\"SalePrice\": predict4})"
   ]
  },
  {
   "cell_type": "code",
   "execution_count": 12,
   "metadata": {},
   "outputs": [
    {
     "name": "stdout",
     "output_type": "stream",
     "text": [
      "Model_3 printed!\n"
     ]
    }
   ],
   "source": [
    "model_4_submission.to_csv(\"../predictions/model_4_submission.csv\", index = False)\n",
    "print(\"Model_3 printed!\")"
   ]
  },
  {
   "cell_type": "markdown",
   "metadata": {},
   "source": [
    "### Kaggle result\n",
    "RMSE:  \n",
    "Rank:  "
   ]
  },
  {
   "cell_type": "markdown",
   "metadata": {},
   "source": [
    "# Model 5: Decision Tree\n",
    "We have focused on finding a regression solution using a linear model.  \n",
    "What about trees? (decision) Trees are the solution?"
   ]
  },
  {
   "cell_type": "code",
   "execution_count": 13,
   "metadata": {},
   "outputs": [
    {
     "name": "stdout",
     "output_type": "stream",
     "text": [
      "Fitting 3 folds for each of 294 candidates, totalling 882 fits\n"
     ]
    },
    {
     "name": "stderr",
     "output_type": "stream",
     "text": [
      "[Parallel(n_jobs=-1)]: Done 280 tasks      | elapsed:    1.5s\n",
      "[Parallel(n_jobs=-1)]: Done 882 out of 882 | elapsed:    4.4s finished\n"
     ]
    },
    {
     "data": {
      "text/plain": [
       "DecisionTreeRegressor(criterion='mse', max_depth=None, max_features=None,\n",
       "           max_leaf_nodes=96, min_impurity_decrease=0.0,\n",
       "           min_impurity_split=None, min_samples_leaf=1,\n",
       "           min_samples_split=3, min_weight_fraction_leaf=0.0,\n",
       "           presort=False, random_state=42, splitter='best')"
      ]
     },
     "execution_count": 13,
     "metadata": {},
     "output_type": "execute_result"
    }
   ],
   "source": [
    "from sklearn.tree import DecisionTreeRegressor\n",
    "from sklearn.model_selection import GridSearchCV\n",
    "\n",
    "params = {'max_leaf_nodes': list(range(2, 100)), 'min_samples_split': [2, 3, 4]}\n",
    "grid_search_cv = GridSearchCV(DecisionTreeRegressor(random_state=42), params, n_jobs=-1, verbose=1)\n",
    "\n",
    "# Fit model using full training set\n",
    "X_train = df.drop(['SalePrice'], axis = 1)\n",
    "y_train = df.SalePrice\n",
    "\n",
    "model_5_fit = grid_search_cv.fit(X_train, y_train)\n",
    "grid_search_cv.best_estimator_"
   ]
  },
  {
   "cell_type": "markdown",
   "metadata": {},
   "source": [
    "### Predicting SalePrice in test df using Decision Tree"
   ]
  },
  {
   "cell_type": "code",
   "execution_count": 14,
   "metadata": {},
   "outputs": [
    {
     "name": "stdout",
     "output_type": "stream",
     "text": [
      "Model_5 printed!\n"
     ]
    }
   ],
   "source": [
    "#fit and predict\n",
    "predict5 = np.exp(model_5_fit.predict(df_test)).round()\n",
    "\n",
    "#ship for scoring\n",
    "model_5_submission = pd.DataFrame({'Id': df_test_ids,\"SalePrice\": predict5})\n",
    "model_5_submission.to_csv(\"../predictions/model_5_submission.csv\", index = False)\n",
    "print(\"Model_5 printed!\")"
   ]
  },
  {
   "cell_type": "markdown",
   "metadata": {},
   "source": [
    "# Model 6: Random Forest"
   ]
  },
  {
   "cell_type": "code",
   "execution_count": 15,
   "metadata": {},
   "outputs": [
    {
     "data": {
      "text/plain": [
       "RandomForestRegressor(bootstrap=True, criterion='mse', max_depth=None,\n",
       "           max_features='auto', max_leaf_nodes=None,\n",
       "           min_impurity_decrease=0.0, min_impurity_split=None,\n",
       "           min_samples_leaf=1, min_samples_split=2,\n",
       "           min_weight_fraction_leaf=0.0, n_estimators=100, n_jobs=1,\n",
       "           oob_score=False, random_state=9, verbose=0, warm_start=False)"
      ]
     },
     "execution_count": 15,
     "metadata": {},
     "output_type": "execute_result"
    }
   ],
   "source": [
    "from sklearn.ensemble import RandomForestRegressor\n",
    "forest = RandomForestRegressor(min_samples_leaf=1, min_samples_split=2, n_estimators=100, random_state=9)\n",
    "forest.fit(X_train, y_train)"
   ]
  },
  {
   "cell_type": "code",
   "execution_count": 16,
   "metadata": {},
   "outputs": [],
   "source": [
    "predict6 = np.exp(forest.predict(df_test)).round()\n",
    "model_6_submission = pd.DataFrame({'Id': df_test_ids,\"SalePrice\": predict6})"
   ]
  },
  {
   "cell_type": "code",
   "execution_count": 17,
   "metadata": {},
   "outputs": [
    {
     "name": "stdout",
     "output_type": "stream",
     "text": [
      "Model_3 printed!\n"
     ]
    }
   ],
   "source": [
    "model_6_submission.to_csv(\"../predictions/model_4_submission.csv\", index = False)\n",
    "print(\"Model_3 printed!\")"
   ]
  },
  {
   "cell_type": "markdown",
   "metadata": {},
   "source": [
    "### Kaggle result\n",
    "RMSE:  \n",
    "Rank:  "
   ]
  },
  {
   "cell_type": "markdown",
   "metadata": {},
   "source": [
    "# Model 6: Bagging predictions (simple ensemble)\n",
    "Each model makes certain assumptions and errors.  \n",
    "Averaging predictions discorrolates error, which may futher reduce bias."
   ]
  },
  {
   "cell_type": "code",
   "execution_count": 22,
   "metadata": {},
   "outputs": [],
   "source": [
    "#append predictive models\n",
    "ensemble_model = pd.DataFrame({'Id' : df_test_ids,\n",
    "                               'Model_1' : predict1\n",
    "})\n",
    "ensemble_model['Model_2'] = predict2\n",
    "ensemble_model['Model_3'] = predict3\n",
    "ensemble_model['Model_4'] = predict4\n",
    "ensemble_model['Model_5'] = predict5\n",
    "ensemble_model['Model_6'] = predict6"
   ]
  },
  {
   "cell_type": "code",
   "execution_count": 25,
   "metadata": {},
   "outputs": [
    {
     "data": {
      "text/plain": [
       "<matplotlib.axes._subplots.AxesSubplot at 0x1a241d2780>"
      ]
     },
     "execution_count": 25,
     "metadata": {},
     "output_type": "execute_result"
    },
    {
     "data": {
      "image/png": "[encoded data removed]",
      "text/plain": [
       "<matplotlib.figure.Figure at 0x1a24438438>"
      ]
     },
     "metadata": {},
     "output_type": "display_data"
    }
   ],
   "source": [
    "#evaluate correlation\n",
    "import seaborn as sns\n",
    "import matplotlib.pyplot as plt\n",
    "\n",
    "sns.set(style = 'white', font_scale = 2)\n",
    "\n",
    "corr_matrix = ensemble_model.iloc[:,1:].corr()\n",
    "mask = np.zeros_like(corr_matrix, dtype = np.bool)\n",
    "mask[np.triu_indices_from(mask)] = True\n",
    "\n",
    "f, ax = plt.subplots(figsize=(12,12))\n",
    "\n",
    "\n",
    "sns.heatmap(corr_matrix, mask = mask, center = 0.9, \n",
    "           square = True, linewidths=.5, cbar_kws={'shrink': .5})"
   ]
  },
  {
   "cell_type": "markdown",
   "metadata": {},
   "source": [
    "### Predicting SalePrice from an ensemble of predictive models"
   ]
  },
  {
   "cell_type": "code",
   "execution_count": 20,
   "metadata": {},
   "outputs": [],
   "source": [
    "# take average\n",
    "#ensemble_model['SalePrice'] = ensemble_model.iloc[:,1:].mean(axis = 1)\n",
    "# export csv\n",
    "#ensemble_model.head(3)"
   ]
  },
  {
   "cell_type": "markdown",
   "metadata": {},
   "source": [
    "### Kaggle result\n",
    "RMSE:  \n",
    "Rank: "
   ]
  }
 ],
 "metadata": {
  "kernelspec": {
   "display_name": "Python 3",
   "language": "python",
   "name": "python3"
  },
  "language_info": {
   "codemirror_mode": {
    "name": "ipython",
    "version": 3
   },
   "file_extension": ".py",
   "mimetype": "text/x-python",
   "name": "python",
   "nbconvert_exporter": "python",
   "pygments_lexer": "ipython3",
   "version": "3.6.4"
  }
 },
 "nbformat": 4,
 "nbformat_minor": 2
}
