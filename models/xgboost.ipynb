{
 "cells": [
  {
   "cell_type": "markdown",
   "metadata": {},
   "source": [
    "# About this notebook\n",
    "\n",
    "This notebook presents the xgboost model for all pre-processed features on all training data."
   ]
  },
  {
   "cell_type": "markdown",
   "metadata": {},
   "source": [
    "## Retrieve Dataset"
   ]
  },
  {
   "cell_type": "code",
   "execution_count": 1,
   "metadata": {},
   "outputs": [
    {
     "data": {
      "text/html": [
       "<div>\n",
       "<style>\n",
       "    .dataframe thead tr:only-child th {\n",
       "        text-align: right;\n",
       "    }\n",
       "\n",
       "    .dataframe thead th {\n",
       "        text-align: left;\n",
       "    }\n",
       "\n",
       "    .dataframe tbody tr th {\n",
       "        vertical-align: top;\n",
       "    }\n",
       "</style>\n",
       "<table border=\"1\" class=\"dataframe\">\n",
       "  <thead>\n",
       "    <tr style=\"text-align: right;\">\n",
       "      <th></th>\n",
       "      <th>LotFrontage</th>\n",
       "      <th>LotArea</th>\n",
       "      <th>YearBuilt</th>\n",
       "      <th>GrLivArea</th>\n",
       "      <th>YrSold</th>\n",
       "      <th>SalePrice</th>\n",
       "      <th>MSZoning_RL</th>\n",
       "      <th>MSZoning_RMH</th>\n",
       "      <th>Alley_NoAccess</th>\n",
       "      <th>LotShape_Regular</th>\n",
       "      <th>...</th>\n",
       "      <th>OpenPorchSF_OpenPorch_Yes</th>\n",
       "      <th>Fence_no_fence</th>\n",
       "      <th>MoSold_peak_months</th>\n",
       "      <th>SaleType_non_deed</th>\n",
       "      <th>SaleCondition_not_normal</th>\n",
       "      <th>IsVinyl_yes</th>\n",
       "      <th>FullBaths_&lt;=1FullBath</th>\n",
       "      <th>FullBaths_&gt;=3FullBaths</th>\n",
       "      <th>HalfBaths_&gt;=1HalfBaths</th>\n",
       "      <th>Enclosed_combined_EnclosedPorch_Yes</th>\n",
       "    </tr>\n",
       "  </thead>\n",
       "  <tbody>\n",
       "    <tr>\n",
       "      <th>0</th>\n",
       "      <td>65.0</td>\n",
       "      <td>8450</td>\n",
       "      <td>7</td>\n",
       "      <td>1710</td>\n",
       "      <td>2008</td>\n",
       "      <td>12.247694</td>\n",
       "      <td>1</td>\n",
       "      <td>0</td>\n",
       "      <td>1</td>\n",
       "      <td>1</td>\n",
       "      <td>...</td>\n",
       "      <td>1</td>\n",
       "      <td>1</td>\n",
       "      <td>0</td>\n",
       "      <td>0</td>\n",
       "      <td>0</td>\n",
       "      <td>1</td>\n",
       "      <td>0</td>\n",
       "      <td>1</td>\n",
       "      <td>1</td>\n",
       "      <td>0</td>\n",
       "    </tr>\n",
       "    <tr>\n",
       "      <th>1</th>\n",
       "      <td>80.0</td>\n",
       "      <td>9600</td>\n",
       "      <td>34</td>\n",
       "      <td>1262</td>\n",
       "      <td>2007</td>\n",
       "      <td>12.109011</td>\n",
       "      <td>1</td>\n",
       "      <td>0</td>\n",
       "      <td>1</td>\n",
       "      <td>1</td>\n",
       "      <td>...</td>\n",
       "      <td>0</td>\n",
       "      <td>1</td>\n",
       "      <td>1</td>\n",
       "      <td>0</td>\n",
       "      <td>0</td>\n",
       "      <td>0</td>\n",
       "      <td>0</td>\n",
       "      <td>0</td>\n",
       "      <td>1</td>\n",
       "      <td>0</td>\n",
       "    </tr>\n",
       "    <tr>\n",
       "      <th>2</th>\n",
       "      <td>68.0</td>\n",
       "      <td>11250</td>\n",
       "      <td>9</td>\n",
       "      <td>1786</td>\n",
       "      <td>2008</td>\n",
       "      <td>12.317167</td>\n",
       "      <td>1</td>\n",
       "      <td>0</td>\n",
       "      <td>1</td>\n",
       "      <td>0</td>\n",
       "      <td>...</td>\n",
       "      <td>1</td>\n",
       "      <td>1</td>\n",
       "      <td>0</td>\n",
       "      <td>0</td>\n",
       "      <td>0</td>\n",
       "      <td>1</td>\n",
       "      <td>0</td>\n",
       "      <td>1</td>\n",
       "      <td>1</td>\n",
       "      <td>0</td>\n",
       "    </tr>\n",
       "    <tr>\n",
       "      <th>3</th>\n",
       "      <td>60.0</td>\n",
       "      <td>9550</td>\n",
       "      <td>95</td>\n",
       "      <td>1717</td>\n",
       "      <td>2006</td>\n",
       "      <td>11.849398</td>\n",
       "      <td>1</td>\n",
       "      <td>0</td>\n",
       "      <td>1</td>\n",
       "      <td>0</td>\n",
       "      <td>...</td>\n",
       "      <td>1</td>\n",
       "      <td>1</td>\n",
       "      <td>0</td>\n",
       "      <td>0</td>\n",
       "      <td>1</td>\n",
       "      <td>0</td>\n",
       "      <td>0</td>\n",
       "      <td>0</td>\n",
       "      <td>0</td>\n",
       "      <td>1</td>\n",
       "    </tr>\n",
       "    <tr>\n",
       "      <th>4</th>\n",
       "      <td>84.0</td>\n",
       "      <td>14260</td>\n",
       "      <td>10</td>\n",
       "      <td>2198</td>\n",
       "      <td>2008</td>\n",
       "      <td>12.429216</td>\n",
       "      <td>1</td>\n",
       "      <td>0</td>\n",
       "      <td>1</td>\n",
       "      <td>0</td>\n",
       "      <td>...</td>\n",
       "      <td>1</td>\n",
       "      <td>1</td>\n",
       "      <td>0</td>\n",
       "      <td>0</td>\n",
       "      <td>0</td>\n",
       "      <td>1</td>\n",
       "      <td>0</td>\n",
       "      <td>1</td>\n",
       "      <td>1</td>\n",
       "      <td>0</td>\n",
       "    </tr>\n",
       "  </tbody>\n",
       "</table>\n",
       "<p>5 rows × 70 columns</p>\n",
       "</div>"
      ],
      "text/plain": [
       "   LotFrontage  LotArea  YearBuilt  GrLivArea  YrSold  SalePrice  MSZoning_RL  \\\n",
       "0         65.0     8450          7       1710    2008  12.247694            1   \n",
       "1         80.0     9600         34       1262    2007  12.109011            1   \n",
       "2         68.0    11250          9       1786    2008  12.317167            1   \n",
       "3         60.0     9550         95       1717    2006  11.849398            1   \n",
       "4         84.0    14260         10       2198    2008  12.429216            1   \n",
       "\n",
       "   MSZoning_RMH  Alley_NoAccess  LotShape_Regular  \\\n",
       "0             0               1                 1   \n",
       "1             0               1                 1   \n",
       "2             0               1                 0   \n",
       "3             0               1                 0   \n",
       "4             0               1                 0   \n",
       "\n",
       "                  ...                   OpenPorchSF_OpenPorch_Yes  \\\n",
       "0                 ...                                           1   \n",
       "1                 ...                                           0   \n",
       "2                 ...                                           1   \n",
       "3                 ...                                           1   \n",
       "4                 ...                                           1   \n",
       "\n",
       "   Fence_no_fence  MoSold_peak_months  SaleType_non_deed  \\\n",
       "0               1                   0                  0   \n",
       "1               1                   1                  0   \n",
       "2               1                   0                  0   \n",
       "3               1                   0                  0   \n",
       "4               1                   0                  0   \n",
       "\n",
       "   SaleCondition_not_normal  IsVinyl_yes  FullBaths_<=1FullBath  \\\n",
       "0                         0            1                      0   \n",
       "1                         0            0                      0   \n",
       "2                         0            1                      0   \n",
       "3                         1            0                      0   \n",
       "4                         0            1                      0   \n",
       "\n",
       "   FullBaths_>=3FullBaths  HalfBaths_>=1HalfBaths  \\\n",
       "0                       1                       1   \n",
       "1                       0                       1   \n",
       "2                       1                       1   \n",
       "3                       0                       0   \n",
       "4                       1                       1   \n",
       "\n",
       "   Enclosed_combined_EnclosedPorch_Yes  \n",
       "0                                    0  \n",
       "1                                    0  \n",
       "2                                    0  \n",
       "3                                    1  \n",
       "4                                    0  \n",
       "\n",
       "[5 rows x 70 columns]"
      ]
     },
     "execution_count": 1,
     "metadata": {},
     "output_type": "execute_result"
    }
   ],
   "source": [
    "# setup random indicies\n",
    "import numpy as np\n",
    "\n",
    "# load df\n",
    "import pandas as pd\n",
    "df = pd.read_csv('./data/train_model.csv')\n",
    "\n",
    "# randomized index\n",
    "df.drop(['Unnamed: 0', 'Id'], axis=1, inplace = True)\n",
    "\n",
    "# remove outliers\n",
    "df.drop([907, 465], inplace=True)\n",
    "\n",
    "# log transform SalePrice\n",
    "df['SalePrice'] = np.log(df.SalePrice)\n",
    "\n",
    "df.head(5)"
   ]
  },
  {
   "cell_type": "markdown",
   "metadata": {},
   "source": [
    "### - must rename some columns that have the > or < symbol because xgboost does not like"
   ]
  },
  {
   "cell_type": "code",
   "execution_count": 2,
   "metadata": {
    "collapsed": true
   },
   "outputs": [],
   "source": [
    "df.rename(columns={'BedroomAbvGr_>=4Bedr': 'BedroomAbvGr_atleast4', 'KitchenAbvGr_>=2Ktchn':\\\n",
    "                   'KitchenAbvGr_atleast2', 'TotRmsAbvGrd_<=4TotRms': 'TotRmsAbvGrd_atmost4',\\\n",
    "                  'TotRmsAbvGrd_>=8TotRms': 'TotRmsAbvGrd_atleast8', 'FullBaths_>=3FullBaths':\\\n",
    "                  'FullBaths_atleast3', 'HalfBaths_>=1HalfBaths': 'HalfBaths_atleast1',\\\n",
    "                  'FullBaths_<=1FullBath': 'FullBaths_atmost1'}, inplace=True)"
   ]
  },
  {
   "cell_type": "code",
   "execution_count": 3,
   "metadata": {
    "collapsed": true
   },
   "outputs": [],
   "source": [
    "features = df.drop(['SalePrice'], axis = 1)\n",
    "logsaleprice = df.SalePrice"
   ]
  },
  {
   "cell_type": "code",
   "execution_count": 4,
   "metadata": {
    "collapsed": true
   },
   "outputs": [],
   "source": [
    "from sklearn.model_selection import train_test_split\n",
    "\n",
    "X_train, X_test, y_train, y_test = train_test_split(features, logsaleprice, random_state=42)"
   ]
  },
  {
   "cell_type": "code",
   "execution_count": 5,
   "metadata": {
    "scrolled": false
   },
   "outputs": [
    {
     "data": {
      "text/plain": [
       "XGBRegressor(base_score=0.5, booster='gbtree', colsample_bylevel=1,\n",
       "       colsample_bytree=1, gamma=0, learning_rate=0.1, max_delta_step=0,\n",
       "       max_depth=3, min_child_weight=1, missing=None, n_estimators=100,\n",
       "       n_jobs=1, nthread=None, objective='reg:linear', random_state=0,\n",
       "       reg_alpha=0, reg_lambda=1, scale_pos_weight=1, seed=None,\n",
       "       silent=True, subsample=1)"
      ]
     },
     "execution_count": 5,
     "metadata": {},
     "output_type": "execute_result"
    }
   ],
   "source": [
    "from xgboost import XGBRegressor\n",
    "\n",
    "xgb = XGBRegressor()\n",
    "xgb.fit(X_train, y_train)"
   ]
  },
  {
   "cell_type": "code",
   "execution_count": 6,
   "metadata": {},
   "outputs": [
    {
     "name": "stdout",
     "output_type": "stream",
     "text": [
      "MSE:  0.022\n",
      "RMSE:  0.147\n"
     ]
    }
   ],
   "source": [
    "from sklearn.metrics import mean_squared_error\n",
    "\n",
    "xgb_pred = xgb.predict(X_test)\n",
    "print(\"MSE: \", round(mean_squared_error(y_test, xgb_pred), 3))\n",
    "print(\"RMSE: \", round(np.sqrt(mean_squared_error(y_test, xgb_pred)), 3))"
   ]
  },
  {
   "cell_type": "code",
   "execution_count": null,
   "metadata": {
    "collapsed": true
   },
   "outputs": [],
   "source": []
  },
  {
   "cell_type": "code",
   "execution_count": null,
   "metadata": {
    "collapsed": true
   },
   "outputs": [],
   "source": []
  },
  {
   "cell_type": "code",
   "execution_count": null,
   "metadata": {
    "collapsed": true
   },
   "outputs": [],
   "source": []
  }
 ],
 "metadata": {
  "kernelspec": {
   "display_name": "Python 3",
   "language": "python",
   "name": "python3"
  },
  "language_info": {
   "codemirror_mode": {
    "name": "ipython",
    "version": 3
   },
   "file_extension": ".py",
   "mimetype": "text/x-python",
   "name": "python",
   "nbconvert_exporter": "python",
   "pygments_lexer": "ipython3",
   "version": "3.6.2"
  }
 },
 "nbformat": 4,
 "nbformat_minor": 2
}
