{
 "cells": [
  {
   "cell_type": "code",
   "execution_count": 1,
   "metadata": {},
   "outputs": [],
   "source": [
    "# setup random indicies\n",
    "import numpy as np\n",
    "\n",
    "np.random.seed(9)\n",
    "\n",
    "house_ids = range(1,1461)\n",
    "random_id = np.random.choice(house_ids, 1460, replace = False)\n",
    "\n",
    "# load df\n",
    "import pandas as pd\n",
    "df = pd.read_csv(\"../../data/train_model.csv\")\n",
    "\n",
    "# randomized index\n",
    "df.drop(columns = ['Unnamed: 0', 'Id'], inplace = True)\n",
    "df['random_id'] = random_id\n",
    "df.set_index('random_id', inplace = True)\n",
    "df.sort_index(inplace=True)\n",
    "df.head(5)\n",
    "\n",
    "# remove outliers\n",
    "df.drop([907, 465], inplace=True)\n",
    "\n",
    "# log transform SalePrice\n",
    "df['SalePrice'] = np.log(df.SalePrice)\n",
    "\n",
    "# setup X, y for CV below\n",
    "X = df.drop(columns = 'SalePrice')\n",
    "y = df.SalePrice"
   ]
  },
  {
   "cell_type": "code",
   "execution_count": null,
   "metadata": {},
   "outputs": [],
   "source": []
  }
 ],
 "metadata": {
  "kernelspec": {
   "display_name": "Python 3",
   "language": "python",
   "name": "python3"
  },
  "language_info": {
   "codemirror_mode": {
    "name": "ipython",
    "version": 3
   },
   "file_extension": ".py",
   "mimetype": "text/x-python",
   "name": "python",
   "nbconvert_exporter": "python",
   "pygments_lexer": "ipython3",
   "version": "3.6.4"
  }
 },
 "nbformat": 4,
 "nbformat_minor": 2
}
