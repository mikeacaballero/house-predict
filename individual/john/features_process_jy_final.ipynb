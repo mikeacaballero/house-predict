{
 "cells": [
  {
   "cell_type": "markdown",
   "metadata": {},
   "source": [
    "## About this notebook\n",
    "\n",
    "This notebook will process data features so that they will be \"analysis-ready.\"  Specifically, for\n",
    "1. Continuous features:\n",
    "    - impute missing values when needed\n",
    "    - delete a feature if there are too many missing data\n",
    "    - handle future missing data\n",
    "    \n",
    "2. Categorical features:\n",
    "    - \"collapse\" subcategories of features if there are too many subcategories\n",
    "    - \"collapse\" subcategories of features if subcategories have very few values (<5%)\n",
    "    - create a missing subcategory for missing if there are significant missing data\n",
    "    - create dummy "
   ]
  },
  {
   "cell_type": "markdown",
   "metadata": {},
   "source": [
    "# A. import packages"
   ]
  },
  {
   "cell_type": "code",
   "execution_count": 59,
   "metadata": {
    "collapsed": true
   },
   "outputs": [],
   "source": [
    "import numpy as np\n",
    "import pandas as pd\n",
    "import matplotlib.pyplot as plt\n",
    "import seaborn as sns\n",
    "from scipy import stats\n",
    "\n",
    "%matplotlib inline"
   ]
  },
  {
   "cell_type": "code",
   "execution_count": 60,
   "metadata": {
    "collapsed": true
   },
   "outputs": [],
   "source": [
    "#read in data\n",
    "ames = pd.read_csv('./data/train')\n",
    "m = ames.shape[0]"
   ]
  },
  {
   "cell_type": "markdown",
   "metadata": {},
   "source": [
    "# B. process features (41-60)"
   ]
  },
  {
   "cell_type": "markdown",
   "metadata": {},
   "source": [
    "### 41. CentralAir [categorical]"
   ]
  },
  {
   "cell_type": "code",
   "execution_count": 3,
   "metadata": {
    "collapsed": true
   },
   "outputs": [],
   "source": [
    "def centralair(cols):\n",
    "    \"\"\"\n",
    "    Arguments:\n",
    "    cols[0] -- dataframe column value for ID\n",
    "    cols[1] -- dataframe column value for the feature, 'CentralAir': Central air conditioning, with categories \n",
    "       N    No\n",
    "       Y    Yes\n",
    "    Returns:\n",
    "    'CentAir' -- if Y\n",
    "    'NoCentAir' -- if N or missing\n",
    "    \"\"\"        \n",
    "    Id = cols[0]\n",
    "    CentralAir = cols[1]\n",
    "    \n",
    "    if pd.isnull(CentralAir):\n",
    "        return 'NoCentAir'    \n",
    "    else:\n",
    "        if CentralAir == 'Y':\n",
    "            return 'CentAir'\n",
    "        else:\n",
    "            return 'NoCentAir'\n",
    "\n",
    "ames['CentralAir'] = ames[['Id','CentralAir']].apply(centralair,axis=1)"
   ]
  },
  {
   "cell_type": "markdown",
   "metadata": {},
   "source": [
    "### 42. Electrical [categorical]"
   ]
  },
  {
   "cell_type": "code",
   "execution_count": 4,
   "metadata": {
    "collapsed": true
   },
   "outputs": [],
   "source": [
    "def electric(cols):\n",
    "    \"\"\"\n",
    "    Arguments:\n",
    "    cols[0] -- dataframe column value for ID\n",
    "    cols[1] -- dataframe column value for the feature, 'Electrical': Electrical system, with categories \n",
    "       SBrkr    Standard Circuit Breakers & Romex\n",
    "       FuseA    Fuse Box over 60 AMP and all Romex wiring (Average)\t\n",
    "       FuseF    60 AMP Fuse Box and mostly Romex wiring (Fair)\n",
    "       FuseP    60 AMP Fuse Box and mostly knob & tube wiring (poor)\n",
    "       Mix      Mixed\n",
    "    Returns:\n",
    "    'SBrkr' -- if 'SBrkr'\n",
    "    'Other' -- if FuseA, FuseF, FuseP, Mix, or missing\n",
    "    \"\"\"        \n",
    "    Id = cols[0]\n",
    "    Electrical = cols[1]\n",
    "    \n",
    "    if pd.isnull(Electrical):\n",
    "        return 'OtherCBrkr'\n",
    "    else:\n",
    "        if Electrical == 'SBrkr':\n",
    "            return 'StdCBrkr'\n",
    "        else:\n",
    "            return 'OtherCBrkr'\n",
    "        \n",
    "ames['Electrical'] = ames[['Id','Electrical']].apply(electric,axis=1)"
   ]
  },
  {
   "cell_type": "markdown",
   "metadata": {},
   "source": [
    "### 43. 1stFlrSF [continuous]"
   ]
  },
  {
   "cell_type": "code",
   "execution_count": 5,
   "metadata": {
    "collapsed": true
   },
   "outputs": [],
   "source": [
    "ames.drop(['1stFlrSF'], axis = 1, inplace = True)"
   ]
  },
  {
   "cell_type": "markdown",
   "metadata": {},
   "source": [
    "### 44. 2ndFlrSF [continuous]"
   ]
  },
  {
   "cell_type": "code",
   "execution_count": 6,
   "metadata": {
    "collapsed": true
   },
   "outputs": [],
   "source": [
    "ames.drop(['2ndFlrSF'], axis = 1, inplace = True)"
   ]
  },
  {
   "cell_type": "markdown",
   "metadata": {},
   "source": [
    "### 45. LowQualFinSF [continuous]"
   ]
  },
  {
   "cell_type": "code",
   "execution_count": 7,
   "metadata": {
    "collapsed": true
   },
   "outputs": [],
   "source": [
    "ames.drop(['LowQualFinSF'], axis = 1, inplace = True)"
   ]
  },
  {
   "cell_type": "markdown",
   "metadata": {},
   "source": [
    "### 46. GrLivArea [continuous]"
   ]
  },
  {
   "cell_type": "code",
   "execution_count": 8,
   "metadata": {
    "collapsed": true
   },
   "outputs": [],
   "source": [
    "def grlivarea(cols):\n",
    "    \"\"\"\n",
    "    Arguments:\n",
    "    cols[0] -- dataframe column value for ID\n",
    "    cols[1] -- dataframe column value for the feature, 'GrLivArea': Above grade (ground) living area square feet\n",
    "    \n",
    "    Returns:\n",
    "    x -- if x is positive\n",
    "    1464 -- if x is not positive (assumed to be missing; 1464 is the median in the training set)\n",
    "    \"\"\"        \n",
    "    Id = cols[0]\n",
    "    GrLivArea = cols[1]\n",
    "    \n",
    "    if pd.isnull(GrLivArea):\n",
    "        return 1464 \n",
    "    else:\n",
    "        return GrLivArea\n",
    "        \n",
    "ames['GrLivArea'] = ames[['Id','GrLivArea']].apply(grlivarea,axis=1)"
   ]
  },
  {
   "cell_type": "markdown",
   "metadata": {},
   "source": [
    "### 47-50. BsmtFullBath and FullBath"
   ]
  },
  {
   "cell_type": "code",
   "execution_count": 21,
   "metadata": {
    "collapsed": true
   },
   "outputs": [],
   "source": [
    "def totalbaths(cols):\n",
    "    \"\"\"\n",
    "    Arguments:\n",
    "    cols[0] -- dataframe column value for ID\n",
    "    cols[1] -- dataframe column value for the new feature, 'FullBaths': with numeric values \n",
    "         1,2,3,...  \n",
    "   \n",
    "    Returns:\n",
    "    '<=1FullBath' -- if <=1 total full baths\n",
    "    '2FullBaths' -- if 2 total full baths\n",
    "    '>=3FullBaths' -- if 3 or more total full baths\n",
    "    \"\"\"    \n",
    "    \n",
    "    Id = cols[0]\n",
    "    BsmtFullBath = cols[1]\n",
    "    FullBath = cols[2]\n",
    "    \n",
    "    total = BsmtFullBath + FullBath \n",
    "\n",
    "    if pd.isnull(total):\n",
    "        return '<=1FullBath'\n",
    "    else:\n",
    "        if total <= 1:\n",
    "            return '<=1FullBath'\n",
    "        elif total == 2:\n",
    "            return '2FullBaths'\n",
    "        else:\n",
    "            return '>=3FullBaths'\n",
    "        \n",
    "ames['FullBaths'] = ames[['Id','BsmtFullBath','FullBath']].apply(totalbaths,axis=1)"
   ]
  },
  {
   "cell_type": "markdown",
   "metadata": {},
   "source": [
    "### 47-50 BsmtHalfBath and HalfBath"
   ]
  },
  {
   "cell_type": "code",
   "execution_count": 10,
   "metadata": {
    "collapsed": true
   },
   "outputs": [],
   "source": [
    "def totalhalfbaths(cols):\n",
    "    \"\"\"\n",
    "    Arguments:\n",
    "    cols[0] -- dataframe column value for ID\n",
    "    cols[1] -- dataframe column value for the new feature, 'HalfBaths': with numeric values \n",
    "         1,2,3,...  \n",
    "   \n",
    "    Returns:\n",
    "    '0HalfBath' -- if 0 total half baths\n",
    "    '>=1HalfBaths' -- if 1 or more total half baths\n",
    "    \"\"\"    \n",
    "    \n",
    "    Id = cols[0]\n",
    "    BsmtHalfBath = cols[1]\n",
    "    HalfBath = cols[2]\n",
    "    \n",
    "    total = BsmtHalfBath + HalfBath \n",
    "\n",
    "    if pd.isnull(total):\n",
    "        return '0HalfBath'\n",
    "    else:\n",
    "        if total == 0:\n",
    "            return '0HalfBath'\n",
    "        else:\n",
    "            return '>=1HalfBaths'\n",
    "        \n",
    "ames['HalfBaths'] = ames[['Id','BsmtHalfBath','HalfBath']].apply(totalhalfbaths,axis=1)"
   ]
  },
  {
   "cell_type": "markdown",
   "metadata": {},
   "source": [
    "### 51. BedroomAbvGr"
   ]
  },
  {
   "cell_type": "code",
   "execution_count": 11,
   "metadata": {
    "collapsed": true
   },
   "outputs": [],
   "source": [
    "def bedroomabvgr(cols):\n",
    "    \"\"\"\n",
    "    Arguments:\n",
    "    cols[0] -- dataframe column value for ID\n",
    "    cols[1] -- dataframe column value for the feature, 'BedroomAbvGr': with numeric values \n",
    "         0, 1, 2, ...  \n",
    "   \n",
    "    Returns:\n",
    "    '<=2Bedr' -- if <=2 total bedrooms\n",
    "    '=3Bedr' -- if 3 total bedrooms\n",
    "    '>=4Bedr' -- if 4 or more total bedrooms\n",
    "    \"\"\"   \n",
    "    \n",
    "    Id = cols[0]\n",
    "    BedroomAbvGr = cols[1]\n",
    "    \n",
    "    if pd.isnull(BedroomAbvGr):\n",
    "        return '<=2Bedr'\n",
    "    else:\n",
    "        if BedroomAbvGr <= 2:\n",
    "            return '<=2Bedr'\n",
    "        elif BedroomAbvGr == 3:\n",
    "            return '=3Bedr'\n",
    "        else:\n",
    "            return '>=4Bedr'\n",
    "        \n",
    "ames['BedroomAbvGr'] = ames[['Id','BedroomAbvGr']].apply(bedroomabvgr,axis=1)"
   ]
  },
  {
   "cell_type": "markdown",
   "metadata": {},
   "source": [
    "### 52. KitchenAbvGr"
   ]
  },
  {
   "cell_type": "code",
   "execution_count": 12,
   "metadata": {
    "collapsed": true
   },
   "outputs": [],
   "source": [
    "def kitchenabvgr(cols):\n",
    "    \"\"\"\n",
    "    Arguments:\n",
    "    cols[0] -- dataframe column value for ID\n",
    "    cols[1] -- dataframe column value for the feature, 'KitchenAbvGr': with numeric values \n",
    "         0, 1, 2, ...  \n",
    "   \n",
    "    Returns:\n",
    "    '<=1Ktchn' -- if <=1 total kitchens or missing\n",
    "    '>=2Ktchn' -- if >=2 total kitchens\n",
    "    \"\"\"           \n",
    "    Id = cols[0]\n",
    "    KitchenAbvGr = cols[1]\n",
    "    \n",
    "    if pd.isnull(KitchenAbvGr):\n",
    "        return '<=1Ktchn' \n",
    "    else:\n",
    "        if KitchenAbvGr <= 1:\n",
    "            return '<=1Ktchn'\n",
    "        else:\n",
    "            return '>=2Ktchn'\n",
    "        \n",
    "ames['KitchenAbvGr'] = ames[['Id','KitchenAbvGr']].apply(kitchenabvgr,axis=1)"
   ]
  },
  {
   "cell_type": "markdown",
   "metadata": {},
   "source": [
    "### 53. KitchenQual"
   ]
  },
  {
   "cell_type": "code",
   "execution_count": 13,
   "metadata": {
    "collapsed": true
   },
   "outputs": [],
   "source": [
    "def kitchenqual(cols):\n",
    "    \"\"\"\n",
    "    Arguments:\n",
    "    cols[0] -- dataframe column value for ID\n",
    "    cols[1] -- dataframe column value for the feature, 'KitchenQual': with categories \n",
    "               Ex   Excellent\n",
    "               Gd   Good\n",
    "               TA   Typical/Average\n",
    "               Fa   Fair\n",
    "               Po   Poor\n",
    "    Returns:\n",
    "    'AveKtchnQ' -- if average or worse kitchens or missing\n",
    "    'GdKtchnQ' -- if good kitchens\n",
    "    'ExKtchnQ' -- if excellent kitchens\n",
    "    \"\"\"               \n",
    "    \n",
    "    Id = cols[0]\n",
    "    KitchenQual = cols[1]\n",
    "    \n",
    "    if pd.isnull(KitchenQual):\n",
    "        return 'AveKtchnQ' \n",
    "    else:\n",
    "        if KitchenQual == 'Gd':\n",
    "            return 'GdKtchnQ'\n",
    "        elif KitchenQual == 'Ex':\n",
    "            return 'ExKtchnQ'\n",
    "        else:\n",
    "            return 'AveKtchnQ'\n",
    "        \n",
    "ames['KitchenQual'] = ames[['Id','KitchenQual']].apply(kitchenqual,axis=1)"
   ]
  },
  {
   "cell_type": "markdown",
   "metadata": {},
   "source": [
    "### 54. TotRmsAbvGrd"
   ]
  },
  {
   "cell_type": "code",
   "execution_count": 14,
   "metadata": {
    "collapsed": true
   },
   "outputs": [],
   "source": [
    "def totrmsabvgrd(cols):\n",
    "    \"\"\"\n",
    "    Arguments:\n",
    "    cols[0] -- dataframe column value for ID\n",
    "    cols[1] -- dataframe column value for the feature, 'TotRmsAbvGrd': Total rooms \n",
    "               above grade (does not include bathrooms) \n",
    "    Returns:\n",
    "    '<=4TotRms' -- if <=4 total rooms or missing\n",
    "    '567TotRms' -- if 5, 6, 7 total rooms\n",
    "    '>=8TotRms' -- if >=8 total rooms   \n",
    "    \"\"\"   \n",
    "    \n",
    "    Id = cols[0]\n",
    "    TotRmsAbvGrd = cols[1]\n",
    "    \n",
    "    if pd.isnull(TotRmsAbvGrd):\n",
    "        return '567TotRms'\n",
    "    else:\n",
    "        if TotRmsAbvGrd <= 4:\n",
    "            return '<=4TotRms'\n",
    "        elif TotRmsAbvGrd in [5, 6, 7]:\n",
    "            return '567TotRms'\n",
    "        else:\n",
    "            return '>=8TotRms'    \n",
    "        \n",
    "ames['TotRmsAbvGrd'] = ames[['Id','TotRmsAbvGrd']].apply(totrmsabvgrd,axis=1)"
   ]
  },
  {
   "cell_type": "markdown",
   "metadata": {},
   "source": [
    "### 55. Functional"
   ]
  },
  {
   "cell_type": "code",
   "execution_count": 15,
   "metadata": {
    "collapsed": true
   },
   "outputs": [],
   "source": [
    "def functional(cols):\n",
    "    \"\"\"\n",
    "    Arguments:\n",
    "    cols[0] -- dataframe column value for ID\n",
    "    cols[1] -- dataframe column value for the feature, 'Functional': Home functionality \n",
    "               (Assume typical unless deductions are warranted) with categories  \n",
    "\n",
    "               Typ    Typical Functionality\n",
    "               Min1   Minor Deductions 1\n",
    "               Min2   Minor Deductions 2\n",
    "               Mod    Moderate Deductions\n",
    "               Maj1   Major Deductions 1\n",
    "               Maj2   Major Deductions 2\n",
    "               Sev    Severely Damaged\n",
    "               Sal    Salvage only\n",
    "\n",
    "    Returns:\n",
    "    'NTypFunc' -- if not typical functionality or missing\n",
    "    'TypFunc' -- if typical functionality\n",
    "    \"\"\"       \n",
    "    \n",
    "    Id = cols[0]\n",
    "    Functional = cols[1]\n",
    "    \n",
    "    if pd.isnull(Functional):\n",
    "        return 'NTypFunc'\n",
    "    else:\n",
    "        if Functional == 'Typ':\n",
    "            return 'TypFunc'\n",
    "        else:\n",
    "            return 'NTypFunc'\n",
    "        \n",
    "ames['Functional'] = ames[['Id','Functional']].apply(functional,axis=1)"
   ]
  },
  {
   "cell_type": "markdown",
   "metadata": {},
   "source": [
    "### 56. Fireplaces"
   ]
  },
  {
   "cell_type": "code",
   "execution_count": 51,
   "metadata": {},
   "outputs": [],
   "source": [
    "def fireplaces(cols):\n",
    "    \"\"\"\n",
    "    Arguments:\n",
    "    cols[0] -- dataframe column value for ID\n",
    "    cols[1] -- dataframe column value for the feature, 'Fireplaces': Number of fireplaces \n",
    "\n",
    "    Returns:\n",
    "    'Fireplace' -- if has fireplace\n",
    "    'NoFireplace' -- if no fireplace or missing\n",
    "    \"\"\"       \n",
    "    \n",
    "    Id = cols[0]\n",
    "    Fireplace = cols[1]\n",
    "    \n",
    "    if pd.isnull(Fireplace):\n",
    "        return 'NoFireplace'\n",
    "    else:\n",
    "        if Fireplace > 0:\n",
    "            return 'Fireplace'\n",
    "        else:\n",
    "            return 'NoFireplace'\n",
    "        \n",
    "ames['Fireplaces'] = ames[['Id','Fireplaces']].apply(fireplaces,axis=1)"
   ]
  },
  {
   "cell_type": "markdown",
   "metadata": {},
   "source": [
    "### 57. FireplaceQu"
   ]
  },
  {
   "cell_type": "code",
   "execution_count": 54,
   "metadata": {
    "collapsed": true
   },
   "outputs": [],
   "source": [
    "def fireplacequ(cols):\n",
    "    \"\"\"\n",
    "    Arguments:\n",
    "    cols[0] -- dataframe column value for ID\n",
    "    cols[1] -- dataframe column value for the feature, 'FireplaceQu': Fireplace quality \n",
    "    \n",
    "       Ex   Excellent - Exceptional Masonry Fireplace\n",
    "       Gd   Good - Masonry Fireplace in main level\n",
    "       TA   Average - Prefabricated Fireplace in main living area or Masonry Fireplace in basement\n",
    "       Fa   Fair - Prefabricated Fireplace in basement\n",
    "       Po   Poor - Ben Franklin Stove\n",
    "       NA   No Fireplace\n",
    "       \n",
    "    Returns:\n",
    "    'GdFireplace' -- if Gd or Ex\n",
    "    'OthFireplace' -- if not Gd or Ex\n",
    "    \"\"\"       \n",
    "    \n",
    "    Id = cols[0]\n",
    "    FireplaceQu = cols[1]\n",
    "    \n",
    "    if pd.isnull(FireplaceQu):\n",
    "        return 'OthFireplace'\n",
    "    else:\n",
    "        if FireplaceQu in ['Gd','Ex']:\n",
    "            return 'GdFireplace'\n",
    "        else:\n",
    "            return 'OthFireplace'\n",
    "        \n",
    "ames['FireplaceQu'] = ames[['Id','FireplaceQu']].apply(fireplacequ,axis=1)"
   ]
  },
  {
   "cell_type": "markdown",
   "metadata": {},
   "source": [
    "### 58. GarageType"
   ]
  },
  {
   "cell_type": "code",
   "execution_count": 61,
   "metadata": {
    "collapsed": true
   },
   "outputs": [],
   "source": [
    "def garagetype(cols):\n",
    "    \"\"\"\n",
    "    Arguments:\n",
    "    cols[0] -- dataframe column value for ID\n",
    "    cols[1] -- dataframe column value for the feature, 'GarageType': Garage location \n",
    "    \n",
    "       2Types   More than one type of garage\n",
    "       Attchd   Attached to home\n",
    "       Basment  Basement Garage\n",
    "       BuiltIn  Built-In (Garage part of house - typically has room above garage)\n",
    "       CarPort  Car Port\n",
    "       Detchd   Detached from home\n",
    "       NA       No Garage\n",
    "       \n",
    "    Returns:\n",
    "    'Attached' -- if Attched, BuiltIn, Basment, or 2Types\n",
    "    'Detached' -- if Detchd, Carport, or missing\n",
    "    \"\"\"       \n",
    "    \n",
    "    Id = cols[0]\n",
    "    GarageType = cols[1]\n",
    "    \n",
    "    if pd.isnull(GarageType):\n",
    "        return 'Detached'\n",
    "    else:\n",
    "        if GarageType in ['Attchd', 'BuiltIn', 'Basment', '2Types']:\n",
    "            return 'Attached'\n",
    "        else:\n",
    "            return 'Detached'\n",
    "        \n",
    "ames['GarageType'] = ames[['Id','GarageType']].apply(garagetype,axis=1)"
   ]
  },
  {
   "cell_type": "markdown",
   "metadata": {},
   "source": [
    "### 59. GarageYrBlt"
   ]
  },
  {
   "cell_type": "code",
   "execution_count": 19,
   "metadata": {
    "collapsed": true
   },
   "outputs": [],
   "source": [
    "ames.drop(['GarageYrBlt'], axis = 1, inplace = True)"
   ]
  },
  {
   "cell_type": "markdown",
   "metadata": {},
   "source": [
    "### 60. GarageFinish"
   ]
  },
  {
   "cell_type": "code",
   "execution_count": 64,
   "metadata": {
    "collapsed": true
   },
   "outputs": [],
   "source": [
    "def garagefinish(cols):\n",
    "    \"\"\"\n",
    "    Arguments:\n",
    "    cols[0] -- dataframe column value for ID\n",
    "    cols[1] -- dataframe column value for the feature, 'GarageFinish': Interior finish of the garage \n",
    "    \n",
    "       Fin  Finished\n",
    "       RFn  Rough Finished\n",
    "       Unf  Unfinished\n",
    "       NA   No Garage\n",
    "       \n",
    "    Returns:\n",
    "    'Fin' -- if Finished\n",
    "    'RFn' -- if Rough Finished\n",
    "    'Unf' -- if Unfinished\n",
    "    'NoGarageFin'  -- if missing\n",
    "    \"\"\"       \n",
    "    \n",
    "    Id = cols[0]\n",
    "    GarageFinish = cols[1]\n",
    "    \n",
    "    if pd.isnull(GarageFinish):\n",
    "        return 'NoGarageFin'\n",
    "    else:\n",
    "        if GarageFinish == 'Fin':\n",
    "            return 'GarageFin'\n",
    "        elif GarageFinish == 'RFn':\n",
    "            return 'RoughGarageFin'\n",
    "        elif GarageFinish == 'Unf':\n",
    "            return 'GarageUnf'\n",
    "        else:\n",
    "            return 'NoGarageFin'\n",
    "        \n",
    "ames['GarageFinish'] = ames[['Id','GarageFinish']].apply(garagefinish,axis=1)"
   ]
  },
  {
   "cell_type": "code",
   "execution_count": null,
   "metadata": {
    "collapsed": true
   },
   "outputs": [],
   "source": []
  }
 ],
 "metadata": {
  "kernelspec": {
   "display_name": "Python 3",
   "language": "python",
   "name": "python3"
  },
  "language_info": {
   "codemirror_mode": {
    "name": "ipython",
    "version": 3
   },
   "file_extension": ".py",
   "mimetype": "text/x-python",
   "name": "python",
   "nbconvert_exporter": "python",
   "pygments_lexer": "ipython3",
   "version": "3.6.2"
  }
 },
 "nbformat": 4,
 "nbformat_minor": 2
}
