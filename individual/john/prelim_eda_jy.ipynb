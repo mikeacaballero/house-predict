{
 "cells": [
  {
   "cell_type": "markdown",
   "metadata": {},
   "source": [
    "## About this notebook\n",
    "\n",
    "This notebook gives an example of a \"mini\" multiple linear regression (MLR) model of a few selected features on a subset of the training set.  The goal is to \n",
    "\n",
    "(1) \"clean\" selected features to allow modeling, understanding how to handle\n",
    "    - missing values in continuous or categorical features (to impute or not; if impute, how?)\n",
    "    - categorical features with many categories (would it be meaningful to collapse categories?)\n",
    "    - categorical features with categories that only have a few observations\n",
    "(2) understand the roles of continuous and categorical features when modeling in MLR: how do you model categorical \n",
    "    features?\n",
    "(3) get insight or intuition about a MLR with a few features before pluging into a huge model with many features\n",
    "    (you can't make many good pizzas if you can't make at least one good pizza!)"
   ]
  },
  {
   "cell_type": "markdown",
   "metadata": {},
   "source": [
    "# A. import packages"
   ]
  },
  {
   "cell_type": "code",
   "execution_count": 49,
   "metadata": {
    "collapsed": true
   },
   "outputs": [],
   "source": [
    "import numpy as np\n",
    "import pandas as pd\n",
    "import matplotlib.pyplot as plt\n",
    "import seaborn as sns\n",
    "from scipy import stats\n",
    "\n",
    "%matplotlib inline"
   ]
  },
  {
   "cell_type": "code",
   "execution_count": 1,
   "metadata": {},
   "outputs": [
    {
     "ename": "NameError",
     "evalue": "name 'pd' is not defined",
     "output_type": "error",
     "traceback": [
      "\u001b[0;31m---------------------------------------------------------------------------\u001b[0m",
      "\u001b[0;31mNameError\u001b[0m                                 Traceback (most recent call last)",
      "\u001b[0;32m<ipython-input-1-3f77d60bc40f>\u001b[0m in \u001b[0;36m<module>\u001b[0;34m()\u001b[0m\n\u001b[1;32m      1\u001b[0m \u001b[0;31m#read in data\u001b[0m\u001b[0;34m\u001b[0m\u001b[0;34m\u001b[0m\u001b[0m\n\u001b[0;32m----> 2\u001b[0;31m \u001b[0mdf\u001b[0m \u001b[0;34m=\u001b[0m \u001b[0mpd\u001b[0m\u001b[0;34m.\u001b[0m\u001b[0mread_csv\u001b[0m\u001b[0;34m(\u001b[0m\u001b[0;34m'./data/train'\u001b[0m\u001b[0;34m)\u001b[0m\u001b[0;34m\u001b[0m\u001b[0m\n\u001b[0m\u001b[1;32m      3\u001b[0m \u001b[0mm\u001b[0m \u001b[0;34m=\u001b[0m \u001b[0mdf\u001b[0m\u001b[0;34m.\u001b[0m\u001b[0mshape\u001b[0m\u001b[0;34m[\u001b[0m\u001b[0;36m0\u001b[0m\u001b[0;34m]\u001b[0m\u001b[0;34m\u001b[0m\u001b[0m\n",
      "\u001b[0;31mNameError\u001b[0m: name 'pd' is not defined"
     ]
    }
   ],
   "source": [
    "#read in data\n",
    "df = pd.read_csv('./data/train')\n",
    "m = df.shape[0]"
   ]
  },
  {
   "cell_type": "markdown",
   "metadata": {},
   "source": [
    "# B. study selected features"
   ]
  },
  {
   "cell_type": "markdown",
   "metadata": {},
   "source": [
    "### 1. Central Air [categorical]"
   ]
  },
  {
   "cell_type": "code",
   "execution_count": 12,
   "metadata": {},
   "outputs": [
    {
     "data": {
      "text/plain": [
       "0    Y\n",
       "1    Y\n",
       "2    Y\n",
       "3    Y\n",
       "4    Y\n",
       "Name: CentralAir, dtype: object"
      ]
     },
     "execution_count": 12,
     "metadata": {},
     "output_type": "execute_result"
    }
   ],
   "source": [
    "#check how values look like\n",
    "df['CentralAir'].head()"
   ]
  },
  {
   "cell_type": "code",
   "execution_count": 6,
   "metadata": {
    "collapsed": true
   },
   "outputs": [],
   "source": [
    "group_ca = df.groupby('CentralAir')"
   ]
  },
  {
   "cell_type": "code",
   "execution_count": 33,
   "metadata": {},
   "outputs": [
    {
     "data": {
      "text/plain": [
       "CentralAir\n",
       "N      95\n",
       "Y    1365\n",
       "dtype: int64"
      ]
     },
     "execution_count": 33,
     "metadata": {},
     "output_type": "execute_result"
    }
   ],
   "source": [
    "#check number of observations per subcategory\n",
    "group_ca.size()"
   ]
  },
  {
   "cell_type": "code",
   "execution_count": 30,
   "metadata": {},
   "outputs": [
    {
     "name": "stdout",
     "output_type": "stream",
     "text": [
      "CentralAir\n",
      "N     6.5\n",
      "Y    93.5\n",
      "dtype: float64\n"
     ]
    }
   ],
   "source": [
    "#percentage (sorry, I don't know how to attach % sign)\n",
    "print(round(100*group_ca.size()/m,1))"
   ]
  },
  {
   "cell_type": "code",
   "execution_count": 32,
   "metadata": {},
   "outputs": [
    {
     "data": {
      "text/plain": [
       "1460"
      ]
     },
     "execution_count": 32,
     "metadata": {},
     "output_type": "execute_result"
    }
   ],
   "source": [
    "#make sure they add up to 1460\n",
    "group_ca.size().sum()"
   ]
  },
  {
   "cell_type": "code",
   "execution_count": 40,
   "metadata": {},
   "outputs": [
    {
     "data": {
      "text/html": [
       "<div>\n",
       "<style>\n",
       "    .dataframe thead tr:only-child th {\n",
       "        text-align: right;\n",
       "    }\n",
       "\n",
       "    .dataframe thead th {\n",
       "        text-align: left;\n",
       "    }\n",
       "\n",
       "    .dataframe tbody tr th {\n",
       "        vertical-align: top;\n",
       "    }\n",
       "</style>\n",
       "<table border=\"1\" class=\"dataframe\">\n",
       "  <thead>\n",
       "    <tr style=\"text-align: right;\">\n",
       "      <th></th>\n",
       "      <th>count</th>\n",
       "      <th>sum</th>\n",
       "      <th>min</th>\n",
       "      <th>max</th>\n",
       "      <th>mean</th>\n",
       "      <th>std</th>\n",
       "    </tr>\n",
       "    <tr>\n",
       "      <th>CentralAir</th>\n",
       "      <th></th>\n",
       "      <th></th>\n",
       "      <th></th>\n",
       "      <th></th>\n",
       "      <th></th>\n",
       "      <th></th>\n",
       "    </tr>\n",
       "  </thead>\n",
       "  <tbody>\n",
       "    <tr>\n",
       "      <th>N</th>\n",
       "      <td>95</td>\n",
       "      <td>10000087</td>\n",
       "      <td>34900</td>\n",
       "      <td>265979</td>\n",
       "      <td>105264.073684</td>\n",
       "      <td>40671.273961</td>\n",
       "    </tr>\n",
       "    <tr>\n",
       "      <th>Y</th>\n",
       "      <td>1365</td>\n",
       "      <td>254144859</td>\n",
       "      <td>52000</td>\n",
       "      <td>755000</td>\n",
       "      <td>186186.709890</td>\n",
       "      <td>78805.206820</td>\n",
       "    </tr>\n",
       "  </tbody>\n",
       "</table>\n",
       "</div>"
      ],
      "text/plain": [
       "            count        sum    min     max           mean           std\n",
       "CentralAir                                                              \n",
       "N              95   10000087  34900  265979  105264.073684  40671.273961\n",
       "Y            1365  254144859  52000  755000  186186.709890  78805.206820"
      ]
     },
     "execution_count": 40,
     "metadata": {},
     "output_type": "execute_result"
    }
   ],
   "source": [
    "#summary statistics for price per category\n",
    "group_ca.agg(['count', 'sum', 'min', 'max', 'mean', 'std'])['SalePrice']"
   ]
  },
  {
   "cell_type": "code",
   "execution_count": 38,
   "metadata": {},
   "outputs": [
    {
     "data": {
      "image/png": "[encoded data removed]",
      "text/plain": [
       "<matplotlib.figure.Figure at 0x11d886518>"
      ]
     },
     "metadata": {},
     "output_type": "display_data"
    }
   ],
   "source": [
    "#visualize distributions\n",
    "sns.violinplot(x=\"SalePrice\", y=\"CentralAir\", data=df);"
   ]
  },
  {
   "cell_type": "markdown",
   "metadata": {},
   "source": [
    "**Comments**\n",
    "1. Complete data\n",
    "2. Each category has at least 5% observations \n",
    "3. For new data when testing, impute missing as \"N\""
   ]
  },
  {
   "cell_type": "markdown",
   "metadata": {},
   "source": [
    "### 2. Electrical [categorical]"
   ]
  },
  {
   "cell_type": "code",
   "execution_count": 41,
   "metadata": {},
   "outputs": [
    {
     "data": {
      "text/plain": [
       "0    SBrkr\n",
       "1    SBrkr\n",
       "2    SBrkr\n",
       "3    SBrkr\n",
       "4    SBrkr\n",
       "Name: Electrical, dtype: object"
      ]
     },
     "execution_count": 41,
     "metadata": {},
     "output_type": "execute_result"
    }
   ],
   "source": [
    "#check how values look like\n",
    "df['Electrical'].head()"
   ]
  },
  {
   "cell_type": "code",
   "execution_count": 42,
   "metadata": {
    "collapsed": true
   },
   "outputs": [],
   "source": [
    "group_el = df.groupby('Electrical')"
   ]
  },
  {
   "cell_type": "code",
   "execution_count": 43,
   "metadata": {},
   "outputs": [
    {
     "data": {
      "text/plain": [
       "Electrical\n",
       "FuseA      94\n",
       "FuseF      27\n",
       "FuseP       3\n",
       "Mix         1\n",
       "SBrkr    1334\n",
       "dtype: int64"
      ]
     },
     "execution_count": 43,
     "metadata": {},
     "output_type": "execute_result"
    }
   ],
   "source": [
    "#check number of observations per subcategory\n",
    "group_el.size()"
   ]
  },
  {
   "cell_type": "code",
   "execution_count": 44,
   "metadata": {},
   "outputs": [
    {
     "name": "stdout",
     "output_type": "stream",
     "text": [
      "Electrical\n",
      "FuseA     6.4\n",
      "FuseF     1.8\n",
      "FuseP     0.2\n",
      "Mix       0.1\n",
      "SBrkr    91.4\n",
      "dtype: float64\n"
     ]
    }
   ],
   "source": [
    "#percentage \n",
    "print(round(100*group_el.size()/m,1))"
   ]
  },
  {
   "cell_type": "code",
   "execution_count": 45,
   "metadata": {},
   "outputs": [
    {
     "data": {
      "text/plain": [
       "1459"
      ]
     },
     "execution_count": 45,
     "metadata": {},
     "output_type": "execute_result"
    }
   ],
   "source": [
    "#make sure they add up to 1460\n",
    "group_el.size().sum()"
   ]
  },
  {
   "cell_type": "code",
   "execution_count": 46,
   "metadata": {},
   "outputs": [
    {
     "data": {
      "text/html": [
       "<div>\n",
       "<style>\n",
       "    .dataframe thead tr:only-child th {\n",
       "        text-align: right;\n",
       "    }\n",
       "\n",
       "    .dataframe thead th {\n",
       "        text-align: left;\n",
       "    }\n",
       "\n",
       "    .dataframe tbody tr th {\n",
       "        vertical-align: top;\n",
       "    }\n",
       "</style>\n",
       "<table border=\"1\" class=\"dataframe\">\n",
       "  <thead>\n",
       "    <tr style=\"text-align: right;\">\n",
       "      <th></th>\n",
       "      <th>count</th>\n",
       "      <th>sum</th>\n",
       "      <th>min</th>\n",
       "      <th>max</th>\n",
       "      <th>mean</th>\n",
       "      <th>std</th>\n",
       "    </tr>\n",
       "    <tr>\n",
       "      <th>Electrical</th>\n",
       "      <th></th>\n",
       "      <th></th>\n",
       "      <th></th>\n",
       "      <th></th>\n",
       "      <th></th>\n",
       "      <th></th>\n",
       "    </tr>\n",
       "  </thead>\n",
       "  <tbody>\n",
       "    <tr>\n",
       "      <th>FuseA</th>\n",
       "      <td>94</td>\n",
       "      <td>11486508</td>\n",
       "      <td>34900</td>\n",
       "      <td>239000</td>\n",
       "      <td>122196.893617</td>\n",
       "      <td>37511.376615</td>\n",
       "    </tr>\n",
       "    <tr>\n",
       "      <th>FuseF</th>\n",
       "      <td>27</td>\n",
       "      <td>2907237</td>\n",
       "      <td>39300</td>\n",
       "      <td>169500</td>\n",
       "      <td>107675.444444</td>\n",
       "      <td>30636.507376</td>\n",
       "    </tr>\n",
       "    <tr>\n",
       "      <th>FuseP</th>\n",
       "      <td>3</td>\n",
       "      <td>292000</td>\n",
       "      <td>73000</td>\n",
       "      <td>137000</td>\n",
       "      <td>97333.333333</td>\n",
       "      <td>34645.827070</td>\n",
       "    </tr>\n",
       "    <tr>\n",
       "      <th>Mix</th>\n",
       "      <td>1</td>\n",
       "      <td>67000</td>\n",
       "      <td>67000</td>\n",
       "      <td>67000</td>\n",
       "      <td>67000.000000</td>\n",
       "      <td>NaN</td>\n",
       "    </tr>\n",
       "    <tr>\n",
       "      <th>SBrkr</th>\n",
       "      <td>1334</td>\n",
       "      <td>249224701</td>\n",
       "      <td>37900</td>\n",
       "      <td>755000</td>\n",
       "      <td>186825.113193</td>\n",
       "      <td>79856.458326</td>\n",
       "    </tr>\n",
       "  </tbody>\n",
       "</table>\n",
       "</div>"
      ],
      "text/plain": [
       "            count        sum    min     max           mean           std\n",
       "Electrical                                                              \n",
       "FuseA          94   11486508  34900  239000  122196.893617  37511.376615\n",
       "FuseF          27    2907237  39300  169500  107675.444444  30636.507376\n",
       "FuseP           3     292000  73000  137000   97333.333333  34645.827070\n",
       "Mix             1      67000  67000   67000   67000.000000           NaN\n",
       "SBrkr        1334  249224701  37900  755000  186825.113193  79856.458326"
      ]
     },
     "execution_count": 46,
     "metadata": {},
     "output_type": "execute_result"
    }
   ],
   "source": [
    "#summary statistics for price per category\n",
    "group_el.agg(['count', 'sum', 'min', 'max', 'mean', 'std'])['SalePrice']"
   ]
  },
  {
   "cell_type": "code",
   "execution_count": 47,
   "metadata": {},
   "outputs": [
    {
     "data": {
      "text/plain": [
       "<matplotlib.axes._subplots.AxesSubplot at 0x11db35be0>"
      ]
     },
     "execution_count": 47,
     "metadata": {},
     "output_type": "execute_result"
    },
    {
     "data": {
      "image/png": "[encoded data removed]",
      "text/plain": [
       "<matplotlib.figure.Figure at 0x11db12908>"
      ]
     },
     "metadata": {},
     "output_type": "display_data"
    }
   ],
   "source": [
    "temp = df.Electrical.astype('category')\n",
    "sns.violinplot(x=\"SalePrice\", y=temp, data=df)"
   ]
  },
  {
   "cell_type": "code",
   "execution_count": 53,
   "metadata": {},
   "outputs": [
    {
     "data": {
      "text/plain": [
       "F_onewayResult(statistic=23.06767302405713, pvalue=1.6632487814737638e-18)"
      ]
     },
     "execution_count": 53,
     "metadata": {},
     "output_type": "execute_result"
    }
   ],
   "source": [
    "stats.f_oneway(df.SalePrice[df.Electrical == 'FuseA'],\n",
    "              df.SalePrice[df.Electrical == 'FuseF'],\n",
    "              df.SalePrice[df.Electrical == 'FuseP'],\n",
    "              df.SalePrice[df.Electrical == 'Mix'],\n",
    "              df.SalePrice[df.Electrical == 'SBrkr'])"
   ]
  },
  {
   "cell_type": "markdown",
   "metadata": {},
   "source": [
    "**Comments**\n",
    "1. Some subcategories have very few observations (<5%) \n",
    "2. The subcategories do not add up to 1460.\n",
    "3. Need to \"collapse\" some categories e.g. reduce to two subcategories: SBrkr vs Others (including missing)\n",
    "4. For new data when testing, impute missing as \"Other\""
   ]
  },
  {
   "cell_type": "markdown",
   "metadata": {},
   "source": [
    "### 3. 1stFlrSF [continuous]"
   ]
  },
  {
   "cell_type": "code",
   "execution_count": 67,
   "metadata": {},
   "outputs": [
    {
     "data": {
      "text/plain": [
       "0     856\n",
       "1    1262\n",
       "2     920\n",
       "3     961\n",
       "4    1145\n",
       "Name: 1stFlrSF, dtype: int64"
      ]
     },
     "execution_count": 67,
     "metadata": {},
     "output_type": "execute_result"
    }
   ],
   "source": [
    "df['1stFlrSF'].head()"
   ]
  },
  {
   "cell_type": "code",
   "execution_count": 55,
   "metadata": {},
   "outputs": [
    {
     "data": {
      "text/plain": [
       "1460"
      ]
     },
     "execution_count": 55,
     "metadata": {},
     "output_type": "execute_result"
    }
   ],
   "source": [
    "df['1stFlrSF'].count()"
   ]
  },
  {
   "cell_type": "code",
   "execution_count": 61,
   "metadata": {},
   "outputs": [
    {
     "data": {
      "text/plain": [
       "count    1460.0\n",
       "mean     1162.6\n",
       "std       386.6\n",
       "min       334.0\n",
       "25%       882.0\n",
       "50%      1087.0\n",
       "75%      1391.2\n",
       "max      4692.0\n",
       "Name: 1stFlrSF, dtype: float64"
      ]
     },
     "execution_count": 61,
     "metadata": {},
     "output_type": "execute_result"
    }
   ],
   "source": [
    "round(df['1stFlrSF'].describe(),1)"
   ]
  },
  {
   "cell_type": "code",
   "execution_count": 60,
   "metadata": {},
   "outputs": [
    {
     "data": {
      "image/png": "[encoded data removed]",
      "text/plain": [
       "<matplotlib.figure.Figure at 0x11dd92710>"
      ]
     },
     "metadata": {},
     "output_type": "display_data"
    }
   ],
   "source": [
    "sns.jointplot(x='1stFlrSF', y='SalePrice', data=df, kind=\"reg\");"
   ]
  },
  {
   "cell_type": "markdown",
   "metadata": {},
   "source": [
    "**Comments**\n",
    "1. Complete data \n",
    "2. Many outlying observations\n",
    "3. Marginal distributions are skewed\n",
    "4. For new data when testing, impute missing as the mean"
   ]
  },
  {
   "cell_type": "markdown",
   "metadata": {},
   "source": [
    "### 4. 2ndFlrSF [continuous]"
   ]
  },
  {
   "cell_type": "code",
   "execution_count": 66,
   "metadata": {},
   "outputs": [
    {
     "data": {
      "text/plain": [
       "0     854\n",
       "1       0\n",
       "2     866\n",
       "3     756\n",
       "4    1053\n",
       "Name: 2ndFlrSF, dtype: int64"
      ]
     },
     "execution_count": 66,
     "metadata": {},
     "output_type": "execute_result"
    }
   ],
   "source": [
    "df['2ndFlrSF'].head()"
   ]
  },
  {
   "cell_type": "code",
   "execution_count": 68,
   "metadata": {},
   "outputs": [
    {
     "data": {
      "text/plain": [
       "1460"
      ]
     },
     "execution_count": 68,
     "metadata": {},
     "output_type": "execute_result"
    }
   ],
   "source": [
    "df['2ndFlrSF'].count()"
   ]
  },
  {
   "cell_type": "code",
   "execution_count": 64,
   "metadata": {},
   "outputs": [
    {
     "data": {
      "text/plain": [
       "count    1460.0\n",
       "mean      347.0\n",
       "std       436.5\n",
       "min         0.0\n",
       "25%         0.0\n",
       "50%         0.0\n",
       "75%       728.0\n",
       "max      2065.0\n",
       "Name: 2ndFlrSF, dtype: float64"
      ]
     },
     "execution_count": 64,
     "metadata": {},
     "output_type": "execute_result"
    }
   ],
   "source": [
    "round(df['2ndFlrSF'].describe(),1)"
   ]
  },
  {
   "cell_type": "code",
   "execution_count": 69,
   "metadata": {},
   "outputs": [
    {
     "data": {
      "image/png": "[encoded data removed]",
      "text/plain": [
       "<matplotlib.figure.Figure at 0x11efc5f98>"
      ]
     },
     "metadata": {},
     "output_type": "display_data"
    }
   ],
   "source": [
    "sns.jointplot(x='2ndFlrSF', y='SalePrice', data=df, kind=\"reg\");"
   ]
  },
  {
   "cell_type": "markdown",
   "metadata": {},
   "source": [
    "**Comments**\n",
    "1. Complete data \n",
    "2. Many outlying observations\n",
    "3. Marginal distributions are skewed and bimodal for 2ndFlrSF\n",
    "4. Many zeroes that are influential on linear fit\n",
    "5. Combine with 1stFlrSF\n",
    "6. For new data when testing, impute missing as the mean"
   ]
  },
  {
   "cell_type": "markdown",
   "metadata": {},
   "source": [
    "### 5. LowQualFinSF [continuous]"
   ]
  },
  {
   "cell_type": "code",
   "execution_count": 71,
   "metadata": {},
   "outputs": [
    {
     "data": {
      "text/plain": [
       "0    0\n",
       "1    0\n",
       "2    0\n",
       "3    0\n",
       "4    0\n",
       "Name: LowQualFinSF, dtype: int64"
      ]
     },
     "execution_count": 71,
     "metadata": {},
     "output_type": "execute_result"
    }
   ],
   "source": [
    "df['LowQualFinSF'].head()"
   ]
  },
  {
   "cell_type": "code",
   "execution_count": 72,
   "metadata": {},
   "outputs": [
    {
     "data": {
      "text/plain": [
       "1460"
      ]
     },
     "execution_count": 72,
     "metadata": {},
     "output_type": "execute_result"
    }
   ],
   "source": [
    "df['LowQualFinSF'].count()"
   ]
  },
  {
   "cell_type": "code",
   "execution_count": 73,
   "metadata": {},
   "outputs": [
    {
     "data": {
      "text/plain": [
       "count    1460.0\n",
       "mean        5.8\n",
       "std        48.6\n",
       "min         0.0\n",
       "25%         0.0\n",
       "50%         0.0\n",
       "75%         0.0\n",
       "max       572.0\n",
       "Name: LowQualFinSF, dtype: float64"
      ]
     },
     "execution_count": 73,
     "metadata": {},
     "output_type": "execute_result"
    }
   ],
   "source": [
    "round(df['LowQualFinSF'].describe(),1)"
   ]
  },
  {
   "cell_type": "code",
   "execution_count": 74,
   "metadata": {},
   "outputs": [
    {
     "data": {
      "image/png": "[encoded data removed]",
      "text/plain": [
       "<matplotlib.figure.Figure at 0x11f4aef98>"
      ]
     },
     "metadata": {},
     "output_type": "display_data"
    }
   ],
   "source": [
    "sns.jointplot(x='LowQualFinSF', y='SalePrice', data=df, kind=\"reg\");"
   ]
  },
  {
   "cell_type": "code",
   "execution_count": 81,
   "metadata": {},
   "outputs": [
    {
     "name": "stdout",
     "output_type": "stream",
     "text": [
      "98.2%\n"
     ]
    }
   ],
   "source": [
    "#percentage missing\n",
    "print(str(round(100*(df[df['LowQualFinSF']==0]['LowQualFinSF'].count()/m),1))+\"%\")"
   ]
  },
  {
   "cell_type": "markdown",
   "metadata": {},
   "source": [
    "**Comments**\n",
    "1. Many outlying observations\n",
    "3. Marginal distributions are skewed \n",
    "4. Too many zeroes\n",
    "5. Consider excluding\n",
    "6. For new data when testing, exclude feature "
   ]
  },
  {
   "cell_type": "markdown",
   "metadata": {},
   "source": [
    "### 6. GrLivArea [continuous]"
   ]
  },
  {
   "cell_type": "code",
   "execution_count": 82,
   "metadata": {},
   "outputs": [
    {
     "data": {
      "text/plain": [
       "0    1710\n",
       "1    1262\n",
       "2    1786\n",
       "3    1717\n",
       "4    2198\n",
       "Name: GrLivArea, dtype: int64"
      ]
     },
     "execution_count": 82,
     "metadata": {},
     "output_type": "execute_result"
    }
   ],
   "source": [
    "df['GrLivArea'].head()"
   ]
  },
  {
   "cell_type": "code",
   "execution_count": 83,
   "metadata": {},
   "outputs": [
    {
     "data": {
      "text/plain": [
       "1460"
      ]
     },
     "execution_count": 83,
     "metadata": {},
     "output_type": "execute_result"
    }
   ],
   "source": [
    "df['GrLivArea'].count()"
   ]
  },
  {
   "cell_type": "code",
   "execution_count": 84,
   "metadata": {},
   "outputs": [
    {
     "data": {
      "text/plain": [
       "count    1460.0\n",
       "mean     1515.5\n",
       "std       525.5\n",
       "min       334.0\n",
       "25%      1129.5\n",
       "50%      1464.0\n",
       "75%      1776.8\n",
       "max      5642.0\n",
       "Name: GrLivArea, dtype: float64"
      ]
     },
     "execution_count": 84,
     "metadata": {},
     "output_type": "execute_result"
    }
   ],
   "source": [
    "round(df['GrLivArea'].describe(),1)"
   ]
  },
  {
   "cell_type": "code",
   "execution_count": 85,
   "metadata": {},
   "outputs": [
    {
     "data": {
      "image/png": "[encoded data removed]",
      "text/plain": [
       "<matplotlib.figure.Figure at 0x11ef5f8d0>"
      ]
     },
     "metadata": {},
     "output_type": "display_data"
    }
   ],
   "source": [
    "sns.jointplot(x='GrLivArea', y='SalePrice', data=df, kind=\"reg\");"
   ]
  },
  {
   "cell_type": "markdown",
   "metadata": {},
   "source": [
    "**Comments**\n",
    "1. Complete data \n",
    "2. Many outlying observations\n",
    "3. Marginal distributions are skewed \n",
    "4. For new data when testing, impute missing as the mean"
   ]
  },
  {
   "cell_type": "markdown",
   "metadata": {},
   "source": [
    "### 7. BsmtFullBath"
   ]
  },
  {
   "cell_type": "code",
   "execution_count": 87,
   "metadata": {},
   "outputs": [
    {
     "data": {
      "text/plain": [
       "0    1\n",
       "1    0\n",
       "2    1\n",
       "3    1\n",
       "4    1\n",
       "Name: BsmtFullBath, dtype: int64"
      ]
     },
     "execution_count": 87,
     "metadata": {},
     "output_type": "execute_result"
    }
   ],
   "source": [
    "df['BsmtFullBath'].head()"
   ]
  },
  {
   "cell_type": "code",
   "execution_count": 88,
   "metadata": {},
   "outputs": [
    {
     "data": {
      "text/plain": [
       "1460"
      ]
     },
     "execution_count": 88,
     "metadata": {},
     "output_type": "execute_result"
    }
   ],
   "source": [
    "df['BsmtFullBath'].count()"
   ]
  },
  {
   "cell_type": "code",
   "execution_count": 90,
   "metadata": {},
   "outputs": [
    {
     "data": {
      "image/png": "[encoded data removed]",
      "text/plain": [
       "<matplotlib.figure.Figure at 0x11f052748>"
      ]
     },
     "metadata": {},
     "output_type": "display_data"
    }
   ],
   "source": [
    "sns.distplot(df['BsmtFullBath']);"
   ]
  },
  {
   "cell_type": "code",
   "execution_count": 110,
   "metadata": {},
   "outputs": [
    {
     "data": {
      "image/png": "[encoded data removed]",
      "text/plain": [
       "<matplotlib.figure.Figure at 0x11e484780>"
      ]
     },
     "metadata": {},
     "output_type": "display_data"
    }
   ],
   "source": [
    "def categorize(x):\n",
    "    if x == 0:\n",
    "        return 'None'\n",
    "    elif x == 1:\n",
    "        return 'One'\n",
    "    elif x == 2:\n",
    "        return 'Two'\n",
    "    else:\n",
    "        return 'Three'\n",
    "\n",
    "df['BsmtFB'] = df['BsmtFullBath'].apply(lambda x: categorize(x))\n",
    "sns.violinplot(x=\"SalePrice\", y=\"BsmtFB\", data=df);"
   ]
  },
  {
   "cell_type": "code",
   "execution_count": 95,
   "metadata": {},
   "outputs": [
    {
     "data": {
      "text/plain": [
       "BsmtFullBath\n",
       "0    856\n",
       "1    588\n",
       "2     15\n",
       "3      1\n",
       "Name: BsmtFullBath, dtype: int64"
      ]
     },
     "execution_count": 95,
     "metadata": {},
     "output_type": "execute_result"
    }
   ],
   "source": [
    "df.groupby(['BsmtFullBath'])['BsmtFullBath'].count()"
   ]
  },
  {
   "cell_type": "code",
   "execution_count": 96,
   "metadata": {},
   "outputs": [
    {
     "data": {
      "text/plain": [
       "BsmtFullBath\n",
       "0    58.6\n",
       "1    40.3\n",
       "2     1.0\n",
       "3     0.1\n",
       "Name: BsmtFullBath, dtype: float64"
      ]
     },
     "execution_count": 96,
     "metadata": {},
     "output_type": "execute_result"
    }
   ],
   "source": [
    "round(100*df.groupby(['BsmtFullBath'])['BsmtFullBath'].count()/m,1)"
   ]
  },
  {
   "cell_type": "markdown",
   "metadata": {},
   "source": [
    "**Comments**\n",
    "1. Complete data \n",
    "2. Too few observations for 2 or 3 full baths\n",
    "3. Create new feature as NoFullBath and AtLeastOneFullBath (numerical to categorical)\n",
    "4. For new data when testing, impute missing as NoFullBath"
   ]
  },
  {
   "cell_type": "markdown",
   "metadata": {},
   "source": [
    "### 8. BsmtHalfBath"
   ]
  },
  {
   "cell_type": "code",
   "execution_count": 98,
   "metadata": {},
   "outputs": [
    {
     "data": {
      "text/plain": [
       "0    0\n",
       "1    1\n",
       "2    0\n",
       "3    0\n",
       "4    0\n",
       "Name: BsmtHalfBath, dtype: int64"
      ]
     },
     "execution_count": 98,
     "metadata": {},
     "output_type": "execute_result"
    }
   ],
   "source": [
    "df['BsmtHalfBath'].head()"
   ]
  },
  {
   "cell_type": "code",
   "execution_count": 99,
   "metadata": {},
   "outputs": [
    {
     "data": {
      "text/plain": [
       "1460"
      ]
     },
     "execution_count": 99,
     "metadata": {},
     "output_type": "execute_result"
    }
   ],
   "source": [
    "df['BsmtHalfBath'].count()"
   ]
  },
  {
   "cell_type": "code",
   "execution_count": 100,
   "metadata": {},
   "outputs": [
    {
     "data": {
      "image/png": "[encoded data removed]",
      "text/plain": [
       "<matplotlib.figure.Figure at 0x11f08ff98>"
      ]
     },
     "metadata": {},
     "output_type": "display_data"
    }
   ],
   "source": [
    "sns.distplot(df['BsmtHalfBath']);"
   ]
  },
  {
   "cell_type": "code",
   "execution_count": 101,
   "metadata": {},
   "outputs": [
    {
     "data": {
      "text/plain": [
       "BsmtHalfBath\n",
       "0    1378\n",
       "1      80\n",
       "2       2\n",
       "Name: BsmtHalfBath, dtype: int64"
      ]
     },
     "execution_count": 101,
     "metadata": {},
     "output_type": "execute_result"
    }
   ],
   "source": [
    "df.groupby(['BsmtHalfBath'])['BsmtHalfBath'].count()"
   ]
  },
  {
   "cell_type": "code",
   "execution_count": 102,
   "metadata": {},
   "outputs": [
    {
     "data": {
      "text/plain": [
       "BsmtHalfBath\n",
       "0    94.4\n",
       "1     5.5\n",
       "2     0.1\n",
       "Name: BsmtHalfBath, dtype: float64"
      ]
     },
     "execution_count": 102,
     "metadata": {},
     "output_type": "execute_result"
    }
   ],
   "source": [
    "round(100*df.groupby(['BsmtHalfBath'])['BsmtHalfBath'].count()/m,1)"
   ]
  },
  {
   "cell_type": "markdown",
   "metadata": {},
   "source": [
    "**Comments**\n",
    "1. Complete data  \n",
    "2. Too few observations for 1 or 2 half baths\n",
    "3. Create new feature as NoHalfBath and AtLeastOneHalfBath\n",
    "4. For new data when testing, impute missing as NoHalfBath\n",
    "5. Consider creating new feature combining BsmtFullBath and BstmHalfBath"
   ]
  },
  {
   "cell_type": "markdown",
   "metadata": {},
   "source": [
    "### 9. FullBath "
   ]
  },
  {
   "cell_type": "code",
   "execution_count": 104,
   "metadata": {},
   "outputs": [
    {
     "data": {
      "text/plain": [
       "0    2\n",
       "1    2\n",
       "2    2\n",
       "3    1\n",
       "4    2\n",
       "Name: FullBath, dtype: int64"
      ]
     },
     "execution_count": 104,
     "metadata": {},
     "output_type": "execute_result"
    }
   ],
   "source": [
    "df['FullBath'].head()"
   ]
  },
  {
   "cell_type": "code",
   "execution_count": 105,
   "metadata": {},
   "outputs": [
    {
     "data": {
      "text/plain": [
       "1460"
      ]
     },
     "execution_count": 105,
     "metadata": {},
     "output_type": "execute_result"
    }
   ],
   "source": [
    "df['FullBath'].count()"
   ]
  },
  {
   "cell_type": "code",
   "execution_count": 106,
   "metadata": {},
   "outputs": [
    {
     "data": {
      "image/png": "[encoded data removed]",
      "text/plain": [
       "<matplotlib.figure.Figure at 0x11f75bcc0>"
      ]
     },
     "metadata": {},
     "output_type": "display_data"
    }
   ],
   "source": [
    "sns.distplot(df['FullBath']);"
   ]
  },
  {
   "cell_type": "code",
   "execution_count": 107,
   "metadata": {},
   "outputs": [
    {
     "data": {
      "text/plain": [
       "FullBath\n",
       "0      9\n",
       "1    650\n",
       "2    768\n",
       "3     33\n",
       "Name: FullBath, dtype: int64"
      ]
     },
     "execution_count": 107,
     "metadata": {},
     "output_type": "execute_result"
    }
   ],
   "source": [
    "df.groupby(['FullBath'])['FullBath'].count()"
   ]
  },
  {
   "cell_type": "code",
   "execution_count": 108,
   "metadata": {},
   "outputs": [
    {
     "data": {
      "text/plain": [
       "FullBath\n",
       "0     0.6\n",
       "1    44.5\n",
       "2    52.6\n",
       "3     2.3\n",
       "Name: FullBath, dtype: float64"
      ]
     },
     "execution_count": 108,
     "metadata": {},
     "output_type": "execute_result"
    }
   ],
   "source": [
    "round(100*df.groupby(['FullBath'])['FullBath'].count()/m,1)"
   ]
  },
  {
   "cell_type": "markdown",
   "metadata": {},
   "source": [
    "**Comments**\n",
    "1. Complete data \n",
    "2. Too few observations for 0 or 3 full baths\n",
    "3. Create new feature as <=1 and >1\n",
    "4. For new data when testing, impute missing as <=1\n",
    "5. Consider creating new feature combining FullBath and HalfBath"
   ]
  },
  {
   "cell_type": "markdown",
   "metadata": {},
   "source": [
    "### 10. HalfBath"
   ]
  },
  {
   "cell_type": "code",
   "execution_count": 111,
   "metadata": {},
   "outputs": [
    {
     "data": {
      "text/plain": [
       "0    1\n",
       "1    0\n",
       "2    1\n",
       "3    0\n",
       "4    1\n",
       "Name: HalfBath, dtype: int64"
      ]
     },
     "execution_count": 111,
     "metadata": {},
     "output_type": "execute_result"
    }
   ],
   "source": [
    "df['HalfBath'].head()"
   ]
  },
  {
   "cell_type": "code",
   "execution_count": 112,
   "metadata": {},
   "outputs": [
    {
     "data": {
      "text/plain": [
       "1460"
      ]
     },
     "execution_count": 112,
     "metadata": {},
     "output_type": "execute_result"
    }
   ],
   "source": [
    "df['HalfBath'].count()"
   ]
  },
  {
   "cell_type": "code",
   "execution_count": 113,
   "metadata": {},
   "outputs": [
    {
     "data": {
      "image/png": "[encoded data removed]",
      "text/plain": [
       "<matplotlib.figure.Figure at 0x11e514c18>"
      ]
     },
     "metadata": {},
     "output_type": "display_data"
    }
   ],
   "source": [
    "sns.distplot(df['HalfBath']);"
   ]
  },
  {
   "cell_type": "code",
   "execution_count": 114,
   "metadata": {},
   "outputs": [
    {
     "data": {
      "text/plain": [
       "HalfBath\n",
       "0    913\n",
       "1    535\n",
       "2     12\n",
       "Name: HalfBath, dtype: int64"
      ]
     },
     "execution_count": 114,
     "metadata": {},
     "output_type": "execute_result"
    }
   ],
   "source": [
    "df.groupby(['HalfBath'])['HalfBath'].count()"
   ]
  },
  {
   "cell_type": "code",
   "execution_count": 115,
   "metadata": {},
   "outputs": [
    {
     "data": {
      "text/plain": [
       "HalfBath\n",
       "0    62.5\n",
       "1    36.6\n",
       "2     0.8\n",
       "Name: HalfBath, dtype: float64"
      ]
     },
     "execution_count": 115,
     "metadata": {},
     "output_type": "execute_result"
    }
   ],
   "source": [
    "round(100*df.groupby(['HalfBath'])['HalfBath'].count()/m,1)"
   ]
  },
  {
   "cell_type": "markdown",
   "metadata": {},
   "source": [
    "**Comments**\n",
    "1. Complete data \n",
    "2. Too few observations for 2 half baths\n",
    "3. Create new feature as None or >=1\n",
    "4. For new data when testing, impute missing as None\n",
    "5. Consider creating new feature combining FullBath and HalfBath"
   ]
  },
  {
   "cell_type": "markdown",
   "metadata": {},
   "source": [
    "### 11. BedroomAbvGr"
   ]
  },
  {
   "cell_type": "code",
   "execution_count": 116,
   "metadata": {},
   "outputs": [
    {
     "data": {
      "text/plain": [
       "0    3\n",
       "1    3\n",
       "2    3\n",
       "3    3\n",
       "4    4\n",
       "Name: BedroomAbvGr, dtype: int64"
      ]
     },
     "execution_count": 116,
     "metadata": {},
     "output_type": "execute_result"
    }
   ],
   "source": [
    "df['BedroomAbvGr'].head()"
   ]
  },
  {
   "cell_type": "code",
   "execution_count": 117,
   "metadata": {},
   "outputs": [
    {
     "data": {
      "text/plain": [
       "1460"
      ]
     },
     "execution_count": 117,
     "metadata": {},
     "output_type": "execute_result"
    }
   ],
   "source": [
    "df['BedroomAbvGr'].count()"
   ]
  },
  {
   "cell_type": "code",
   "execution_count": 118,
   "metadata": {},
   "outputs": [
    {
     "data": {
      "image/png": "[encoded data removed]",
      "text/plain": [
       "<matplotlib.figure.Figure at 0x120be6780>"
      ]
     },
     "metadata": {},
     "output_type": "display_data"
    }
   ],
   "source": [
    "sns.distplot(df['BedroomAbvGr']);"
   ]
  },
  {
   "cell_type": "code",
   "execution_count": 119,
   "metadata": {},
   "outputs": [
    {
     "data": {
      "text/plain": [
       "BedroomAbvGr\n",
       "0      6\n",
       "1     50\n",
       "2    358\n",
       "3    804\n",
       "4    213\n",
       "5     21\n",
       "6      7\n",
       "8      1\n",
       "Name: BedroomAbvGr, dtype: int64"
      ]
     },
     "execution_count": 119,
     "metadata": {},
     "output_type": "execute_result"
    }
   ],
   "source": [
    "df.groupby(['BedroomAbvGr'])['BedroomAbvGr'].count()"
   ]
  },
  {
   "cell_type": "code",
   "execution_count": 120,
   "metadata": {},
   "outputs": [
    {
     "data": {
      "text/plain": [
       "BedroomAbvGr\n",
       "0     0.4\n",
       "1     3.4\n",
       "2    24.5\n",
       "3    55.1\n",
       "4    14.6\n",
       "5     1.4\n",
       "6     0.5\n",
       "8     0.1\n",
       "Name: BedroomAbvGr, dtype: float64"
      ]
     },
     "execution_count": 120,
     "metadata": {},
     "output_type": "execute_result"
    }
   ],
   "source": [
    "round(100*df.groupby(['BedroomAbvGr'])['BedroomAbvGr'].count()/m,1)"
   ]
  },
  {
   "cell_type": "markdown",
   "metadata": {},
   "source": [
    "**Comments**\n",
    "1. Complete data \n",
    "2. Too few observations for 0, 1, 5+\n",
    "3. Create new feature as <=2, 3, or 4+\n",
    "4. For new data when testing, impute missing as <=2"
   ]
  },
  {
   "cell_type": "markdown",
   "metadata": {},
   "source": [
    "### 12. KitchenAbvGr"
   ]
  },
  {
   "cell_type": "code",
   "execution_count": 121,
   "metadata": {},
   "outputs": [
    {
     "data": {
      "text/plain": [
       "0    1\n",
       "1    1\n",
       "2    1\n",
       "3    1\n",
       "4    1\n",
       "Name: KitchenAbvGr, dtype: int64"
      ]
     },
     "execution_count": 121,
     "metadata": {},
     "output_type": "execute_result"
    }
   ],
   "source": [
    "df['KitchenAbvGr'].head()"
   ]
  },
  {
   "cell_type": "code",
   "execution_count": 122,
   "metadata": {},
   "outputs": [
    {
     "data": {
      "text/plain": [
       "1460"
      ]
     },
     "execution_count": 122,
     "metadata": {},
     "output_type": "execute_result"
    }
   ],
   "source": [
    "df['KitchenAbvGr'].count()"
   ]
  },
  {
   "cell_type": "code",
   "execution_count": 123,
   "metadata": {},
   "outputs": [
    {
     "data": {
      "image/png": "[encoded data removed]",
      "text/plain": [
       "<matplotlib.figure.Figure at 0x120bdf518>"
      ]
     },
     "metadata": {},
     "output_type": "display_data"
    }
   ],
   "source": [
    "sns.distplot(df['KitchenAbvGr']);"
   ]
  },
  {
   "cell_type": "code",
   "execution_count": 124,
   "metadata": {},
   "outputs": [
    {
     "data": {
      "text/plain": [
       "KitchenAbvGr\n",
       "0       1\n",
       "1    1392\n",
       "2      65\n",
       "3       2\n",
       "Name: KitchenAbvGr, dtype: int64"
      ]
     },
     "execution_count": 124,
     "metadata": {},
     "output_type": "execute_result"
    }
   ],
   "source": [
    "df.groupby(['KitchenAbvGr'])['KitchenAbvGr'].count()"
   ]
  },
  {
   "cell_type": "code",
   "execution_count": 125,
   "metadata": {},
   "outputs": [
    {
     "data": {
      "text/plain": [
       "KitchenAbvGr\n",
       "0     0.1\n",
       "1    95.3\n",
       "2     4.5\n",
       "3     0.1\n",
       "Name: KitchenAbvGr, dtype: float64"
      ]
     },
     "execution_count": 125,
     "metadata": {},
     "output_type": "execute_result"
    }
   ],
   "source": [
    "round(100*df.groupby(['KitchenAbvGr'])['KitchenAbvGr'].count()/m,1)"
   ]
  },
  {
   "cell_type": "markdown",
   "metadata": {},
   "source": [
    "**Comments**\n",
    "1. Complete data \n",
    "2. Too few observations for 0, 2, 3\n",
    "3. Create new feature as 1 or Other\n",
    "4. For new data when testing, impute missing as Other\n",
    "5. Consider excluding feature"
   ]
  },
  {
   "cell_type": "markdown",
   "metadata": {},
   "source": [
    "### 13. KitchenQual"
   ]
  },
  {
   "cell_type": "code",
   "execution_count": 127,
   "metadata": {},
   "outputs": [
    {
     "data": {
      "text/plain": [
       "0    Gd\n",
       "1    TA\n",
       "2    Gd\n",
       "3    Gd\n",
       "4    Gd\n",
       "Name: KitchenQual, dtype: object"
      ]
     },
     "execution_count": 127,
     "metadata": {},
     "output_type": "execute_result"
    }
   ],
   "source": [
    "df['KitchenQual'].head()"
   ]
  },
  {
   "cell_type": "code",
   "execution_count": 128,
   "metadata": {},
   "outputs": [
    {
     "data": {
      "text/plain": [
       "1460"
      ]
     },
     "execution_count": 128,
     "metadata": {},
     "output_type": "execute_result"
    }
   ],
   "source": [
    "df['KitchenQual'].count()"
   ]
  },
  {
   "cell_type": "code",
   "execution_count": 130,
   "metadata": {},
   "outputs": [
    {
     "data": {
      "image/png": "[encoded data removed]",
      "text/plain": [
       "<matplotlib.figure.Figure at 0x1213a1940>"
      ]
     },
     "metadata": {},
     "output_type": "display_data"
    }
   ],
   "source": [
    "sns.violinplot(x=\"SalePrice\", y=\"KitchenQual\", data=df);"
   ]
  },
  {
   "cell_type": "code",
   "execution_count": 131,
   "metadata": {},
   "outputs": [
    {
     "data": {
      "text/plain": [
       "KitchenQual\n",
       "Ex    100\n",
       "Fa     39\n",
       "Gd    586\n",
       "TA    735\n",
       "Name: KitchenQual, dtype: int64"
      ]
     },
     "execution_count": 131,
     "metadata": {},
     "output_type": "execute_result"
    }
   ],
   "source": [
    "df.groupby(['KitchenQual'])['KitchenQual'].count()"
   ]
  },
  {
   "cell_type": "code",
   "execution_count": 132,
   "metadata": {},
   "outputs": [
    {
     "data": {
      "text/plain": [
       "KitchenQual\n",
       "Ex     6.8\n",
       "Fa     2.7\n",
       "Gd    40.1\n",
       "TA    50.3\n",
       "Name: KitchenQual, dtype: float64"
      ]
     },
     "execution_count": 132,
     "metadata": {},
     "output_type": "execute_result"
    }
   ],
   "source": [
    "round(100*df.groupby(['KitchenQual'])['KitchenQual'].count()/m,1)"
   ]
  },
  {
   "cell_type": "markdown",
   "metadata": {},
   "source": [
    "**Comments**\n",
    "1. Complete data \n",
    "2. Too few observations for Fa\n",
    "3. Create new feature as Ex, Gd, Other OR GdorBetter and Other\n",
    "4. For new data when testing, impute missing as Other"
   ]
  },
  {
   "cell_type": "markdown",
   "metadata": {},
   "source": [
    "### 14. TotRmsAbvGrd"
   ]
  },
  {
   "cell_type": "code",
   "execution_count": 133,
   "metadata": {},
   "outputs": [
    {
     "data": {
      "text/plain": [
       "0    8\n",
       "1    6\n",
       "2    6\n",
       "3    7\n",
       "4    9\n",
       "Name: TotRmsAbvGrd, dtype: int64"
      ]
     },
     "execution_count": 133,
     "metadata": {},
     "output_type": "execute_result"
    }
   ],
   "source": [
    "df['TotRmsAbvGrd'].head()"
   ]
  },
  {
   "cell_type": "code",
   "execution_count": 134,
   "metadata": {},
   "outputs": [
    {
     "data": {
      "text/plain": [
       "1460"
      ]
     },
     "execution_count": 134,
     "metadata": {},
     "output_type": "execute_result"
    }
   ],
   "source": [
    "df['TotRmsAbvGrd'].count()"
   ]
  },
  {
   "cell_type": "code",
   "execution_count": 135,
   "metadata": {},
   "outputs": [
    {
     "data": {
      "image/png": "[encoded data removed]",
      "text/plain": [
       "<matplotlib.figure.Figure at 0x12136d6a0>"
      ]
     },
     "metadata": {},
     "output_type": "display_data"
    }
   ],
   "source": [
    "sns.distplot(df['TotRmsAbvGrd']);"
   ]
  },
  {
   "cell_type": "code",
   "execution_count": 136,
   "metadata": {},
   "outputs": [
    {
     "data": {
      "text/plain": [
       "TotRmsAbvGrd\n",
       "2       1\n",
       "3      17\n",
       "4      97\n",
       "5     275\n",
       "6     402\n",
       "7     329\n",
       "8     187\n",
       "9      75\n",
       "10     47\n",
       "11     18\n",
       "12     11\n",
       "14      1\n",
       "Name: TotRmsAbvGrd, dtype: int64"
      ]
     },
     "execution_count": 136,
     "metadata": {},
     "output_type": "execute_result"
    }
   ],
   "source": [
    "df.groupby(['TotRmsAbvGrd'])['TotRmsAbvGrd'].count()"
   ]
  },
  {
   "cell_type": "code",
   "execution_count": 137,
   "metadata": {},
   "outputs": [
    {
     "data": {
      "text/plain": [
       "TotRmsAbvGrd\n",
       "2      0.1\n",
       "3      1.2\n",
       "4      6.6\n",
       "5     18.8\n",
       "6     27.5\n",
       "7     22.5\n",
       "8     12.8\n",
       "9      5.1\n",
       "10     3.2\n",
       "11     1.2\n",
       "12     0.8\n",
       "14     0.1\n",
       "Name: TotRmsAbvGrd, dtype: float64"
      ]
     },
     "execution_count": 137,
     "metadata": {},
     "output_type": "execute_result"
    }
   ],
   "source": [
    "round(100*df.groupby(['TotRmsAbvGrd'])['TotRmsAbvGrd'].count()/m,1)"
   ]
  },
  {
   "cell_type": "markdown",
   "metadata": {},
   "source": [
    "**Comments**\n",
    "1. Complete data  \n",
    "2. Too few observations for many subcategories\n",
    "3. Create new feature as <=4, 5, 6, 7, >=8 OR <=5, 6, 7, >=8\n",
    "4. For new data when testing, impute missing as <=4 OR 5"
   ]
  },
  {
   "cell_type": "markdown",
   "metadata": {},
   "source": [
    "### 15. Functional"
   ]
  },
  {
   "cell_type": "code",
   "execution_count": 139,
   "metadata": {},
   "outputs": [
    {
     "data": {
      "text/plain": [
       "0    Typ\n",
       "1    Typ\n",
       "2    Typ\n",
       "3    Typ\n",
       "4    Typ\n",
       "Name: Functional, dtype: object"
      ]
     },
     "execution_count": 139,
     "metadata": {},
     "output_type": "execute_result"
    }
   ],
   "source": [
    "df['Functional'].head()"
   ]
  },
  {
   "cell_type": "code",
   "execution_count": 140,
   "metadata": {},
   "outputs": [
    {
     "data": {
      "text/plain": [
       "1460"
      ]
     },
     "execution_count": 140,
     "metadata": {},
     "output_type": "execute_result"
    }
   ],
   "source": [
    "df['Functional'].count()"
   ]
  },
  {
   "cell_type": "code",
   "execution_count": 142,
   "metadata": {},
   "outputs": [
    {
     "data": {
      "image/png": "[encoded data removed]",
      "text/plain": [
       "<matplotlib.figure.Figure at 0x121728320>"
      ]
     },
     "metadata": {},
     "output_type": "display_data"
    }
   ],
   "source": [
    "sns.violinplot(x=\"SalePrice\", y=\"Functional\", data=df);"
   ]
  },
  {
   "cell_type": "code",
   "execution_count": 143,
   "metadata": {},
   "outputs": [
    {
     "data": {
      "text/plain": [
       "Functional\n",
       "Maj1      14\n",
       "Maj2       5\n",
       "Min1      31\n",
       "Min2      34\n",
       "Mod       15\n",
       "Sev        1\n",
       "Typ     1360\n",
       "Name: Functional, dtype: int64"
      ]
     },
     "execution_count": 143,
     "metadata": {},
     "output_type": "execute_result"
    }
   ],
   "source": [
    "df.groupby(['Functional'])['Functional'].count()"
   ]
  },
  {
   "cell_type": "code",
   "execution_count": 144,
   "metadata": {},
   "outputs": [
    {
     "data": {
      "text/plain": [
       "Functional\n",
       "Maj1     1.0\n",
       "Maj2     0.3\n",
       "Min1     2.1\n",
       "Min2     2.3\n",
       "Mod      1.0\n",
       "Sev      0.1\n",
       "Typ     93.2\n",
       "Name: Functional, dtype: float64"
      ]
     },
     "execution_count": 144,
     "metadata": {},
     "output_type": "execute_result"
    }
   ],
   "source": [
    "round(100*df.groupby(['Functional'])['Functional'].count()/m,1)"
   ]
  },
  {
   "cell_type": "markdown",
   "metadata": {},
   "source": [
    "**Comments**\n",
    "1. Complete data \n",
    "2. Too few observations for many subcategories\n",
    "3. Create new feature as Typ and Other\n",
    "4. For new data when testing, impute missing as Other"
   ]
  },
  {
   "cell_type": "markdown",
   "metadata": {},
   "source": [
    "### 16. Fireplaces"
   ]
  },
  {
   "cell_type": "code",
   "execution_count": 145,
   "metadata": {},
   "outputs": [
    {
     "data": {
      "text/plain": [
       "0    0\n",
       "1    1\n",
       "2    1\n",
       "3    1\n",
       "4    1\n",
       "Name: Fireplaces, dtype: int64"
      ]
     },
     "execution_count": 145,
     "metadata": {},
     "output_type": "execute_result"
    }
   ],
   "source": [
    "df['Fireplaces'].head()"
   ]
  },
  {
   "cell_type": "code",
   "execution_count": 146,
   "metadata": {},
   "outputs": [
    {
     "data": {
      "text/plain": [
       "1460"
      ]
     },
     "execution_count": 146,
     "metadata": {},
     "output_type": "execute_result"
    }
   ],
   "source": [
    "df['Fireplaces'].count()"
   ]
  },
  {
   "cell_type": "code",
   "execution_count": 147,
   "metadata": {},
   "outputs": [
    {
     "data": {
      "text/plain": [
       "Fireplaces\n",
       "0    690\n",
       "1    650\n",
       "2    115\n",
       "3      5\n",
       "Name: Fireplaces, dtype: int64"
      ]
     },
     "execution_count": 147,
     "metadata": {},
     "output_type": "execute_result"
    }
   ],
   "source": [
    "df.groupby(['Fireplaces'])['Fireplaces'].count()"
   ]
  },
  {
   "cell_type": "code",
   "execution_count": 148,
   "metadata": {},
   "outputs": [
    {
     "data": {
      "text/plain": [
       "Fireplaces\n",
       "0    47.3\n",
       "1    44.5\n",
       "2     7.9\n",
       "3     0.3\n",
       "Name: Fireplaces, dtype: float64"
      ]
     },
     "execution_count": 148,
     "metadata": {},
     "output_type": "execute_result"
    }
   ],
   "source": [
    "round(100*df.groupby(['Fireplaces'])['Fireplaces'].count()/m,1)"
   ]
  },
  {
   "cell_type": "code",
   "execution_count": 149,
   "metadata": {},
   "outputs": [
    {
     "data": {
      "image/png": "[encoded data removed]",
      "text/plain": [
       "<matplotlib.figure.Figure at 0x1218d9940>"
      ]
     },
     "metadata": {},
     "output_type": "display_data"
    }
   ],
   "source": [
    "sns.distplot(df['Fireplaces']);"
   ]
  },
  {
   "cell_type": "markdown",
   "metadata": {},
   "source": [
    "**Comments**\n",
    "1. Complete data \n",
    "2. Too few observations for 3 fireplaces\n",
    "3. Create new feature as Fireplace and NoFireplace\n",
    "4. For new data when testing, impute missing as NoFireplace"
   ]
  },
  {
   "cell_type": "markdown",
   "metadata": {},
   "source": [
    "### 17. FireplaceQu"
   ]
  },
  {
   "cell_type": "code",
   "execution_count": 150,
   "metadata": {},
   "outputs": [
    {
     "data": {
      "text/plain": [
       "0    NaN\n",
       "1     TA\n",
       "2     TA\n",
       "3     Gd\n",
       "4     TA\n",
       "Name: FireplaceQu, dtype: object"
      ]
     },
     "execution_count": 150,
     "metadata": {},
     "output_type": "execute_result"
    }
   ],
   "source": [
    "df['FireplaceQu'].head()"
   ]
  },
  {
   "cell_type": "code",
   "execution_count": 151,
   "metadata": {},
   "outputs": [
    {
     "data": {
      "text/plain": [
       "770"
      ]
     },
     "execution_count": 151,
     "metadata": {},
     "output_type": "execute_result"
    }
   ],
   "source": [
    "df['FireplaceQu'].count()"
   ]
  },
  {
   "cell_type": "code",
   "execution_count": 152,
   "metadata": {},
   "outputs": [
    {
     "data": {
      "text/plain": [
       "52.7"
      ]
     },
     "execution_count": 152,
     "metadata": {},
     "output_type": "execute_result"
    }
   ],
   "source": [
    "round(100*df['FireplaceQu'].count()/m,1)"
   ]
  },
  {
   "cell_type": "code",
   "execution_count": 153,
   "metadata": {},
   "outputs": [
    {
     "data": {
      "image/png": "[encoded data removed]",
      "text/plain": [
       "<matplotlib.figure.Figure at 0x121894630>"
      ]
     },
     "metadata": {},
     "output_type": "display_data"
    }
   ],
   "source": [
    "sns.violinplot(x=\"SalePrice\", y=\"FireplaceQu\", data=df);"
   ]
  },
  {
   "cell_type": "code",
   "execution_count": 154,
   "metadata": {},
   "outputs": [
    {
     "data": {
      "text/plain": [
       "FireplaceQu\n",
       "Ex     24\n",
       "Fa     33\n",
       "Gd    380\n",
       "Po     20\n",
       "TA    313\n",
       "Name: FireplaceQu, dtype: int64"
      ]
     },
     "execution_count": 154,
     "metadata": {},
     "output_type": "execute_result"
    }
   ],
   "source": [
    "df.groupby(['FireplaceQu'])['FireplaceQu'].count()"
   ]
  },
  {
   "cell_type": "code",
   "execution_count": 155,
   "metadata": {},
   "outputs": [
    {
     "data": {
      "text/plain": [
       "FireplaceQu\n",
       "Ex     1.6\n",
       "Fa     2.3\n",
       "Gd    26.0\n",
       "Po     1.4\n",
       "TA    21.4\n",
       "Name: FireplaceQu, dtype: float64"
      ]
     },
     "execution_count": 155,
     "metadata": {},
     "output_type": "execute_result"
    }
   ],
   "source": [
    "round(100*df.groupby(['FireplaceQu'])['FireplaceQu'].count()/m,1)"
   ]
  },
  {
   "cell_type": "markdown",
   "metadata": {},
   "source": [
    "**Comments**\n",
    "1. Complete data but many NaN's\n",
    "2. Investigate further how this plays out when modelled with Fireplace and another feature. Then decide what to do with it afterwards."
   ]
  },
  {
   "cell_type": "markdown",
   "metadata": {},
   "source": [
    "### 18. GarageType"
   ]
  },
  {
   "cell_type": "code",
   "execution_count": 156,
   "metadata": {},
   "outputs": [
    {
     "data": {
      "text/plain": [
       "0    Attchd\n",
       "1    Attchd\n",
       "2    Attchd\n",
       "3    Detchd\n",
       "4    Attchd\n",
       "Name: GarageType, dtype: object"
      ]
     },
     "execution_count": 156,
     "metadata": {},
     "output_type": "execute_result"
    }
   ],
   "source": [
    "df['GarageType'].head()"
   ]
  },
  {
   "cell_type": "code",
   "execution_count": 157,
   "metadata": {},
   "outputs": [
    {
     "data": {
      "text/plain": [
       "1379"
      ]
     },
     "execution_count": 157,
     "metadata": {},
     "output_type": "execute_result"
    }
   ],
   "source": [
    "df['GarageType'].count()"
   ]
  },
  {
   "cell_type": "code",
   "execution_count": 160,
   "metadata": {},
   "outputs": [
    {
     "data": {
      "text/plain": [
       "94.5"
      ]
     },
     "execution_count": 160,
     "metadata": {},
     "output_type": "execute_result"
    }
   ],
   "source": [
    "round(100*df['GarageType'].count()/m,1)"
   ]
  },
  {
   "cell_type": "code",
   "execution_count": 158,
   "metadata": {},
   "outputs": [
    {
     "data": {
      "text/plain": [
       "GarageType\n",
       "2Types       6\n",
       "Attchd     870\n",
       "Basment     19\n",
       "BuiltIn     88\n",
       "CarPort      9\n",
       "Detchd     387\n",
       "Name: GarageType, dtype: int64"
      ]
     },
     "execution_count": 158,
     "metadata": {},
     "output_type": "execute_result"
    }
   ],
   "source": [
    "df.groupby(['GarageType'])['GarageType'].count()"
   ]
  },
  {
   "cell_type": "code",
   "execution_count": 159,
   "metadata": {},
   "outputs": [
    {
     "data": {
      "text/plain": [
       "GarageType\n",
       "2Types      0.4\n",
       "Attchd     59.6\n",
       "Basment     1.3\n",
       "BuiltIn     6.0\n",
       "CarPort     0.6\n",
       "Detchd     26.5\n",
       "Name: GarageType, dtype: float64"
      ]
     },
     "execution_count": 159,
     "metadata": {},
     "output_type": "execute_result"
    }
   ],
   "source": [
    "round(100*df.groupby(['GarageType'])['GarageType'].count()/m,1)"
   ]
  },
  {
   "cell_type": "markdown",
   "metadata": {},
   "source": [
    "**Comments**\n",
    "1. 5.5% missing data\n",
    "2. One option is create new category: Attached vs Other (including missing) OR Attached, Detached, and Other"
   ]
  },
  {
   "cell_type": "code",
   "execution_count": null,
   "metadata": {
    "collapsed": true
   },
   "outputs": [],
   "source": []
  },
  {
   "cell_type": "code",
   "execution_count": null,
   "metadata": {
    "collapsed": true
   },
   "outputs": [],
   "source": []
  },
  {
   "cell_type": "code",
   "execution_count": null,
   "metadata": {
    "collapsed": true
   },
   "outputs": [],
   "source": []
  },
  {
   "cell_type": "code",
   "execution_count": null,
   "metadata": {
    "collapsed": true
   },
   "outputs": [],
   "source": []
  },
  {
   "cell_type": "code",
   "execution_count": null,
   "metadata": {
    "collapsed": true
   },
   "outputs": [],
   "source": []
  },
  {
   "cell_type": "code",
   "execution_count": null,
   "metadata": {
    "collapsed": true
   },
   "outputs": [],
   "source": []
  },
  {
   "cell_type": "code",
   "execution_count": null,
   "metadata": {
    "collapsed": true
   },
   "outputs": [],
   "source": []
  },
  {
   "cell_type": "code",
   "execution_count": null,
   "metadata": {
    "collapsed": true
   },
   "outputs": [],
   "source": []
  },
  {
   "cell_type": "code",
   "execution_count": null,
   "metadata": {
    "collapsed": true
   },
   "outputs": [],
   "source": []
  },
  {
   "cell_type": "markdown",
   "metadata": {},
   "source": [
    "# Step 1: Missing Data and Features Checks"
   ]
  },
  {
   "cell_type": "markdown",
   "metadata": {},
   "source": [
    "The purpose of this notebook is to investigate the amount of missing data and to perform a high-level check of the values of the variables. "
   ]
  },
  {
   "cell_type": "markdown",
   "metadata": {},
   "source": [
    "## 1. Missing Data"
   ]
  },
  {
   "cell_type": "code",
   "execution_count": 1,
   "metadata": {
    "collapsed": true
   },
   "outputs": [],
   "source": [
    "import numpy as np\n",
    "import pandas as pd\n",
    "import matplotlib.pyplot as plt\n",
    "import seaborn as sns\n",
    "%matplotlib inline"
   ]
  },
  {
   "cell_type": "code",
   "execution_count": 2,
   "metadata": {
    "collapsed": true
   },
   "outputs": [],
   "source": [
    "df = pd.read_csv('./data/train')\n",
    "m = df.shape[0]"
   ]
  },
  {
   "cell_type": "code",
   "execution_count": 3,
   "metadata": {},
   "outputs": [
    {
     "data": {
      "text/plain": [
       "(1460, 81)"
      ]
     },
     "execution_count": 3,
     "metadata": {},
     "output_type": "execute_result"
    }
   ],
   "source": [
    "df.shape"
   ]
  },
  {
   "cell_type": "code",
   "execution_count": 4,
   "metadata": {},
   "outputs": [
    {
     "data": {
      "text/html": [
       "<div>\n",
       "<style>\n",
       "    .dataframe thead tr:only-child th {\n",
       "        text-align: right;\n",
       "    }\n",
       "\n",
       "    .dataframe thead th {\n",
       "        text-align: left;\n",
       "    }\n",
       "\n",
       "    .dataframe tbody tr th {\n",
       "        vertical-align: top;\n",
       "    }\n",
       "</style>\n",
       "<table border=\"1\" class=\"dataframe\">\n",
       "  <thead>\n",
       "    <tr style=\"text-align: right;\">\n",
       "      <th></th>\n",
       "      <th>Id</th>\n",
       "      <th>MSSubClass</th>\n",
       "      <th>MSZoning</th>\n",
       "      <th>LotFrontage</th>\n",
       "      <th>LotArea</th>\n",
       "      <th>Street</th>\n",
       "      <th>Alley</th>\n",
       "      <th>LotShape</th>\n",
       "      <th>LandContour</th>\n",
       "      <th>Utilities</th>\n",
       "      <th>...</th>\n",
       "      <th>PoolArea</th>\n",
       "      <th>PoolQC</th>\n",
       "      <th>Fence</th>\n",
       "      <th>MiscFeature</th>\n",
       "      <th>MiscVal</th>\n",
       "      <th>MoSold</th>\n",
       "      <th>YrSold</th>\n",
       "      <th>SaleType</th>\n",
       "      <th>SaleCondition</th>\n",
       "      <th>SalePrice</th>\n",
       "    </tr>\n",
       "  </thead>\n",
       "  <tbody>\n",
       "    <tr>\n",
       "      <th>0</th>\n",
       "      <td>1</td>\n",
       "      <td>60</td>\n",
       "      <td>RL</td>\n",
       "      <td>65.0</td>\n",
       "      <td>8450</td>\n",
       "      <td>Pave</td>\n",
       "      <td>NaN</td>\n",
       "      <td>Reg</td>\n",
       "      <td>Lvl</td>\n",
       "      <td>AllPub</td>\n",
       "      <td>...</td>\n",
       "      <td>0</td>\n",
       "      <td>NaN</td>\n",
       "      <td>NaN</td>\n",
       "      <td>NaN</td>\n",
       "      <td>0</td>\n",
       "      <td>2</td>\n",
       "      <td>2008</td>\n",
       "      <td>WD</td>\n",
       "      <td>Normal</td>\n",
       "      <td>208500</td>\n",
       "    </tr>\n",
       "    <tr>\n",
       "      <th>1</th>\n",
       "      <td>2</td>\n",
       "      <td>20</td>\n",
       "      <td>RL</td>\n",
       "      <td>80.0</td>\n",
       "      <td>9600</td>\n",
       "      <td>Pave</td>\n",
       "      <td>NaN</td>\n",
       "      <td>Reg</td>\n",
       "      <td>Lvl</td>\n",
       "      <td>AllPub</td>\n",
       "      <td>...</td>\n",
       "      <td>0</td>\n",
       "      <td>NaN</td>\n",
       "      <td>NaN</td>\n",
       "      <td>NaN</td>\n",
       "      <td>0</td>\n",
       "      <td>5</td>\n",
       "      <td>2007</td>\n",
       "      <td>WD</td>\n",
       "      <td>Normal</td>\n",
       "      <td>181500</td>\n",
       "    </tr>\n",
       "    <tr>\n",
       "      <th>2</th>\n",
       "      <td>3</td>\n",
       "      <td>60</td>\n",
       "      <td>RL</td>\n",
       "      <td>68.0</td>\n",
       "      <td>11250</td>\n",
       "      <td>Pave</td>\n",
       "      <td>NaN</td>\n",
       "      <td>IR1</td>\n",
       "      <td>Lvl</td>\n",
       "      <td>AllPub</td>\n",
       "      <td>...</td>\n",
       "      <td>0</td>\n",
       "      <td>NaN</td>\n",
       "      <td>NaN</td>\n",
       "      <td>NaN</td>\n",
       "      <td>0</td>\n",
       "      <td>9</td>\n",
       "      <td>2008</td>\n",
       "      <td>WD</td>\n",
       "      <td>Normal</td>\n",
       "      <td>223500</td>\n",
       "    </tr>\n",
       "    <tr>\n",
       "      <th>3</th>\n",
       "      <td>4</td>\n",
       "      <td>70</td>\n",
       "      <td>RL</td>\n",
       "      <td>60.0</td>\n",
       "      <td>9550</td>\n",
       "      <td>Pave</td>\n",
       "      <td>NaN</td>\n",
       "      <td>IR1</td>\n",
       "      <td>Lvl</td>\n",
       "      <td>AllPub</td>\n",
       "      <td>...</td>\n",
       "      <td>0</td>\n",
       "      <td>NaN</td>\n",
       "      <td>NaN</td>\n",
       "      <td>NaN</td>\n",
       "      <td>0</td>\n",
       "      <td>2</td>\n",
       "      <td>2006</td>\n",
       "      <td>WD</td>\n",
       "      <td>Abnorml</td>\n",
       "      <td>140000</td>\n",
       "    </tr>\n",
       "    <tr>\n",
       "      <th>4</th>\n",
       "      <td>5</td>\n",
       "      <td>60</td>\n",
       "      <td>RL</td>\n",
       "      <td>84.0</td>\n",
       "      <td>14260</td>\n",
       "      <td>Pave</td>\n",
       "      <td>NaN</td>\n",
       "      <td>IR1</td>\n",
       "      <td>Lvl</td>\n",
       "      <td>AllPub</td>\n",
       "      <td>...</td>\n",
       "      <td>0</td>\n",
       "      <td>NaN</td>\n",
       "      <td>NaN</td>\n",
       "      <td>NaN</td>\n",
       "      <td>0</td>\n",
       "      <td>12</td>\n",
       "      <td>2008</td>\n",
       "      <td>WD</td>\n",
       "      <td>Normal</td>\n",
       "      <td>250000</td>\n",
       "    </tr>\n",
       "  </tbody>\n",
       "</table>\n",
       "<p>5 rows × 81 columns</p>\n",
       "</div>"
      ],
      "text/plain": [
       "   Id  MSSubClass MSZoning  LotFrontage  LotArea Street Alley LotShape  \\\n",
       "0   1          60       RL         65.0     8450   Pave   NaN      Reg   \n",
       "1   2          20       RL         80.0     9600   Pave   NaN      Reg   \n",
       "2   3          60       RL         68.0    11250   Pave   NaN      IR1   \n",
       "3   4          70       RL         60.0     9550   Pave   NaN      IR1   \n",
       "4   5          60       RL         84.0    14260   Pave   NaN      IR1   \n",
       "\n",
       "  LandContour Utilities    ...     PoolArea PoolQC Fence MiscFeature MiscVal  \\\n",
       "0         Lvl    AllPub    ...            0    NaN   NaN         NaN       0   \n",
       "1         Lvl    AllPub    ...            0    NaN   NaN         NaN       0   \n",
       "2         Lvl    AllPub    ...            0    NaN   NaN         NaN       0   \n",
       "3         Lvl    AllPub    ...            0    NaN   NaN         NaN       0   \n",
       "4         Lvl    AllPub    ...            0    NaN   NaN         NaN       0   \n",
       "\n",
       "  MoSold YrSold  SaleType  SaleCondition  SalePrice  \n",
       "0      2   2008        WD         Normal     208500  \n",
       "1      5   2007        WD         Normal     181500  \n",
       "2      9   2008        WD         Normal     223500  \n",
       "3      2   2006        WD        Abnorml     140000  \n",
       "4     12   2008        WD         Normal     250000  \n",
       "\n",
       "[5 rows x 81 columns]"
      ]
     },
     "execution_count": 4,
     "metadata": {},
     "output_type": "execute_result"
    }
   ],
   "source": [
    "df.head()"
   ]
  },
  {
   "cell_type": "markdown",
   "metadata": {},
   "source": [
    "### a. Heatmap (to identify which features potentially have missing data issues)"
   ]
  },
  {
   "cell_type": "code",
   "execution_count": 5,
   "metadata": {
    "scrolled": false
   },
   "outputs": [
    {
     "data": {
      "image/png": "[encoded data removed]",
      "text/plain": [
       "<matplotlib.figure.Figure at 0x117e7da20>"
      ]
     },
     "metadata": {},
     "output_type": "display_data"
    }
   ],
   "source": [
    "plt.figure(figsize=(20, 10))\n",
    "sns.heatmap(df.isnull(),yticklabels=False,cbar=False,cmap='viridis');"
   ]
  },
  {
   "cell_type": "markdown",
   "metadata": {},
   "source": [
    "There are **18 features** with potential missing data issues:\n",
    "\n",
    "**LotFrontage, Alley, MasVnrType, MasVnrArea, BsmtQual, BsmtCond, BsmtExposure, BsmtFinType1, BsmtFinType2, FireplaceQu, GarageType, GarageYrBlt, GarageFinish, GarageQual, GarageCond, PoolQC, Fence, and MiscFeature**"
   ]
  },
  {
   "cell_type": "code",
   "execution_count": 7,
   "metadata": {
    "collapsed": true
   },
   "outputs": [],
   "source": [
    "MList = ['LotFrontage', 'Alley', 'MasVnrType', 'MasVnrArea', 'BsmtQual', 'BsmtCond', 'BsmtExposure', 'BsmtFinType1', \n",
    "         'BsmtFinType2', 'FireplaceQu', 'GarageType', 'GarageYrBlt', 'GarageFinish', 'GarageQual', 'GarageCond',\n",
    "         'PoolQC', 'Fence', 'MiscFeature']"
   ]
  },
  {
   "cell_type": "markdown",
   "metadata": {},
   "source": [
    "### b. Missing Data Percentage"
   ]
  },
  {
   "cell_type": "code",
   "execution_count": 8,
   "metadata": {},
   "outputs": [
    {
     "name": "stdout",
     "output_type": "stream",
     "text": [
      "LotFrontage: 17.7%\n",
      "Alley: 93.8%\n",
      "MasVnrType: 0.5%\n",
      "MasVnrArea: 0.5%\n",
      "BsmtQual: 2.5%\n",
      "BsmtCond: 2.5%\n",
      "BsmtExposure: 2.6%\n",
      "BsmtFinType1: 2.5%\n",
      "BsmtFinType2: 2.6%\n",
      "FireplaceQu: 47.3%\n",
      "GarageType: 5.5%\n",
      "GarageYrBlt: 5.5%\n",
      "GarageFinish: 5.5%\n",
      "GarageQual: 5.5%\n",
      "GarageCond: 5.5%\n",
      "PoolQC: 99.5%\n",
      "Fence: 80.8%\n",
      "MiscFeature: 96.3%\n"
     ]
    }
   ],
   "source": [
    "for f in range(len(MList)):\n",
    "    print(str(MList[f]) + \": \" + str(round(100*(1-df[MList[f]].count()/m),1)) + \"%\")"
   ]
  },
  {
   "cell_type": "markdown",
   "metadata": {},
   "source": [
    "## 2. Features Check"
   ]
  },
  {
   "cell_type": "markdown",
   "metadata": {},
   "source": [
    "### a. Numerical Features"
   ]
  },
  {
   "cell_type": "code",
   "execution_count": 9,
   "metadata": {},
   "outputs": [
    {
     "data": {
      "text/plain": [
       "Index(['Id', 'MSSubClass', 'LotFrontage', 'LotArea', 'OverallQual',\n",
       "       'OverallCond', 'YearBuilt', 'YearRemodAdd', 'MasVnrArea', 'BsmtFinSF1',\n",
       "       'BsmtFinSF2', 'BsmtUnfSF', 'TotalBsmtSF', '1stFlrSF', '2ndFlrSF',\n",
       "       'LowQualFinSF', 'GrLivArea', 'BsmtFullBath', 'BsmtHalfBath', 'FullBath',\n",
       "       'HalfBath', 'BedroomAbvGr', 'KitchenAbvGr', 'TotRmsAbvGrd',\n",
       "       'Fireplaces', 'GarageYrBlt', 'GarageCars', 'GarageArea', 'WoodDeckSF',\n",
       "       'OpenPorchSF', 'EnclosedPorch', '3SsnPorch', 'ScreenPorch', 'PoolArea',\n",
       "       'MiscVal', 'MoSold', 'YrSold', 'SalePrice'],\n",
       "      dtype='object')"
      ]
     },
     "execution_count": 9,
     "metadata": {},
     "output_type": "execute_result"
    }
   ],
   "source": [
    "df.describe().columns"
   ]
  },
  {
   "cell_type": "code",
   "execution_count": 10,
   "metadata": {
    "scrolled": false
   },
   "outputs": [
    {
     "name": "stdout",
     "output_type": "stream",
     "text": [
      "                count     mean      std      min       50%       max\n",
      "Id             1460.0  7.3e+02    421.6      1.0     730.5    1460.0\n",
      "MSSubClass     1460.0  5.7e+01     42.3     20.0      50.0     190.0\n",
      "LotFrontage    1201.0  7.0e+01     24.3     21.0      69.0     313.0\n",
      "LotArea        1460.0  1.1e+04   9981.3   1300.0    9478.5  215245.0\n",
      "OverallQual    1460.0  6.1e+00      1.4      1.0       6.0      10.0\n",
      "OverallCond    1460.0  5.6e+00      1.1      1.0       5.0       9.0\n",
      "YearBuilt      1460.0  2.0e+03     30.2   1872.0    1973.0    2010.0\n",
      "YearRemodAdd   1460.0  2.0e+03     20.6   1950.0    1994.0    2010.0\n",
      "MasVnrArea     1452.0  1.0e+02    181.1      0.0       0.0    1600.0\n",
      "BsmtFinSF1     1460.0  4.4e+02    456.1      0.0     383.5    5644.0\n",
      "BsmtFinSF2     1460.0  4.7e+01    161.3      0.0       0.0    1474.0\n",
      "BsmtUnfSF      1460.0  5.7e+02    441.9      0.0     477.5    2336.0\n",
      "TotalBsmtSF    1460.0  1.1e+03    438.7      0.0     991.5    6110.0\n",
      "1stFlrSF       1460.0  1.2e+03    386.6    334.0    1087.0    4692.0\n",
      "2ndFlrSF       1460.0  3.5e+02    436.5      0.0       0.0    2065.0\n",
      "LowQualFinSF   1460.0  5.8e+00     48.6      0.0       0.0     572.0\n",
      "GrLivArea      1460.0  1.5e+03    525.5    334.0    1464.0    5642.0\n",
      "BsmtFullBath   1460.0  4.3e-01      0.5      0.0       0.0       3.0\n",
      "BsmtHalfBath   1460.0  5.8e-02      0.2      0.0       0.0       2.0\n",
      "FullBath       1460.0  1.6e+00      0.6      0.0       2.0       3.0\n",
      "HalfBath       1460.0  3.8e-01      0.5      0.0       0.0       2.0\n",
      "BedroomAbvGr   1460.0  2.9e+00      0.8      0.0       3.0       8.0\n",
      "KitchenAbvGr   1460.0  1.0e+00      0.2      0.0       1.0       3.0\n",
      "TotRmsAbvGrd   1460.0  6.5e+00      1.6      2.0       6.0      14.0\n",
      "Fireplaces     1460.0  6.1e-01      0.6      0.0       1.0       3.0\n",
      "GarageYrBlt    1379.0  2.0e+03     24.7   1900.0    1980.0    2010.0\n",
      "GarageCars     1460.0  1.8e+00      0.7      0.0       2.0       4.0\n",
      "GarageArea     1460.0  4.7e+02    213.8      0.0     480.0    1418.0\n",
      "WoodDeckSF     1460.0  9.4e+01    125.3      0.0       0.0     857.0\n",
      "OpenPorchSF    1460.0  4.7e+01     66.3      0.0      25.0     547.0\n",
      "EnclosedPorch  1460.0  2.2e+01     61.1      0.0       0.0     552.0\n",
      "3SsnPorch      1460.0  3.4e+00     29.3      0.0       0.0     508.0\n",
      "ScreenPorch    1460.0  1.5e+01     55.8      0.0       0.0     480.0\n",
      "PoolArea       1460.0  2.8e+00     40.2      0.0       0.0     738.0\n",
      "MiscVal        1460.0  4.3e+01    496.1      0.0       0.0   15500.0\n",
      "MoSold         1460.0  6.3e+00      2.7      1.0       6.0      12.0\n",
      "YrSold         1460.0  2.0e+03      1.3   2006.0    2008.0    2010.0\n",
      "SalePrice      1460.0  1.8e+05  79442.5  34900.0  163000.0  755000.0\n"
     ]
    }
   ],
   "source": [
    "pd.set_option('display.precision', 1)\n",
    "print(df.describe(percentiles = [.5]).T)"
   ]
  },
  {
   "cell_type": "markdown",
   "metadata": {},
   "source": [
    "### b. Non-numerical"
   ]
  },
  {
   "cell_type": "code",
   "execution_count": 11,
   "metadata": {
    "scrolled": true
   },
   "outputs": [
    {
     "name": "stdout",
     "output_type": "stream",
     "text": [
      "['MSZoning', 'Street', 'Alley', 'LotShape', 'LandContour', 'Utilities', 'LotConfig', 'LandSlope', 'Neighborhood', 'Condition1', 'Condition2', 'BldgType', 'HouseStyle', 'RoofStyle', 'RoofMatl', 'Exterior1st', 'Exterior2nd', 'MasVnrType', 'ExterQual', 'ExterCond', 'Foundation', 'BsmtQual', 'BsmtCond', 'BsmtExposure', 'BsmtFinType1', 'BsmtFinType2', 'Heating', 'HeatingQC', 'CentralAir', 'Electrical', 'KitchenQual', 'Functional', 'FireplaceQu', 'GarageType', 'GarageFinish', 'GarageQual', 'GarageCond', 'PavedDrive', 'PoolQC', 'Fence', 'MiscFeature', 'SaleType', 'SaleCondition']\n"
     ]
    }
   ],
   "source": [
    "cat = []\n",
    "for c in list(df.columns):\n",
    "    if c not in list(df.describe().columns):\n",
    "        cat.append(c)\n",
    "print(cat)"
   ]
  },
  {
   "cell_type": "code",
   "execution_count": 13,
   "metadata": {
    "scrolled": false
   },
   "outputs": [
    {
     "name": "stdout",
     "output_type": "stream",
     "text": [
      "RL         78.8\n",
      "RM         14.9\n",
      "FV          4.5\n",
      "RH          1.1\n",
      "C (all)     0.7\n",
      "Name: MSZoning, dtype: float64\n",
      "-----------------------------\n",
      "Pave    99.6\n",
      "Grvl     0.4\n",
      "Name: Street, dtype: float64\n",
      "-----------------------------\n",
      "Grvl    3.4\n",
      "Pave    2.8\n",
      "Name: Alley, dtype: float64\n",
      "-----------------------------\n",
      "Reg    63.4\n",
      "IR1    33.2\n",
      "IR2     2.8\n",
      "IR3     0.7\n",
      "Name: LotShape, dtype: float64\n",
      "-----------------------------\n",
      "Lvl    89.8\n",
      "Bnk     4.3\n",
      "HLS     3.4\n",
      "Low     2.5\n",
      "Name: LandContour, dtype: float64\n",
      "-----------------------------\n",
      "AllPub    1.0e+02\n",
      "NoSeWa    6.8e-02\n",
      "Name: Utilities, dtype: float64\n",
      "-----------------------------\n",
      "Inside     72.1\n",
      "Corner     18.0\n",
      "CulDSac     6.4\n",
      "FR2         3.2\n",
      "FR3         0.3\n",
      "Name: LotConfig, dtype: float64\n",
      "-----------------------------\n",
      "Gtl    94.7\n",
      "Mod     4.5\n",
      "Sev     0.9\n",
      "Name: LandSlope, dtype: float64\n",
      "-----------------------------\n",
      "NAmes      15.4\n",
      "CollgCr    10.3\n",
      "OldTown     7.7\n",
      "Edwards     6.8\n",
      "Somerst     5.9\n",
      "Gilbert     5.4\n",
      "NridgHt     5.3\n",
      "Sawyer      5.1\n",
      "NWAmes      5.0\n",
      "SawyerW     4.0\n",
      "BrkSide     4.0\n",
      "Crawfor     3.5\n",
      "Mitchel     3.4\n",
      "NoRidge     2.8\n",
      "Timber      2.6\n",
      "IDOTRR      2.5\n",
      "ClearCr     1.9\n",
      "SWISU       1.7\n",
      "StoneBr     1.7\n",
      "Blmngtn     1.2\n",
      "MeadowV     1.2\n",
      "BrDale      1.1\n",
      "Veenker     0.8\n",
      "NPkVill     0.6\n",
      "Blueste     0.1\n",
      "Name: Neighborhood, dtype: float64\n",
      "-----------------------------\n",
      "Norm      86.3\n",
      "Feedr      5.5\n",
      "Artery     3.3\n",
      "RRAn       1.8\n",
      "PosN       1.3\n",
      "RRAe       0.8\n",
      "PosA       0.5\n",
      "RRNn       0.3\n",
      "RRNe       0.1\n",
      "Name: Condition1, dtype: float64\n",
      "-----------------------------\n",
      "Norm      9.9e+01\n",
      "Feedr     4.1e-01\n",
      "RRNn      1.4e-01\n",
      "PosN      1.4e-01\n",
      "Artery    1.4e-01\n",
      "RRAe      6.8e-02\n",
      "RRAn      6.8e-02\n",
      "PosA      6.8e-02\n",
      "Name: Condition2, dtype: float64\n",
      "-----------------------------\n",
      "1Fam      83.6\n",
      "TwnhsE     7.8\n",
      "Duplex     3.6\n",
      "Twnhs      2.9\n",
      "2fmCon     2.1\n",
      "Name: BldgType, dtype: float64\n",
      "-----------------------------\n",
      "1Story    49.7\n",
      "2Story    30.5\n",
      "1.5Fin    10.5\n",
      "SLvl       4.5\n",
      "SFoyer     2.5\n",
      "1.5Unf     1.0\n",
      "2.5Unf     0.8\n",
      "2.5Fin     0.5\n",
      "Name: HouseStyle, dtype: float64\n",
      "-----------------------------\n",
      "Gable      78.2\n",
      "Hip        19.6\n",
      "Flat        0.9\n",
      "Gambrel     0.8\n",
      "Mansard     0.5\n",
      "Shed        0.1\n",
      "Name: RoofStyle, dtype: float64\n",
      "-----------------------------\n",
      "CompShg    9.8e+01\n",
      "Tar&Grv    7.5e-01\n",
      "WdShngl    4.1e-01\n",
      "WdShake    3.4e-01\n",
      "Metal      6.8e-02\n",
      "ClyTile    6.8e-02\n",
      "Roll       6.8e-02\n",
      "Membran    6.8e-02\n",
      "Name: RoofMatl, dtype: float64\n",
      "-----------------------------\n",
      "VinylSd    3.5e+01\n",
      "HdBoard    1.5e+01\n",
      "MetalSd    1.5e+01\n",
      "Wd Sdng    1.4e+01\n",
      "Plywood    7.4e+00\n",
      "CemntBd    4.2e+00\n",
      "BrkFace    3.4e+00\n",
      "WdShing    1.8e+00\n",
      "Stucco     1.7e+00\n",
      "AsbShng    1.4e+00\n",
      "BrkComm    1.4e-01\n",
      "Stone      1.4e-01\n",
      "AsphShn    6.8e-02\n",
      "CBlock     6.8e-02\n",
      "ImStucc    6.8e-02\n",
      "Name: Exterior1st, dtype: float64\n",
      "-----------------------------\n",
      "VinylSd    3.5e+01\n",
      "MetalSd    1.5e+01\n",
      "HdBoard    1.4e+01\n",
      "Wd Sdng    1.3e+01\n",
      "Plywood    9.7e+00\n",
      "CmentBd    4.1e+00\n",
      "Wd Shng    2.6e+00\n",
      "Stucco     1.8e+00\n",
      "BrkFace    1.7e+00\n",
      "AsbShng    1.4e+00\n",
      "ImStucc    6.8e-01\n",
      "Brk Cmn    4.8e-01\n",
      "Stone      3.4e-01\n",
      "AsphShn    2.1e-01\n",
      "CBlock     6.8e-02\n",
      "Other      6.8e-02\n",
      "Name: Exterior2nd, dtype: float64\n",
      "-----------------------------\n",
      "None       59.2\n",
      "BrkFace    30.5\n",
      "Stone       8.8\n",
      "BrkCmn      1.0\n",
      "Name: MasVnrType, dtype: float64\n",
      "-----------------------------\n",
      "TA    62.1\n",
      "Gd    33.4\n",
      "Ex     3.6\n",
      "Fa     1.0\n",
      "Name: ExterQual, dtype: float64\n",
      "-----------------------------\n",
      "TA    8.8e+01\n",
      "Gd    1.0e+01\n",
      "Fa    1.9e+00\n",
      "Ex    2.1e-01\n",
      "Po    6.8e-02\n",
      "Name: ExterCond, dtype: float64\n",
      "-----------------------------\n",
      "PConc     44.3\n",
      "CBlock    43.4\n",
      "BrkTil    10.0\n",
      "Slab       1.6\n",
      "Stone      0.4\n",
      "Wood       0.2\n",
      "Name: Foundation, dtype: float64\n",
      "-----------------------------\n",
      "TA    44.5\n",
      "Gd    42.3\n",
      "Ex     8.3\n",
      "Fa     2.4\n",
      "Name: BsmtQual, dtype: float64\n",
      "-----------------------------\n",
      "TA    89.8\n",
      "Gd     4.5\n",
      "Fa     3.1\n",
      "Po     0.1\n",
      "Name: BsmtCond, dtype: float64\n",
      "-----------------------------\n",
      "No    65.3\n",
      "Av    15.1\n",
      "Gd     9.2\n",
      "Mn     7.8\n",
      "Name: BsmtExposure, dtype: float64\n",
      "-----------------------------\n",
      "Unf    29.5\n",
      "GLQ    28.6\n",
      "ALQ    15.1\n",
      "BLQ    10.1\n",
      "Rec     9.1\n",
      "LwQ     5.1\n",
      "Name: BsmtFinType1, dtype: float64\n",
      "-----------------------------\n",
      "Unf    86.0\n",
      "Rec     3.7\n",
      "LwQ     3.2\n",
      "BLQ     2.3\n",
      "ALQ     1.3\n",
      "GLQ     1.0\n",
      "Name: BsmtFinType2, dtype: float64\n",
      "-----------------------------\n",
      "GasA     9.8e+01\n",
      "GasW     1.2e+00\n",
      "Grav     4.8e-01\n",
      "Wall     2.7e-01\n",
      "OthW     1.4e-01\n",
      "Floor    6.8e-02\n",
      "Name: Heating, dtype: float64\n",
      "-----------------------------\n",
      "Ex    5.1e+01\n",
      "TA    2.9e+01\n",
      "Gd    1.7e+01\n",
      "Fa    3.4e+00\n",
      "Po    6.8e-02\n",
      "Name: HeatingQC, dtype: float64\n",
      "-----------------------------\n",
      "Y    93.5\n",
      "N     6.5\n",
      "Name: CentralAir, dtype: float64\n",
      "-----------------------------\n",
      "SBrkr    9.1e+01\n",
      "FuseA    6.4e+00\n",
      "FuseF    1.8e+00\n",
      "FuseP    2.1e-01\n",
      "Mix      6.8e-02\n",
      "Name: Electrical, dtype: float64\n",
      "-----------------------------\n",
      "TA    50.3\n",
      "Gd    40.1\n",
      "Ex     6.8\n",
      "Fa     2.7\n",
      "Name: KitchenQual, dtype: float64\n",
      "-----------------------------\n",
      "Typ     9.3e+01\n",
      "Min2    2.3e+00\n",
      "Min1    2.1e+00\n",
      "Mod     1.0e+00\n",
      "Maj1    9.6e-01\n",
      "Maj2    3.4e-01\n",
      "Sev     6.8e-02\n",
      "Name: Functional, dtype: float64\n",
      "-----------------------------\n",
      "Gd    26.0\n",
      "TA    21.4\n",
      "Fa     2.3\n",
      "Ex     1.6\n",
      "Po     1.4\n",
      "Name: FireplaceQu, dtype: float64\n",
      "-----------------------------\n",
      "Attchd     59.6\n",
      "Detchd     26.5\n",
      "BuiltIn     6.0\n",
      "Basment     1.3\n",
      "CarPort     0.6\n",
      "2Types      0.4\n",
      "Name: GarageType, dtype: float64\n",
      "-----------------------------\n",
      "Unf    41.4\n",
      "RFn    28.9\n",
      "Fin    24.1\n",
      "Name: GarageFinish, dtype: float64\n",
      "-----------------------------\n",
      "TA    89.8\n",
      "Fa     3.3\n",
      "Gd     1.0\n",
      "Ex     0.2\n",
      "Po     0.2\n",
      "Name: GarageQual, dtype: float64\n",
      "-----------------------------\n",
      "TA    90.8\n",
      "Fa     2.4\n",
      "Gd     0.6\n",
      "Po     0.5\n",
      "Ex     0.1\n",
      "Name: GarageCond, dtype: float64\n",
      "-----------------------------\n",
      "Y    91.8\n",
      "N     6.2\n",
      "P     2.1\n",
      "Name: PavedDrive, dtype: float64\n",
      "-----------------------------\n",
      "Gd    0.2\n",
      "Ex    0.1\n",
      "Fa    0.1\n",
      "Name: PoolQC, dtype: float64\n",
      "-----------------------------\n",
      "MnPrv    10.8\n",
      "GdPrv     4.0\n",
      "GdWo      3.7\n",
      "MnWw      0.8\n",
      "Name: Fence, dtype: float64\n",
      "-----------------------------\n",
      "Shed    3.4e+00\n",
      "Othr    1.4e-01\n",
      "Gar2    1.4e-01\n",
      "TenC    6.8e-02\n",
      "Name: MiscFeature, dtype: float64\n",
      "-----------------------------\n",
      "WD       86.8\n",
      "New       8.4\n",
      "COD       2.9\n",
      "ConLD     0.6\n",
      "ConLI     0.3\n",
      "ConLw     0.3\n",
      "CWD       0.3\n",
      "Oth       0.2\n",
      "Con       0.1\n",
      "Name: SaleType, dtype: float64\n",
      "-----------------------------\n",
      "Normal     82.1\n",
      "Partial     8.6\n",
      "Abnorml     6.9\n",
      "Family      1.4\n",
      "Alloca      0.8\n",
      "AdjLand     0.3\n",
      "Name: SaleCondition, dtype: float64\n",
      "-----------------------------\n"
     ]
    }
   ],
   "source": [
    "for c in cat:\n",
    "    print(100*df[c].value_counts()/m)\n",
    "    print(\"-----------------------------\")"
   ]
  },
  {
   "cell_type": "markdown",
   "metadata": {
    "collapsed": true
   },
   "source": [
    "# Check assigned variables"
   ]
  },
  {
   "cell_type": "markdown",
   "metadata": {},
   "source": [
    "### 1. BldgType "
   ]
  },
  {
   "cell_type": "code",
   "execution_count": 19,
   "metadata": {},
   "outputs": [
    {
     "data": {
      "text/plain": [
       "BldgType\n",
       "1Fam      1220\n",
       "2fmCon      31\n",
       "Duplex      52\n",
       "Twnhs       43\n",
       "TwnhsE     114\n",
       "Name: BldgType, dtype: int64"
      ]
     },
     "execution_count": 19,
     "metadata": {},
     "output_type": "execute_result"
    }
   ],
   "source": [
    "df.groupby(['BldgType'])['BldgType'].count()"
   ]
  },
  {
   "cell_type": "code",
   "execution_count": 20,
   "metadata": {},
   "outputs": [
    {
     "data": {
      "text/plain": [
       "1460"
      ]
     },
     "execution_count": 20,
     "metadata": {},
     "output_type": "execute_result"
    }
   ],
   "source": [
    "df.groupby(['BldgType'])['BldgType'].count().sum()"
   ]
  },
  {
   "cell_type": "code",
   "execution_count": 21,
   "metadata": {},
   "outputs": [
    {
     "name": "stdout",
     "output_type": "stream",
     "text": [
      "1Fam      83.6\n",
      "TwnhsE     7.8\n",
      "Duplex     3.6\n",
      "Twnhs      2.9\n",
      "2fmCon     2.1\n",
      "Name: BldgType, dtype: float64\n"
     ]
    }
   ],
   "source": [
    "print(100*df['BldgType'].value_counts()/m)"
   ]
  },
  {
   "cell_type": "markdown",
   "metadata": {},
   "source": [
    "### 2. HouseStyle"
   ]
  },
  {
   "cell_type": "code",
   "execution_count": 22,
   "metadata": {},
   "outputs": [
    {
     "data": {
      "text/plain": [
       "HouseStyle\n",
       "1.5Fin    154\n",
       "1.5Unf     14\n",
       "1Story    726\n",
       "2.5Fin      8\n",
       "2.5Unf     11\n",
       "2Story    445\n",
       "SFoyer     37\n",
       "SLvl       65\n",
       "Name: HouseStyle, dtype: int64"
      ]
     },
     "execution_count": 22,
     "metadata": {},
     "output_type": "execute_result"
    }
   ],
   "source": [
    "df.groupby(['HouseStyle'])['HouseStyle'].count()"
   ]
  },
  {
   "cell_type": "code",
   "execution_count": 23,
   "metadata": {},
   "outputs": [
    {
     "data": {
      "text/plain": [
       "1460"
      ]
     },
     "execution_count": 23,
     "metadata": {},
     "output_type": "execute_result"
    }
   ],
   "source": [
    "df.groupby(['HouseStyle'])['HouseStyle'].count().sum()"
   ]
  },
  {
   "cell_type": "code",
   "execution_count": 27,
   "metadata": {},
   "outputs": [
    {
     "name": "stdout",
     "output_type": "stream",
     "text": [
      "1Story    49.7\n",
      "2Story    30.5\n",
      "1.5Fin    10.5\n",
      "SLvl       4.5\n",
      "SFoyer     2.5\n",
      "1.5Unf     1.0\n",
      "2.5Unf     0.8\n",
      "2.5Fin     0.5\n",
      "Name: HouseStyle, dtype: float64\n"
     ]
    }
   ],
   "source": [
    "print(100*df['HouseStyle'].value_counts()/m)"
   ]
  },
  {
   "cell_type": "code",
   "execution_count": null,
   "metadata": {
    "collapsed": true
   },
   "outputs": [],
   "source": []
  },
  {
   "cell_type": "code",
   "execution_count": null,
   "metadata": {
    "collapsed": true
   },
   "outputs": [],
   "source": []
  },
  {
   "cell_type": "code",
   "execution_count": null,
   "metadata": {
    "collapsed": true
   },
   "outputs": [],
   "source": []
  },
  {
   "cell_type": "code",
   "execution_count": null,
   "metadata": {
    "collapsed": true
   },
   "outputs": [],
   "source": []
  }
 ],
 "metadata": {
  "kernelspec": {
   "display_name": "Python 3",
   "language": "python",
   "name": "python3"
  },
  "language_info": {
   "codemirror_mode": {
    "name": "ipython",
    "version": 3
   },
   "file_extension": ".py",
   "mimetype": "text/x-python",
   "name": "python",
   "nbconvert_exporter": "python",
   "pygments_lexer": "ipython3",
   "version": "3.6.4"
  }
 },
 "nbformat": 4,
 "nbformat_minor": 2
}
