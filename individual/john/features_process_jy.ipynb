{
 "cells": [
  {
   "cell_type": "markdown",
   "metadata": {},
   "source": [
    "## About this notebook\n",
    "\n",
    "This notebook will process data features so that they will be \"analysis-ready.\"  Specifically, for\n",
    "1. Continuous features:\n",
    "    - impute missing values when needed\n",
    "    - delete a feature if there are too many missing data\n",
    "    - handle future missing data\n",
    "    \n",
    "2. Categorical features:\n",
    "    - \"collapse\" subcategories of features if there are too many subcategories\n",
    "    - \"collapse\" subcategories of features if subcategories have very few values (<5%)\n",
    "    - create a missing subcategory for missing if there are significant missing data\n",
    "    - create dummy "
   ]
  },
  {
   "cell_type": "markdown",
   "metadata": {},
   "source": [
    "# A. import packages"
   ]
  },
  {
   "cell_type": "code",
   "execution_count": 98,
   "metadata": {
    "collapsed": true
   },
   "outputs": [],
   "source": [
    "import numpy as np\n",
    "import pandas as pd\n",
    "import matplotlib.pyplot as plt\n",
    "import seaborn as sns\n",
    "from scipy import stats\n",
    "\n",
    "%matplotlib inline"
   ]
  },
  {
   "cell_type": "code",
   "execution_count": 99,
   "metadata": {
    "collapsed": true
   },
   "outputs": [],
   "source": [
    "#read in data\n",
    "df = pd.read_csv('./data/train')\n",
    "m = df.shape[0]"
   ]
  },
  {
   "cell_type": "markdown",
   "metadata": {},
   "source": [
    "# B. process features (41-60)"
   ]
  },
  {
   "cell_type": "markdown",
   "metadata": {},
   "source": [
    "### 41. CentralAir [categorical]"
   ]
  },
  {
   "cell_type": "code",
   "execution_count": 100,
   "metadata": {},
   "outputs": [],
   "source": [
    "def centralair(cols):\n",
    "    \"\"\"\n",
    "    Arguments:\n",
    "    cols[0] -- dataframe column value for ID\n",
    "    cols[1] -- dataframe column value for the feature, 'CentralAir': Central air conditioning, with categories \n",
    "       N    No\n",
    "       Y    Yes\n",
    "    Returns:\n",
    "    'CentAir' -- if Y\n",
    "    'NoCentAir' -- if N or missing\n",
    "    \"\"\"        \n",
    "    Id = cols[0]\n",
    "    CentralAir = cols[1]\n",
    "    \n",
    "    if pd.isnull(CentralAir):\n",
    "        return 'NoCentAir'    \n",
    "    else:\n",
    "        if CentralAir == 'Y':\n",
    "            return 'CentAir'\n",
    "        else:\n",
    "            return 'NoCentAir'\n",
    "\n",
    "df['CentralAir'] = df[['Id','CentralAir']].apply(centralair,axis=1)"
   ]
  },
  {
   "cell_type": "markdown",
   "metadata": {},
   "source": [
    "### 42. Electrical [categorical]"
   ]
  },
  {
   "cell_type": "code",
   "execution_count": 103,
   "metadata": {
    "collapsed": true
   },
   "outputs": [],
   "source": [
    "def electric(cols):\n",
    "    \"\"\"\n",
    "    Arguments:\n",
    "    cols[0] -- dataframe column value for ID\n",
    "    cols[1] -- dataframe column value for the feature, 'Electrical': Electrical system, with categories \n",
    "       SBrkr    Standard Circuit Breakers & Romex\n",
    "       FuseA    Fuse Box over 60 AMP and all Romex wiring (Average)\t\n",
    "       FuseF    60 AMP Fuse Box and mostly Romex wiring (Fair)\n",
    "       FuseP    60 AMP Fuse Box and mostly knob & tube wiring (poor)\n",
    "       Mix      Mixed\n",
    "    Returns:\n",
    "    'SBrkr' -- if 'SBrkr'\n",
    "    'Other' -- if FuseA, FuseF, FuseP, Mix, or missing\n",
    "    \"\"\"        \n",
    "    Id = cols[0]\n",
    "    Electrical = cols[1]\n",
    "    \n",
    "    if pd.isnull(Electrical):\n",
    "        return 'OtherCBrkr'\n",
    "    else:\n",
    "        if Electrical == 'SBrkr':\n",
    "            return 'StdCBrkr'\n",
    "        else:\n",
    "            return 'OtherCBrkr'\n",
    "        \n",
    "df['Electrical'] = df[['Id','Electrical']].apply(electric,axis=1)"
   ]
  },
  {
   "cell_type": "markdown",
   "metadata": {},
   "source": [
    "### 43. 1stFlrSF [continuous]"
   ]
  },
  {
   "cell_type": "code",
   "execution_count": 86,
   "metadata": {},
   "outputs": [],
   "source": [
    "df.drop(['1stFlrSF'], axis = 1, inplace = True)"
   ]
  },
  {
   "cell_type": "markdown",
   "metadata": {},
   "source": [
    "### 44. 2ndFlrSF [continuous]"
   ]
  },
  {
   "cell_type": "code",
   "execution_count": 87,
   "metadata": {
    "collapsed": true
   },
   "outputs": [],
   "source": [
    "df.drop(['2ndFlrSF'], axis = 1, inplace = True)"
   ]
  },
  {
   "cell_type": "markdown",
   "metadata": {},
   "source": [
    "### 45. LowQualFinSF [continuous]"
   ]
  },
  {
   "cell_type": "code",
   "execution_count": 88,
   "metadata": {},
   "outputs": [],
   "source": [
    "df.drop(['LowQualFinSF'], axis = 1, inplace = True)"
   ]
  },
  {
   "cell_type": "markdown",
   "metadata": {},
   "source": [
    "### 46. GrLivArea [continuous]"
   ]
  },
  {
   "cell_type": "code",
   "execution_count": 106,
   "metadata": {
    "collapsed": true
   },
   "outputs": [],
   "source": [
    "def grlivarea(cols):\n",
    "    \"\"\"\n",
    "    Arguments:\n",
    "    cols[0] -- dataframe column value for ID\n",
    "    cols[1] -- dataframe column value for the feature, 'GrLivArea': Above grade (ground) living area square feet\n",
    "    \n",
    "    Returns:\n",
    "    x -- if x is positive\n",
    "    1464 -- if x is not positive (assumed to be missing; 1464 is the median in the training set)\n",
    "    \"\"\"        \n",
    "    Id = cols[0]\n",
    "    GrLivArea = cols[1]\n",
    "    \n",
    "    if pd.isnull(GrLivArea):\n",
    "        return 1464 \n",
    "    else:\n",
    "        return GrLivArea\n",
    "        \n",
    "df['GrLivArea'] = df[['Id','GrLivArea']].apply(grlivarea,axis=1)"
   ]
  },
  {
   "cell_type": "markdown",
   "metadata": {},
   "source": [
    "### 47-50. BsmtFullBath, BsmtHalfBath, FullBath, HalfBath"
   ]
  },
  {
   "cell_type": "code",
   "execution_count": 110,
   "metadata": {
    "collapsed": true
   },
   "outputs": [],
   "source": [
    "def totalbaths(cols):\n",
    "    \"\"\"\n",
    "    Arguments:\n",
    "    cols[0] -- dataframe column value for ID\n",
    "    cols[1] -- dataframe column value for the new feature, 'TotalBaths': with numeric values \n",
    "         1,1.5,2,2.5,3,...  \n",
    "   \n",
    "    Returns:\n",
    "    '1-1.5Baths' -- if <=1.5 total baths\n",
    "    '2Baths' -- if 2 total baths\n",
    "    '2.5Baths' -- if 2.5 total baths\n",
    "    '3+Baths' -- if 3 or more total baths\n",
    "    \"\"\"    \n",
    "    \n",
    "    Id = cols[0]\n",
    "    BsmtFullBath = cols[1]\n",
    "    BsmtHalfBath = cols[2]\n",
    "    FullBath = cols[3]\n",
    "    HalfBath = cols[4]\n",
    "    \n",
    "    total = BsmtFullBath + 0.5*BsmtHalfBath + FullBath + 0.5*HalfBath\n",
    "    \n",
    "    if total <= 1.5:\n",
    "        return '1-1.5Baths'\n",
    "    elif total == 2:\n",
    "        return '2Baths'\n",
    "    elif total == 2.5:\n",
    "        return '2.5Baths'\n",
    "    elif total>2.5:\n",
    "        return '3+Baths'\n",
    "        \n",
    "df['TotalBaths'] = df[['Id','BsmtFullBath','BsmtHalfBath','FullBath','HalfBath']].apply(totalbaths,axis=1)"
   ]
  },
  {
   "cell_type": "markdown",
   "metadata": {},
   "source": [
    "### 51. BedroomAbvGr"
   ]
  },
  {
   "cell_type": "code",
   "execution_count": 112,
   "metadata": {
    "collapsed": true
   },
   "outputs": [],
   "source": [
    "def bedroomabvgr(cols):\n",
    "    \"\"\"\n",
    "    Arguments:\n",
    "    cols[0] -- dataframe column value for ID\n",
    "    cols[1] -- dataframe column value for the feature, 'BedroomAbvGr': with numeric values \n",
    "         0, 1, 2, ...  \n",
    "   \n",
    "    Returns:\n",
    "    '<3Bedr' -- if <3 total bedrooms\n",
    "    '=3Bedr' -- if 3 total bedrooms\n",
    "    '>3Bedr' -- if >3 total bedrooms\n",
    "    \"\"\"   \n",
    "    \n",
    "    Id = cols[0]\n",
    "    BedroomAbvGr = cols[1]\n",
    "    \n",
    "    if pd.isnull(BedroomAbvGr):\n",
    "        return '<3Bedr'\n",
    "    else:\n",
    "        if BedroomAbvGr < 3:\n",
    "            return '<3Bedr'\n",
    "        elif BedroomAbvGr == 3:\n",
    "            return '=3Bedr'\n",
    "        else:\n",
    "            return '>3Bedr'\n",
    "        \n",
    "df['BedroomAbvGr'] = df[['Id','BedroomAbvGr']].apply(bedroomabvgr,axis=1)"
   ]
  },
  {
   "cell_type": "markdown",
   "metadata": {},
   "source": [
    "### 52. KitchenAbvGr"
   ]
  },
  {
   "cell_type": "code",
   "execution_count": 117,
   "metadata": {
    "collapsed": true
   },
   "outputs": [],
   "source": [
    "def kitchenabvgr(cols):\n",
    "    \"\"\"\n",
    "    Arguments:\n",
    "    cols[0] -- dataframe column value for ID\n",
    "    cols[1] -- dataframe column value for the feature, 'KitchenAbvGr': with numeric values \n",
    "         0, 1, 2, ...  \n",
    "   \n",
    "    Returns:\n",
    "    '1Ktchn' -- if <=1 total kitchens or missing\n",
    "    '>1Ktchn' -- if >1 total kitchens\n",
    "    \"\"\"           \n",
    "    Id = cols[0]\n",
    "    KitchenAbvGr = cols[1]\n",
    "    \n",
    "    if pd.isnull(KitchenAbvGr):\n",
    "        return '1Ktchn' \n",
    "    else:\n",
    "        if KitchenAbvGr == 0:\n",
    "            return '1Ktchn'\n",
    "        elif KitchenAbvGr == 1:\n",
    "            return '1Ktchn'\n",
    "        else:\n",
    "            return '>1Ktchn'\n",
    "        \n",
    "df['KitchenAbvGr'] = df[['Id','KitchenAbvGr']].apply(kitchenabvgr,axis=1)"
   ]
  },
  {
   "cell_type": "markdown",
   "metadata": {},
   "source": [
    "### 53. KitchenQual"
   ]
  },
  {
   "cell_type": "code",
   "execution_count": 118,
   "metadata": {
    "collapsed": true
   },
   "outputs": [],
   "source": [
    "def kitchenqual(cols):\n",
    "    \"\"\"\n",
    "    Arguments:\n",
    "    cols[0] -- dataframe column value for ID\n",
    "    cols[1] -- dataframe column value for the feature, 'KitchenQual': with categories \n",
    "               Ex   Excellent\n",
    "               Gd   Good\n",
    "               TA   Typical/Average\n",
    "               Fa   Fair\n",
    "               Po   Poor\n",
    "    Returns:\n",
    "    '1Ktchn' -- if <=1 total kitchens or missing\n",
    "    '>1Ktchn' -- if >1 total kitchens\n",
    "    \"\"\"               \n",
    "    \n",
    "    Id = cols[0]\n",
    "    KitchenQual = cols[1]\n",
    "    \n",
    "    if pd.isnull(KitchenQual):\n",
    "        return 'AvKtchnQ' \n",
    "    else:\n",
    "        if KitchenQual in ('Fa','Po','TA'):\n",
    "            return 'AvKtchnQ'\n",
    "        elif KitchenQual == 'Gd':\n",
    "            return 'GdKtchnQ'\n",
    "        else:\n",
    "            return 'ExKtchnQ'\n",
    "        \n",
    "df['KitchenQual'] = df[['Id','KitchenQual']].apply(kitchenqual,axis=1)"
   ]
  },
  {
   "cell_type": "markdown",
   "metadata": {},
   "source": [
    "### 54. TotRmsAbvGrd"
   ]
  },
  {
   "cell_type": "code",
   "execution_count": 123,
   "metadata": {
    "collapsed": true
   },
   "outputs": [],
   "source": [
    "def totrmsabvgrd(cols):\n",
    "    \"\"\"\n",
    "    Arguments:\n",
    "    cols[0] -- dataframe column value for ID\n",
    "    cols[1] -- dataframe column value for the feature, 'TotRmsAbvGrd': Total rooms \n",
    "               above grade (does not include bathrooms) \n",
    "    Returns:\n",
    "    '<6Bedr' -- if <6 total bedrooms or missing\n",
    "    '=6Bedr' -- if =6 total bedrooms\n",
    "    '=7Bedr' -- if =7 total bedrooms  \n",
    "    '>7Bedr' -- if >7 total bedrooms    \n",
    "    \"\"\"   \n",
    "    \n",
    "    Id = cols[0]\n",
    "    TotRmsAbvGrd = cols[1]\n",
    "    \n",
    "    if pd.isnull(TotRmsAbvGrd):\n",
    "        return '6Bedr'\n",
    "    else:\n",
    "        if TotRmsAbvGrd < 6:\n",
    "            return '<6Bedr'\n",
    "        elif TotRmsAbvGrd == 6:\n",
    "            return '=6Bedr'\n",
    "        elif TotRmsAbvGrd == 7:\n",
    "            return '=7Bedr'\n",
    "        else:\n",
    "            return '>7Bedr'    \n",
    "        \n",
    "df['TotRmsAbvGrd'] = df[['Id','TotRmsAbvGrd']].apply(totrmsabvgrd,axis=1)"
   ]
  },
  {
   "cell_type": "markdown",
   "metadata": {},
   "source": [
    "### 55. Functional"
   ]
  },
  {
   "cell_type": "code",
   "execution_count": 126,
   "metadata": {
    "collapsed": true
   },
   "outputs": [],
   "source": [
    "def functional(cols):\n",
    "    \"\"\"\n",
    "    Arguments:\n",
    "    cols[0] -- dataframe column value for ID\n",
    "    cols[1] -- dataframe column value for the feature, 'Functional': Home functionality \n",
    "               (Assume typical unless deductions are warranted) with categories  \n",
    "\n",
    "               Typ    Typical Functionality\n",
    "               Min1   Minor Deductions 1\n",
    "               Min2   Minor Deductions 2\n",
    "               Mod    Moderate Deductions\n",
    "               Maj1   Major Deductions 1\n",
    "               Maj2   Major Deductions 2\n",
    "               Sev    Severely Damaged\n",
    "               Sal    Salvage only\n",
    "\n",
    "    Returns:\n",
    "    '<6Bedr' -- if <6 total bedrooms or missing\n",
    "    '=6Bedr' -- if =6 total bedrooms\n",
    "    '=7Bedr' -- if =7 total bedrooms  \n",
    "    '>7Bedr' -- if >7 total bedrooms    \n",
    "    \"\"\"       \n",
    "    \n",
    "    Id = cols[0]\n",
    "    Functional = cols[1]\n",
    "    \n",
    "    if pd.isnull(Functional):\n",
    "        return 'NTypFunc'\n",
    "    else:\n",
    "        if Functional == 'Typ':\n",
    "            return 'TypFunc'\n",
    "        else:\n",
    "            return 'NTypFunc'\n",
    "        \n",
    "df['Functional'] = df[['Id','Functional']].apply(functional,axis=1)"
   ]
  },
  {
   "cell_type": "markdown",
   "metadata": {},
   "source": [
    "### 56. Fireplaces"
   ]
  },
  {
   "cell_type": "code",
   "execution_count": null,
   "metadata": {
    "collapsed": true
   },
   "outputs": [],
   "source": []
  },
  {
   "cell_type": "code",
   "execution_count": 85,
   "metadata": {},
   "outputs": [
    {
     "data": {
      "text/plain": [
       "0    0\n",
       "1    1\n",
       "2    1\n",
       "3    1\n",
       "4    1\n",
       "Name: Fireplaces, dtype: int64"
      ]
     },
     "execution_count": 85,
     "metadata": {},
     "output_type": "execute_result"
    }
   ],
   "source": [
    "df['Fireplaces'].head()"
   ]
  },
  {
   "cell_type": "code",
   "execution_count": 86,
   "metadata": {},
   "outputs": [
    {
     "data": {
      "text/plain": [
       "1460"
      ]
     },
     "execution_count": 86,
     "metadata": {},
     "output_type": "execute_result"
    }
   ],
   "source": [
    "df['Fireplaces'].count()"
   ]
  },
  {
   "cell_type": "code",
   "execution_count": 87,
   "metadata": {},
   "outputs": [
    {
     "data": {
      "text/plain": [
       "Fireplaces\n",
       "0    690\n",
       "1    650\n",
       "2    115\n",
       "3      5\n",
       "Name: Fireplaces, dtype: int64"
      ]
     },
     "execution_count": 87,
     "metadata": {},
     "output_type": "execute_result"
    }
   ],
   "source": [
    "df.groupby(['Fireplaces'])['Fireplaces'].count()"
   ]
  },
  {
   "cell_type": "code",
   "execution_count": 88,
   "metadata": {},
   "outputs": [
    {
     "data": {
      "text/plain": [
       "Fireplaces\n",
       "0    47.3\n",
       "1    44.5\n",
       "2     7.9\n",
       "3     0.3\n",
       "Name: Fireplaces, dtype: float64"
      ]
     },
     "execution_count": 88,
     "metadata": {},
     "output_type": "execute_result"
    }
   ],
   "source": [
    "round(100*df.groupby(['Fireplaces'])['Fireplaces'].count()/m,1)"
   ]
  },
  {
   "cell_type": "code",
   "execution_count": 89,
   "metadata": {},
   "outputs": [
    {
     "data": {
      "image/png": "[encoded data removed]",
      "text/plain": [
       "<matplotlib.figure.Figure at 0x1113247b8>"
      ]
     },
     "metadata": {},
     "output_type": "display_data"
    }
   ],
   "source": [
    "sns.distplot(df['Fireplaces']);"
   ]
  },
  {
   "cell_type": "markdown",
   "metadata": {},
   "source": [
    "**Comments**\n",
    "1. Complete data \n",
    "2. Too few observations for 3 fireplaces\n",
    "3. Create new categories as Fireplace and NoFireplace\n",
    "4. For new data when testing, impute missing as NoFireplace"
   ]
  },
  {
   "cell_type": "markdown",
   "metadata": {},
   "source": [
    "### 17. FireplaceQu"
   ]
  },
  {
   "cell_type": "code",
   "execution_count": 90,
   "metadata": {},
   "outputs": [
    {
     "data": {
      "text/plain": [
       "0    NaN\n",
       "1     TA\n",
       "2     TA\n",
       "3     Gd\n",
       "4     TA\n",
       "Name: FireplaceQu, dtype: object"
      ]
     },
     "execution_count": 90,
     "metadata": {},
     "output_type": "execute_result"
    }
   ],
   "source": [
    "df['FireplaceQu'].head()"
   ]
  },
  {
   "cell_type": "code",
   "execution_count": 91,
   "metadata": {},
   "outputs": [
    {
     "data": {
      "text/plain": [
       "770"
      ]
     },
     "execution_count": 91,
     "metadata": {},
     "output_type": "execute_result"
    }
   ],
   "source": [
    "df['FireplaceQu'].count()"
   ]
  },
  {
   "cell_type": "code",
   "execution_count": 92,
   "metadata": {},
   "outputs": [
    {
     "data": {
      "text/plain": [
       "52.7"
      ]
     },
     "execution_count": 92,
     "metadata": {},
     "output_type": "execute_result"
    }
   ],
   "source": [
    "round(100*df['FireplaceQu'].count()/m,1)"
   ]
  },
  {
   "cell_type": "code",
   "execution_count": 93,
   "metadata": {},
   "outputs": [
    {
     "data": {
      "image/png": "[encoded data removed]",
      "text/plain": [
       "<matplotlib.figure.Figure at 0x111298da0>"
      ]
     },
     "metadata": {},
     "output_type": "display_data"
    }
   ],
   "source": [
    "sns.violinplot(x=\"SalePrice\", y=\"FireplaceQu\", data=df);"
   ]
  },
  {
   "cell_type": "code",
   "execution_count": 94,
   "metadata": {},
   "outputs": [
    {
     "data": {
      "text/plain": [
       "FireplaceQu\n",
       "Ex     24\n",
       "Fa     33\n",
       "Gd    380\n",
       "Po     20\n",
       "TA    313\n",
       "Name: FireplaceQu, dtype: int64"
      ]
     },
     "execution_count": 94,
     "metadata": {},
     "output_type": "execute_result"
    }
   ],
   "source": [
    "df.groupby(['FireplaceQu'])['FireplaceQu'].count()"
   ]
  },
  {
   "cell_type": "code",
   "execution_count": 95,
   "metadata": {},
   "outputs": [
    {
     "data": {
      "text/plain": [
       "FireplaceQu\n",
       "Ex     1.6\n",
       "Fa     2.3\n",
       "Gd    26.0\n",
       "Po     1.4\n",
       "TA    21.4\n",
       "Name: FireplaceQu, dtype: float64"
      ]
     },
     "execution_count": 95,
     "metadata": {},
     "output_type": "execute_result"
    }
   ],
   "source": [
    "round(100*df.groupby(['FireplaceQu'])['FireplaceQu'].count()/m,1)"
   ]
  },
  {
   "cell_type": "code",
   "execution_count": 99,
   "metadata": {},
   "outputs": [
    {
     "data": {
      "text/plain": [
       "690"
      ]
     },
     "execution_count": 99,
     "metadata": {},
     "output_type": "execute_result"
    }
   ],
   "source": [
    "df[df['Fireplaces']==0]['Fireplaces'].count()"
   ]
  },
  {
   "cell_type": "code",
   "execution_count": 104,
   "metadata": {},
   "outputs": [
    {
     "data": {
      "text/plain": [
       "47.3"
      ]
     },
     "execution_count": 104,
     "metadata": {},
     "output_type": "execute_result"
    }
   ],
   "source": [
    "round(100*df[df['Fireplaces']==0]['Fireplaces'].count()/m,1)"
   ]
  },
  {
   "cell_type": "code",
   "execution_count": 102,
   "metadata": {},
   "outputs": [
    {
     "data": {
      "text/plain": [
       "690"
      ]
     },
     "execution_count": 102,
     "metadata": {},
     "output_type": "execute_result"
    }
   ],
   "source": [
    "df[df['FireplaceQu'].isnull()]['Fireplaces'].count()"
   ]
  },
  {
   "cell_type": "markdown",
   "metadata": {},
   "source": [
    "**Comments**\n",
    "1. Complete data but many NaN's\n",
    "2. Create 3 new categories: Gd+Ex, Others, Missing"
   ]
  },
  {
   "cell_type": "markdown",
   "metadata": {},
   "source": [
    "### 18. GarageType"
   ]
  },
  {
   "cell_type": "code",
   "execution_count": 156,
   "metadata": {},
   "outputs": [
    {
     "data": {
      "text/plain": [
       "0    Attchd\n",
       "1    Attchd\n",
       "2    Attchd\n",
       "3    Detchd\n",
       "4    Attchd\n",
       "Name: GarageType, dtype: object"
      ]
     },
     "execution_count": 156,
     "metadata": {},
     "output_type": "execute_result"
    }
   ],
   "source": [
    "df['GarageType'].head()"
   ]
  },
  {
   "cell_type": "code",
   "execution_count": 157,
   "metadata": {},
   "outputs": [
    {
     "data": {
      "text/plain": [
       "1379"
      ]
     },
     "execution_count": 157,
     "metadata": {},
     "output_type": "execute_result"
    }
   ],
   "source": [
    "df['GarageType'].count()"
   ]
  },
  {
   "cell_type": "code",
   "execution_count": 160,
   "metadata": {},
   "outputs": [
    {
     "data": {
      "text/plain": [
       "94.5"
      ]
     },
     "execution_count": 160,
     "metadata": {},
     "output_type": "execute_result"
    }
   ],
   "source": [
    "round(100*df['GarageType'].count()/m,1)"
   ]
  },
  {
   "cell_type": "code",
   "execution_count": 158,
   "metadata": {},
   "outputs": [
    {
     "data": {
      "text/plain": [
       "GarageType\n",
       "2Types       6\n",
       "Attchd     870\n",
       "Basment     19\n",
       "BuiltIn     88\n",
       "CarPort      9\n",
       "Detchd     387\n",
       "Name: GarageType, dtype: int64"
      ]
     },
     "execution_count": 158,
     "metadata": {},
     "output_type": "execute_result"
    }
   ],
   "source": [
    "df.groupby(['GarageType'])['GarageType'].count()"
   ]
  },
  {
   "cell_type": "code",
   "execution_count": 159,
   "metadata": {},
   "outputs": [
    {
     "data": {
      "text/plain": [
       "GarageType\n",
       "2Types      0.4\n",
       "Attchd     59.6\n",
       "Basment     1.3\n",
       "BuiltIn     6.0\n",
       "CarPort     0.6\n",
       "Detchd     26.5\n",
       "Name: GarageType, dtype: float64"
      ]
     },
     "execution_count": 159,
     "metadata": {},
     "output_type": "execute_result"
    }
   ],
   "source": [
    "round(100*df.groupby(['GarageType'])['GarageType'].count()/m,1)"
   ]
  },
  {
   "cell_type": "markdown",
   "metadata": {},
   "source": [
    "**Comments**\n",
    "1. 5.5% missing data\n",
    "2. One option is create new category: Attached vs Other (including missing) OR Attached, Detached, and Other"
   ]
  },
  {
   "cell_type": "markdown",
   "metadata": {},
   "source": [
    "### 19. GarageYrBlt"
   ]
  },
  {
   "cell_type": "code",
   "execution_count": 165,
   "metadata": {},
   "outputs": [
    {
     "data": {
      "text/plain": [
       "0    2003.0\n",
       "1    1976.0\n",
       "2    2001.0\n",
       "3    1998.0\n",
       "4    2000.0\n",
       "Name: GarageYrBlt, dtype: float64"
      ]
     },
     "execution_count": 165,
     "metadata": {},
     "output_type": "execute_result"
    }
   ],
   "source": [
    "df['GarageYrBlt'].head()"
   ]
  },
  {
   "cell_type": "code",
   "execution_count": 162,
   "metadata": {},
   "outputs": [
    {
     "data": {
      "text/plain": [
       "1379"
      ]
     },
     "execution_count": 162,
     "metadata": {},
     "output_type": "execute_result"
    }
   ],
   "source": [
    "df['GarageYrBlt'].count()"
   ]
  },
  {
   "cell_type": "code",
   "execution_count": 166,
   "metadata": {},
   "outputs": [
    {
     "data": {
      "text/plain": [
       "94.5"
      ]
     },
     "execution_count": 166,
     "metadata": {},
     "output_type": "execute_result"
    }
   ],
   "source": [
    "round(100*df['GarageYrBlt'].count()/m,1)"
   ]
  },
  {
   "cell_type": "code",
   "execution_count": 169,
   "metadata": {},
   "outputs": [
    {
     "data": {
      "text/plain": [
       "count    1379.000000\n",
       "mean     1978.506164\n",
       "std        24.689725\n",
       "min      1900.000000\n",
       "25%      1961.000000\n",
       "50%      1980.000000\n",
       "75%      2002.000000\n",
       "max      2010.000000\n",
       "Name: GarageYrBlt, dtype: float64"
      ]
     },
     "execution_count": 169,
     "metadata": {},
     "output_type": "execute_result"
    }
   ],
   "source": [
    "df['GarageYrBlt'].describe()"
   ]
  },
  {
   "cell_type": "markdown",
   "metadata": {},
   "source": [
    "**Comments**\n",
    "1. 5.5% missing data (same as GarageType)\n",
    "2. Check if same as year house was built"
   ]
  },
  {
   "cell_type": "markdown",
   "metadata": {},
   "source": [
    "### 20. GarageFinish"
   ]
  },
  {
   "cell_type": "code",
   "execution_count": 170,
   "metadata": {},
   "outputs": [
    {
     "data": {
      "text/plain": [
       "0    RFn\n",
       "1    RFn\n",
       "2    RFn\n",
       "3    Unf\n",
       "4    RFn\n",
       "Name: GarageFinish, dtype: object"
      ]
     },
     "execution_count": 170,
     "metadata": {},
     "output_type": "execute_result"
    }
   ],
   "source": [
    "df['GarageFinish'].head()"
   ]
  },
  {
   "cell_type": "code",
   "execution_count": 171,
   "metadata": {},
   "outputs": [
    {
     "data": {
      "text/plain": [
       "1379"
      ]
     },
     "execution_count": 171,
     "metadata": {},
     "output_type": "execute_result"
    }
   ],
   "source": [
    "df['GarageFinish'].count()"
   ]
  },
  {
   "cell_type": "code",
   "execution_count": 172,
   "metadata": {},
   "outputs": [
    {
     "data": {
      "text/plain": [
       "GarageFinish\n",
       "Fin    352\n",
       "RFn    422\n",
       "Unf    605\n",
       "Name: GarageFinish, dtype: int64"
      ]
     },
     "execution_count": 172,
     "metadata": {},
     "output_type": "execute_result"
    }
   ],
   "source": [
    "df.groupby(['GarageFinish'])['GarageFinish'].count()"
   ]
  },
  {
   "cell_type": "code",
   "execution_count": 173,
   "metadata": {},
   "outputs": [
    {
     "data": {
      "text/plain": [
       "GarageFinish\n",
       "Fin    24.1\n",
       "RFn    28.9\n",
       "Unf    41.4\n",
       "Name: GarageFinish, dtype: float64"
      ]
     },
     "execution_count": 173,
     "metadata": {},
     "output_type": "execute_result"
    }
   ],
   "source": [
    "round(100*df.groupby(['GarageFinish'])['GarageFinish'].count()/m,1)"
   ]
  },
  {
   "cell_type": "markdown",
   "metadata": {},
   "source": [
    "**Comments**\n",
    "1. 5.5% missing data (same as previous...)\n",
    "2. Include missing values in Unf"
   ]
  },
  {
   "cell_type": "code",
   "execution_count": 1,
   "metadata": {},
   "outputs": [
    {
     "ename": "NameError",
     "evalue": "name 'df' is not defined",
     "output_type": "error",
     "traceback": [
      "\u001b[0;31m---------------------------------------------------------------------------\u001b[0m",
      "\u001b[0;31mNameError\u001b[0m                                 Traceback (most recent call last)",
      "\u001b[0;32m<ipython-input-1-14281d7df879>\u001b[0m in \u001b[0;36m<module>\u001b[0;34m()\u001b[0m\n\u001b[0;32m----> 1\u001b[0;31m \u001b[0mdf\u001b[0m\u001b[0;34m[\u001b[0m\u001b[0;34m'HouseStyle'\u001b[0m\u001b[0;34m]\u001b[0m\u001b[0;34m\u001b[0m\u001b[0m\n\u001b[0m",
      "\u001b[0;31mNameError\u001b[0m: name 'df' is not defined"
     ]
    }
   ],
   "source": [
    "df['HouseStyle']"
   ]
  },
  {
   "cell_type": "code",
   "execution_count": null,
   "metadata": {
    "collapsed": true
   },
   "outputs": [],
   "source": []
  },
  {
   "cell_type": "markdown",
   "metadata": {},
   "source": [
    "# ALL VARIABLES TABLES"
   ]
  },
  {
   "cell_type": "markdown",
   "metadata": {},
   "source": [
    "## a. Continuous"
   ]
  },
  {
   "cell_type": "code",
   "execution_count": 10,
   "metadata": {
    "scrolled": false
   },
   "outputs": [
    {
     "name": "stdout",
     "output_type": "stream",
     "text": [
      "                count     mean      std      min       50%       max\n",
      "Id             1460.0  7.3e+02    421.6      1.0     730.5    1460.0\n",
      "MSSubClass     1460.0  5.7e+01     42.3     20.0      50.0     190.0\n",
      "LotFrontage    1201.0  7.0e+01     24.3     21.0      69.0     313.0\n",
      "LotArea        1460.0  1.1e+04   9981.3   1300.0    9478.5  215245.0\n",
      "OverallQual    1460.0  6.1e+00      1.4      1.0       6.0      10.0\n",
      "OverallCond    1460.0  5.6e+00      1.1      1.0       5.0       9.0\n",
      "YearBuilt      1460.0  2.0e+03     30.2   1872.0    1973.0    2010.0\n",
      "YearRemodAdd   1460.0  2.0e+03     20.6   1950.0    1994.0    2010.0\n",
      "MasVnrArea     1452.0  1.0e+02    181.1      0.0       0.0    1600.0\n",
      "BsmtFinSF1     1460.0  4.4e+02    456.1      0.0     383.5    5644.0\n",
      "BsmtFinSF2     1460.0  4.7e+01    161.3      0.0       0.0    1474.0\n",
      "BsmtUnfSF      1460.0  5.7e+02    441.9      0.0     477.5    2336.0\n",
      "TotalBsmtSF    1460.0  1.1e+03    438.7      0.0     991.5    6110.0\n",
      "1stFlrSF       1460.0  1.2e+03    386.6    334.0    1087.0    4692.0\n",
      "2ndFlrSF       1460.0  3.5e+02    436.5      0.0       0.0    2065.0\n",
      "LowQualFinSF   1460.0  5.8e+00     48.6      0.0       0.0     572.0\n",
      "GrLivArea      1460.0  1.5e+03    525.5    334.0    1464.0    5642.0\n",
      "BsmtFullBath   1460.0  4.3e-01      0.5      0.0       0.0       3.0\n",
      "BsmtHalfBath   1460.0  5.8e-02      0.2      0.0       0.0       2.0\n",
      "FullBath       1460.0  1.6e+00      0.6      0.0       2.0       3.0\n",
      "HalfBath       1460.0  3.8e-01      0.5      0.0       0.0       2.0\n",
      "BedroomAbvGr   1460.0  2.9e+00      0.8      0.0       3.0       8.0\n",
      "KitchenAbvGr   1460.0  1.0e+00      0.2      0.0       1.0       3.0\n",
      "TotRmsAbvGrd   1460.0  6.5e+00      1.6      2.0       6.0      14.0\n",
      "Fireplaces     1460.0  6.1e-01      0.6      0.0       1.0       3.0\n",
      "GarageYrBlt    1379.0  2.0e+03     24.7   1900.0    1980.0    2010.0\n",
      "GarageCars     1460.0  1.8e+00      0.7      0.0       2.0       4.0\n",
      "GarageArea     1460.0  4.7e+02    213.8      0.0     480.0    1418.0\n",
      "WoodDeckSF     1460.0  9.4e+01    125.3      0.0       0.0     857.0\n",
      "OpenPorchSF    1460.0  4.7e+01     66.3      0.0      25.0     547.0\n",
      "EnclosedPorch  1460.0  2.2e+01     61.1      0.0       0.0     552.0\n",
      "3SsnPorch      1460.0  3.4e+00     29.3      0.0       0.0     508.0\n",
      "ScreenPorch    1460.0  1.5e+01     55.8      0.0       0.0     480.0\n",
      "PoolArea       1460.0  2.8e+00     40.2      0.0       0.0     738.0\n",
      "MiscVal        1460.0  4.3e+01    496.1      0.0       0.0   15500.0\n",
      "MoSold         1460.0  6.3e+00      2.7      1.0       6.0      12.0\n",
      "YrSold         1460.0  2.0e+03      1.3   2006.0    2008.0    2010.0\n",
      "SalePrice      1460.0  1.8e+05  79442.5  34900.0  163000.0  755000.0\n"
     ]
    }
   ],
   "source": [
    "pd.set_option('display.precision', 1)\n",
    "print(df.describe(percentiles = [.5]).T)"
   ]
  },
  {
   "cell_type": "markdown",
   "metadata": {},
   "source": [
    "### b. Non-numerical"
   ]
  },
  {
   "cell_type": "code",
   "execution_count": 11,
   "metadata": {
    "scrolled": true
   },
   "outputs": [
    {
     "name": "stdout",
     "output_type": "stream",
     "text": [
      "['MSZoning', 'Street', 'Alley', 'LotShape', 'LandContour', 'Utilities', 'LotConfig', 'LandSlope', 'Neighborhood', 'Condition1', 'Condition2', 'BldgType', 'HouseStyle', 'RoofStyle', 'RoofMatl', 'Exterior1st', 'Exterior2nd', 'MasVnrType', 'ExterQual', 'ExterCond', 'Foundation', 'BsmtQual', 'BsmtCond', 'BsmtExposure', 'BsmtFinType1', 'BsmtFinType2', 'Heating', 'HeatingQC', 'CentralAir', 'Electrical', 'KitchenQual', 'Functional', 'FireplaceQu', 'GarageType', 'GarageFinish', 'GarageQual', 'GarageCond', 'PavedDrive', 'PoolQC', 'Fence', 'MiscFeature', 'SaleType', 'SaleCondition']\n"
     ]
    }
   ],
   "source": [
    "cat = []\n",
    "for c in list(df.columns):\n",
    "    if c not in list(df.describe().columns):\n",
    "        cat.append(c)\n",
    "print(cat)"
   ]
  },
  {
   "cell_type": "code",
   "execution_count": 13,
   "metadata": {
    "scrolled": false
   },
   "outputs": [
    {
     "name": "stdout",
     "output_type": "stream",
     "text": [
      "RL         78.8\n",
      "RM         14.9\n",
      "FV          4.5\n",
      "RH          1.1\n",
      "C (all)     0.7\n",
      "Name: MSZoning, dtype: float64\n",
      "-----------------------------\n",
      "Pave    99.6\n",
      "Grvl     0.4\n",
      "Name: Street, dtype: float64\n",
      "-----------------------------\n",
      "Grvl    3.4\n",
      "Pave    2.8\n",
      "Name: Alley, dtype: float64\n",
      "-----------------------------\n",
      "Reg    63.4\n",
      "IR1    33.2\n",
      "IR2     2.8\n",
      "IR3     0.7\n",
      "Name: LotShape, dtype: float64\n",
      "-----------------------------\n",
      "Lvl    89.8\n",
      "Bnk     4.3\n",
      "HLS     3.4\n",
      "Low     2.5\n",
      "Name: LandContour, dtype: float64\n",
      "-----------------------------\n",
      "AllPub    1.0e+02\n",
      "NoSeWa    6.8e-02\n",
      "Name: Utilities, dtype: float64\n",
      "-----------------------------\n",
      "Inside     72.1\n",
      "Corner     18.0\n",
      "CulDSac     6.4\n",
      "FR2         3.2\n",
      "FR3         0.3\n",
      "Name: LotConfig, dtype: float64\n",
      "-----------------------------\n",
      "Gtl    94.7\n",
      "Mod     4.5\n",
      "Sev     0.9\n",
      "Name: LandSlope, dtype: float64\n",
      "-----------------------------\n",
      "NAmes      15.4\n",
      "CollgCr    10.3\n",
      "OldTown     7.7\n",
      "Edwards     6.8\n",
      "Somerst     5.9\n",
      "Gilbert     5.4\n",
      "NridgHt     5.3\n",
      "Sawyer      5.1\n",
      "NWAmes      5.0\n",
      "SawyerW     4.0\n",
      "BrkSide     4.0\n",
      "Crawfor     3.5\n",
      "Mitchel     3.4\n",
      "NoRidge     2.8\n",
      "Timber      2.6\n",
      "IDOTRR      2.5\n",
      "ClearCr     1.9\n",
      "SWISU       1.7\n",
      "StoneBr     1.7\n",
      "Blmngtn     1.2\n",
      "MeadowV     1.2\n",
      "BrDale      1.1\n",
      "Veenker     0.8\n",
      "NPkVill     0.6\n",
      "Blueste     0.1\n",
      "Name: Neighborhood, dtype: float64\n",
      "-----------------------------\n",
      "Norm      86.3\n",
      "Feedr      5.5\n",
      "Artery     3.3\n",
      "RRAn       1.8\n",
      "PosN       1.3\n",
      "RRAe       0.8\n",
      "PosA       0.5\n",
      "RRNn       0.3\n",
      "RRNe       0.1\n",
      "Name: Condition1, dtype: float64\n",
      "-----------------------------\n",
      "Norm      9.9e+01\n",
      "Feedr     4.1e-01\n",
      "RRNn      1.4e-01\n",
      "PosN      1.4e-01\n",
      "Artery    1.4e-01\n",
      "RRAe      6.8e-02\n",
      "RRAn      6.8e-02\n",
      "PosA      6.8e-02\n",
      "Name: Condition2, dtype: float64\n",
      "-----------------------------\n",
      "1Fam      83.6\n",
      "TwnhsE     7.8\n",
      "Duplex     3.6\n",
      "Twnhs      2.9\n",
      "2fmCon     2.1\n",
      "Name: BldgType, dtype: float64\n",
      "-----------------------------\n",
      "1Story    49.7\n",
      "2Story    30.5\n",
      "1.5Fin    10.5\n",
      "SLvl       4.5\n",
      "SFoyer     2.5\n",
      "1.5Unf     1.0\n",
      "2.5Unf     0.8\n",
      "2.5Fin     0.5\n",
      "Name: HouseStyle, dtype: float64\n",
      "-----------------------------\n",
      "Gable      78.2\n",
      "Hip        19.6\n",
      "Flat        0.9\n",
      "Gambrel     0.8\n",
      "Mansard     0.5\n",
      "Shed        0.1\n",
      "Name: RoofStyle, dtype: float64\n",
      "-----------------------------\n",
      "CompShg    9.8e+01\n",
      "Tar&Grv    7.5e-01\n",
      "WdShngl    4.1e-01\n",
      "WdShake    3.4e-01\n",
      "Metal      6.8e-02\n",
      "ClyTile    6.8e-02\n",
      "Roll       6.8e-02\n",
      "Membran    6.8e-02\n",
      "Name: RoofMatl, dtype: float64\n",
      "-----------------------------\n",
      "VinylSd    3.5e+01\n",
      "HdBoard    1.5e+01\n",
      "MetalSd    1.5e+01\n",
      "Wd Sdng    1.4e+01\n",
      "Plywood    7.4e+00\n",
      "CemntBd    4.2e+00\n",
      "BrkFace    3.4e+00\n",
      "WdShing    1.8e+00\n",
      "Stucco     1.7e+00\n",
      "AsbShng    1.4e+00\n",
      "BrkComm    1.4e-01\n",
      "Stone      1.4e-01\n",
      "AsphShn    6.8e-02\n",
      "CBlock     6.8e-02\n",
      "ImStucc    6.8e-02\n",
      "Name: Exterior1st, dtype: float64\n",
      "-----------------------------\n",
      "VinylSd    3.5e+01\n",
      "MetalSd    1.5e+01\n",
      "HdBoard    1.4e+01\n",
      "Wd Sdng    1.3e+01\n",
      "Plywood    9.7e+00\n",
      "CmentBd    4.1e+00\n",
      "Wd Shng    2.6e+00\n",
      "Stucco     1.8e+00\n",
      "BrkFace    1.7e+00\n",
      "AsbShng    1.4e+00\n",
      "ImStucc    6.8e-01\n",
      "Brk Cmn    4.8e-01\n",
      "Stone      3.4e-01\n",
      "AsphShn    2.1e-01\n",
      "CBlock     6.8e-02\n",
      "Other      6.8e-02\n",
      "Name: Exterior2nd, dtype: float64\n",
      "-----------------------------\n",
      "None       59.2\n",
      "BrkFace    30.5\n",
      "Stone       8.8\n",
      "BrkCmn      1.0\n",
      "Name: MasVnrType, dtype: float64\n",
      "-----------------------------\n",
      "TA    62.1\n",
      "Gd    33.4\n",
      "Ex     3.6\n",
      "Fa     1.0\n",
      "Name: ExterQual, dtype: float64\n",
      "-----------------------------\n",
      "TA    8.8e+01\n",
      "Gd    1.0e+01\n",
      "Fa    1.9e+00\n",
      "Ex    2.1e-01\n",
      "Po    6.8e-02\n",
      "Name: ExterCond, dtype: float64\n",
      "-----------------------------\n",
      "PConc     44.3\n",
      "CBlock    43.4\n",
      "BrkTil    10.0\n",
      "Slab       1.6\n",
      "Stone      0.4\n",
      "Wood       0.2\n",
      "Name: Foundation, dtype: float64\n",
      "-----------------------------\n",
      "TA    44.5\n",
      "Gd    42.3\n",
      "Ex     8.3\n",
      "Fa     2.4\n",
      "Name: BsmtQual, dtype: float64\n",
      "-----------------------------\n",
      "TA    89.8\n",
      "Gd     4.5\n",
      "Fa     3.1\n",
      "Po     0.1\n",
      "Name: BsmtCond, dtype: float64\n",
      "-----------------------------\n",
      "No    65.3\n",
      "Av    15.1\n",
      "Gd     9.2\n",
      "Mn     7.8\n",
      "Name: BsmtExposure, dtype: float64\n",
      "-----------------------------\n",
      "Unf    29.5\n",
      "GLQ    28.6\n",
      "ALQ    15.1\n",
      "BLQ    10.1\n",
      "Rec     9.1\n",
      "LwQ     5.1\n",
      "Name: BsmtFinType1, dtype: float64\n",
      "-----------------------------\n",
      "Unf    86.0\n",
      "Rec     3.7\n",
      "LwQ     3.2\n",
      "BLQ     2.3\n",
      "ALQ     1.3\n",
      "GLQ     1.0\n",
      "Name: BsmtFinType2, dtype: float64\n",
      "-----------------------------\n",
      "GasA     9.8e+01\n",
      "GasW     1.2e+00\n",
      "Grav     4.8e-01\n",
      "Wall     2.7e-01\n",
      "OthW     1.4e-01\n",
      "Floor    6.8e-02\n",
      "Name: Heating, dtype: float64\n",
      "-----------------------------\n",
      "Ex    5.1e+01\n",
      "TA    2.9e+01\n",
      "Gd    1.7e+01\n",
      "Fa    3.4e+00\n",
      "Po    6.8e-02\n",
      "Name: HeatingQC, dtype: float64\n",
      "-----------------------------\n",
      "Y    93.5\n",
      "N     6.5\n",
      "Name: CentralAir, dtype: float64\n",
      "-----------------------------\n",
      "SBrkr    9.1e+01\n",
      "FuseA    6.4e+00\n",
      "FuseF    1.8e+00\n",
      "FuseP    2.1e-01\n",
      "Mix      6.8e-02\n",
      "Name: Electrical, dtype: float64\n",
      "-----------------------------\n",
      "TA    50.3\n",
      "Gd    40.1\n",
      "Ex     6.8\n",
      "Fa     2.7\n",
      "Name: KitchenQual, dtype: float64\n",
      "-----------------------------\n",
      "Typ     9.3e+01\n",
      "Min2    2.3e+00\n",
      "Min1    2.1e+00\n",
      "Mod     1.0e+00\n",
      "Maj1    9.6e-01\n",
      "Maj2    3.4e-01\n",
      "Sev     6.8e-02\n",
      "Name: Functional, dtype: float64\n",
      "-----------------------------\n",
      "Gd    26.0\n",
      "TA    21.4\n",
      "Fa     2.3\n",
      "Ex     1.6\n",
      "Po     1.4\n",
      "Name: FireplaceQu, dtype: float64\n",
      "-----------------------------\n",
      "Attchd     59.6\n",
      "Detchd     26.5\n",
      "BuiltIn     6.0\n",
      "Basment     1.3\n",
      "CarPort     0.6\n",
      "2Types      0.4\n",
      "Name: GarageType, dtype: float64\n",
      "-----------------------------\n",
      "Unf    41.4\n",
      "RFn    28.9\n",
      "Fin    24.1\n",
      "Name: GarageFinish, dtype: float64\n",
      "-----------------------------\n",
      "TA    89.8\n",
      "Fa     3.3\n",
      "Gd     1.0\n",
      "Ex     0.2\n",
      "Po     0.2\n",
      "Name: GarageQual, dtype: float64\n",
      "-----------------------------\n",
      "TA    90.8\n",
      "Fa     2.4\n",
      "Gd     0.6\n",
      "Po     0.5\n",
      "Ex     0.1\n",
      "Name: GarageCond, dtype: float64\n",
      "-----------------------------\n",
      "Y    91.8\n",
      "N     6.2\n",
      "P     2.1\n",
      "Name: PavedDrive, dtype: float64\n",
      "-----------------------------\n",
      "Gd    0.2\n",
      "Ex    0.1\n",
      "Fa    0.1\n",
      "Name: PoolQC, dtype: float64\n",
      "-----------------------------\n",
      "MnPrv    10.8\n",
      "GdPrv     4.0\n",
      "GdWo      3.7\n",
      "MnWw      0.8\n",
      "Name: Fence, dtype: float64\n",
      "-----------------------------\n",
      "Shed    3.4e+00\n",
      "Othr    1.4e-01\n",
      "Gar2    1.4e-01\n",
      "TenC    6.8e-02\n",
      "Name: MiscFeature, dtype: float64\n",
      "-----------------------------\n",
      "WD       86.8\n",
      "New       8.4\n",
      "COD       2.9\n",
      "ConLD     0.6\n",
      "ConLI     0.3\n",
      "ConLw     0.3\n",
      "CWD       0.3\n",
      "Oth       0.2\n",
      "Con       0.1\n",
      "Name: SaleType, dtype: float64\n",
      "-----------------------------\n",
      "Normal     82.1\n",
      "Partial     8.6\n",
      "Abnorml     6.9\n",
      "Family      1.4\n",
      "Alloca      0.8\n",
      "AdjLand     0.3\n",
      "Name: SaleCondition, dtype: float64\n",
      "-----------------------------\n"
     ]
    }
   ],
   "source": [
    "for c in cat:\n",
    "    print(100*df[c].value_counts()/m)\n",
    "    print(\"-----------------------------\")"
   ]
  },
  {
   "cell_type": "code",
   "execution_count": null,
   "metadata": {
    "collapsed": true
   },
   "outputs": [],
   "source": []
  },
  {
   "cell_type": "code",
   "execution_count": null,
   "metadata": {
    "collapsed": true
   },
   "outputs": [],
   "source": []
  },
  {
   "cell_type": "code",
   "execution_count": null,
   "metadata": {
    "collapsed": true
   },
   "outputs": [],
   "source": []
  },
  {
   "cell_type": "code",
   "execution_count": null,
   "metadata": {
    "collapsed": true
   },
   "outputs": [],
   "source": []
  }
 ],
 "metadata": {
  "kernelspec": {
   "display_name": "Python 3",
   "language": "python",
   "name": "python3"
  },
  "language_info": {
   "codemirror_mode": {
    "name": "ipython",
    "version": 3
   },
   "file_extension": ".py",
   "mimetype": "text/x-python",
   "name": "python",
   "nbconvert_exporter": "python",
   "pygments_lexer": "ipython3",
   "version": "3.6.4"
  }
 },
 "nbformat": 4,
 "nbformat_minor": 2
}
